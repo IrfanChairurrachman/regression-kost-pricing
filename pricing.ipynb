{
 "cells": [
  {
   "cell_type": "code",
   "execution_count": 1,
   "metadata": {},
   "outputs": [],
   "source": [
    "import pandas as pd \n",
    "import re as re # Regex"
   ]
  },
  {
   "cell_type": "code",
   "execution_count": 2,
   "metadata": {},
   "outputs": [
    {
     "data": {
      "text/html": [
       "<div>\n",
       "<style scoped>\n",
       "    .dataframe tbody tr th:only-of-type {\n",
       "        vertical-align: middle;\n",
       "    }\n",
       "\n",
       "    .dataframe tbody tr th {\n",
       "        vertical-align: top;\n",
       "    }\n",
       "\n",
       "    .dataframe thead th {\n",
       "        text-align: right;\n",
       "    }\n",
       "</style>\n",
       "<table border=\"1\" class=\"dataframe\">\n",
       "  <thead>\n",
       "    <tr style=\"text-align: right;\">\n",
       "      <th></th>\n",
       "      <th>url</th>\n",
       "      <th>nama</th>\n",
       "      <th>harga</th>\n",
       "      <th>jenis</th>\n",
       "      <th>address</th>\n",
       "      <th>aircon</th>\n",
       "      <th>free_wifi</th>\n",
       "      <th>kamar_mandi_dalam</th>\n",
       "      <th>fasilitas_kamar</th>\n",
       "      <th>fasilitas_kost</th>\n",
       "    </tr>\n",
       "  </thead>\n",
       "  <tbody>\n",
       "    <tr>\n",
       "      <th>0</th>\n",
       "      <td>https://www.sewakost.com/jakarta/selatan/kost-...</td>\n",
       "      <td>Kost Ciganjur Jalan Pasir No. 32</td>\n",
       "      <td>Rp 1.000.000</td>\n",
       "      <td>Kost Campur</td>\n",
       "      <td>Jalan Pasir no 32 Kp. Setu Rt 001/006 Keluraha...</td>\n",
       "      <td>Tidak</td>\n",
       "      <td>Tidak</td>\n",
       "      <td>Ya</td>\n",
       "      <td>['Kamar Mandi Dalam']</td>\n",
       "      <td>['Keamanan', 'Parkir Motor']</td>\n",
       "    </tr>\n",
       "    <tr>\n",
       "      <th>1</th>\n",
       "      <td>https://www.sewakost.com/jakarta/selatan/kost-...</td>\n",
       "      <td>KOST EXECUTIVE JAGAKARSA PASO CILANDAK JAKARTA...</td>\n",
       "      <td>Rp 2.200.000</td>\n",
       "      <td>Kost Putra</td>\n",
       "      <td>Jalan Paso no 6A, Jagakarsa, Cilandak, Jakarta...</td>\n",
       "      <td>Ya</td>\n",
       "      <td>Ya</td>\n",
       "      <td>Ya</td>\n",
       "      <td>['Spring Bed', 'Perabot', 'Free WiFi', 'AC', '...</td>\n",
       "      <td>['Ruang Tamu', 'Ruang Makan', 'Dapur', 'Air Mi...</td>\n",
       "    </tr>\n",
       "    <tr>\n",
       "      <th>2</th>\n",
       "      <td>https://www.sewakost.com/jakarta/selatan/kamar...</td>\n",
       "      <td>Kamar kost Putri NON AC di Mampang</td>\n",
       "      <td>Rp 850.000</td>\n",
       "      <td>Kost Putri</td>\n",
       "      <td>Jl.Mampang Prapatan VI Rt04 Rw02 No.70B</td>\n",
       "      <td>Tidak</td>\n",
       "      <td>Tidak</td>\n",
       "      <td>Tidak</td>\n",
       "      <td>[]</td>\n",
       "      <td>[]</td>\n",
       "    </tr>\n",
       "    <tr>\n",
       "      <th>3</th>\n",
       "      <td>https://www.sewakost.com/jakarta/selatan/hompy...</td>\n",
       "      <td>Hompy Timur Residence</td>\n",
       "      <td>Rp 2.700.000</td>\n",
       "      <td>Kost Putri</td>\n",
       "      <td>Tebet Timur Dalam 7B no. 11</td>\n",
       "      <td>Ya</td>\n",
       "      <td>Ya</td>\n",
       "      <td>Ya</td>\n",
       "      <td>['Spring Bed', 'Perabot', 'Free WiFi', 'AC', '...</td>\n",
       "      <td>['Dapur', 'Cuci Setrika', 'Pembantu', 'Keamana...</td>\n",
       "    </tr>\n",
       "    <tr>\n",
       "      <th>4</th>\n",
       "      <td>https://www.sewakost.com/jakarta/selatan/rumah...</td>\n",
       "      <td>Rumah kontrakan (40m2) Pasutri baru/karyawati/...</td>\n",
       "      <td>Rp 2.500.000</td>\n",
       "      <td>Kost Pasutri</td>\n",
       "      <td>Jalan keselamatan 18 RT10/RW03</td>\n",
       "      <td>Ya</td>\n",
       "      <td>Tidak</td>\n",
       "      <td>Ya</td>\n",
       "      <td>['AC', 'Kamar Mandi Dalam']</td>\n",
       "      <td>['Ruang Tamu', 'Ruang Makan', 'Dapur', 'Keaman...</td>\n",
       "    </tr>\n",
       "  </tbody>\n",
       "</table>\n",
       "</div>"
      ],
      "text/plain": [
       "                                                 url  \\\n",
       "0  https://www.sewakost.com/jakarta/selatan/kost-...   \n",
       "1  https://www.sewakost.com/jakarta/selatan/kost-...   \n",
       "2  https://www.sewakost.com/jakarta/selatan/kamar...   \n",
       "3  https://www.sewakost.com/jakarta/selatan/hompy...   \n",
       "4  https://www.sewakost.com/jakarta/selatan/rumah...   \n",
       "\n",
       "                                                nama         harga  \\\n",
       "0                   Kost Ciganjur Jalan Pasir No. 32  Rp 1.000.000   \n",
       "1  KOST EXECUTIVE JAGAKARSA PASO CILANDAK JAKARTA...  Rp 2.200.000   \n",
       "2                 Kamar kost Putri NON AC di Mampang    Rp 850.000   \n",
       "3                              Hompy Timur Residence  Rp 2.700.000   \n",
       "4  Rumah kontrakan (40m2) Pasutri baru/karyawati/...  Rp 2.500.000   \n",
       "\n",
       "          jenis                                            address aircon  \\\n",
       "0   Kost Campur  Jalan Pasir no 32 Kp. Setu Rt 001/006 Keluraha...  Tidak   \n",
       "1    Kost Putra  Jalan Paso no 6A, Jagakarsa, Cilandak, Jakarta...     Ya   \n",
       "2    Kost Putri            Jl.Mampang Prapatan VI Rt04 Rw02 No.70B  Tidak   \n",
       "3    Kost Putri                        Tebet Timur Dalam 7B no. 11     Ya   \n",
       "4  Kost Pasutri                     Jalan keselamatan 18 RT10/RW03     Ya   \n",
       "\n",
       "  free_wifi kamar_mandi_dalam  \\\n",
       "0     Tidak                Ya   \n",
       "1        Ya                Ya   \n",
       "2     Tidak             Tidak   \n",
       "3        Ya                Ya   \n",
       "4     Tidak                Ya   \n",
       "\n",
       "                                     fasilitas_kamar  \\\n",
       "0                              ['Kamar Mandi Dalam']   \n",
       "1  ['Spring Bed', 'Perabot', 'Free WiFi', 'AC', '...   \n",
       "2                                                 []   \n",
       "3  ['Spring Bed', 'Perabot', 'Free WiFi', 'AC', '...   \n",
       "4                        ['AC', 'Kamar Mandi Dalam']   \n",
       "\n",
       "                                      fasilitas_kost  \n",
       "0                       ['Keamanan', 'Parkir Motor']  \n",
       "1  ['Ruang Tamu', 'Ruang Makan', 'Dapur', 'Air Mi...  \n",
       "2                                                 []  \n",
       "3  ['Dapur', 'Cuci Setrika', 'Pembantu', 'Keamana...  \n",
       "4  ['Ruang Tamu', 'Ruang Makan', 'Dapur', 'Keaman...  "
      ]
     },
     "execution_count": 2,
     "metadata": {},
     "output_type": "execute_result"
    }
   ],
   "source": [
    "df = pd.read_csv('sewakost_40pages.tsv', sep=\"\\t\")\n",
    "\n",
    "df.head()"
   ]
  },
  {
   "cell_type": "code",
   "execution_count": 3,
   "metadata": {},
   "outputs": [
    {
     "data": {
      "text/plain": [
       "url                   0\n",
       "nama                  0\n",
       "harga                 0\n",
       "jenis                14\n",
       "address              14\n",
       "aircon               14\n",
       "free_wifi            14\n",
       "kamar_mandi_dalam    14\n",
       "fasilitas_kamar      14\n",
       "fasilitas_kost       14\n",
       "dtype: int64"
      ]
     },
     "execution_count": 3,
     "metadata": {},
     "output_type": "execute_result"
    }
   ],
   "source": [
    "# Terdapat kost dengan nilai NaN pada jenis dan fasilitas kost\n",
    "df.isnull().sum()"
   ]
  },
  {
   "cell_type": "code",
   "execution_count": 4,
   "metadata": {},
   "outputs": [
    {
     "data": {
      "text/html": [
       "<div>\n",
       "<style scoped>\n",
       "    .dataframe tbody tr th:only-of-type {\n",
       "        vertical-align: middle;\n",
       "    }\n",
       "\n",
       "    .dataframe tbody tr th {\n",
       "        vertical-align: top;\n",
       "    }\n",
       "\n",
       "    .dataframe thead th {\n",
       "        text-align: right;\n",
       "    }\n",
       "</style>\n",
       "<table border=\"1\" class=\"dataframe\">\n",
       "  <thead>\n",
       "    <tr style=\"text-align: right;\">\n",
       "      <th></th>\n",
       "      <th>url</th>\n",
       "      <th>nama</th>\n",
       "      <th>harga</th>\n",
       "      <th>jenis</th>\n",
       "      <th>address</th>\n",
       "      <th>aircon</th>\n",
       "      <th>free_wifi</th>\n",
       "      <th>kamar_mandi_dalam</th>\n",
       "      <th>fasilitas_kamar</th>\n",
       "      <th>fasilitas_kost</th>\n",
       "    </tr>\n",
       "  </thead>\n",
       "  <tbody>\n",
       "    <tr>\n",
       "      <th>483</th>\n",
       "      <td>https://www.sewakost.com/jakarta/selatan/indek...</td>\n",
       "      <td>INDEKOS ELITE DALAM CLUSTER FULL FURNISH</td>\n",
       "      <td>3.000.000</td>\n",
       "      <td>NaN</td>\n",
       "      <td>NaN</td>\n",
       "      <td>NaN</td>\n",
       "      <td>NaN</td>\n",
       "      <td>NaN</td>\n",
       "      <td>NaN</td>\n",
       "      <td>NaN</td>\n",
       "    </tr>\n",
       "    <tr>\n",
       "      <th>739</th>\n",
       "      <td>https://www.sewakost.com/jakarta/selatan/tebet...</td>\n",
       "      <td>TEBET EXECUTIVE RESIDENCE 141</td>\n",
       "      <td>3.550.000</td>\n",
       "      <td>NaN</td>\n",
       "      <td>NaN</td>\n",
       "      <td>NaN</td>\n",
       "      <td>NaN</td>\n",
       "      <td>NaN</td>\n",
       "      <td>NaN</td>\n",
       "      <td>NaN</td>\n",
       "    </tr>\n",
       "    <tr>\n",
       "      <th>740</th>\n",
       "      <td>https://www.sewakost.com/jakarta/selatan/sewa-...</td>\n",
       "      <td>Sewa Kost, Cilandak Barat, Jakarta Selatan</td>\n",
       "      <td>2.000.000</td>\n",
       "      <td>NaN</td>\n",
       "      <td>NaN</td>\n",
       "      <td>NaN</td>\n",
       "      <td>NaN</td>\n",
       "      <td>NaN</td>\n",
       "      <td>NaN</td>\n",
       "      <td>NaN</td>\n",
       "    </tr>\n",
       "    <tr>\n",
       "      <th>741</th>\n",
       "      <td>https://www.sewakost.com/jakarta/selatan/kos-d...</td>\n",
       "      <td>Kos di Lt.Agung dkt KRL Lt.Agung &amp; Tj.Brt</td>\n",
       "      <td>700.000</td>\n",
       "      <td>NaN</td>\n",
       "      <td>NaN</td>\n",
       "      <td>NaN</td>\n",
       "      <td>NaN</td>\n",
       "      <td>NaN</td>\n",
       "      <td>NaN</td>\n",
       "      <td>NaN</td>\n",
       "    </tr>\n",
       "    <tr>\n",
       "      <th>742</th>\n",
       "      <td>https://www.sewakost.com/jakarta/selatan/kost-...</td>\n",
       "      <td>Kost Wanita Tebet Dekat Pasar Tebet Barat dan ...</td>\n",
       "      <td>1.600.000</td>\n",
       "      <td>NaN</td>\n",
       "      <td>NaN</td>\n",
       "      <td>NaN</td>\n",
       "      <td>NaN</td>\n",
       "      <td>NaN</td>\n",
       "      <td>NaN</td>\n",
       "      <td>NaN</td>\n",
       "    </tr>\n",
       "  </tbody>\n",
       "</table>\n",
       "</div>"
      ],
      "text/plain": [
       "                                                   url  \\\n",
       "483  https://www.sewakost.com/jakarta/selatan/indek...   \n",
       "739  https://www.sewakost.com/jakarta/selatan/tebet...   \n",
       "740  https://www.sewakost.com/jakarta/selatan/sewa-...   \n",
       "741  https://www.sewakost.com/jakarta/selatan/kos-d...   \n",
       "742  https://www.sewakost.com/jakarta/selatan/kost-...   \n",
       "\n",
       "                                                  nama       harga jenis  \\\n",
       "483           INDEKOS ELITE DALAM CLUSTER FULL FURNISH   3.000.000   NaN   \n",
       "739                      TEBET EXECUTIVE RESIDENCE 141   3.550.000   NaN   \n",
       "740         Sewa Kost, Cilandak Barat, Jakarta Selatan   2.000.000   NaN   \n",
       "741          Kos di Lt.Agung dkt KRL Lt.Agung & Tj.Brt     700.000   NaN   \n",
       "742  Kost Wanita Tebet Dekat Pasar Tebet Barat dan ...   1.600.000   NaN   \n",
       "\n",
       "    address aircon free_wifi kamar_mandi_dalam fasilitas_kamar fasilitas_kost  \n",
       "483     NaN    NaN       NaN               NaN             NaN            NaN  \n",
       "739     NaN    NaN       NaN               NaN             NaN            NaN  \n",
       "740     NaN    NaN       NaN               NaN             NaN            NaN  \n",
       "741     NaN    NaN       NaN               NaN             NaN            NaN  \n",
       "742     NaN    NaN       NaN               NaN             NaN            NaN  "
      ]
     },
     "execution_count": 4,
     "metadata": {},
     "output_type": "execute_result"
    }
   ],
   "source": [
    "df[df.isnull().any(axis=1)].head()"
   ]
  },
  {
   "cell_type": "code",
   "execution_count": 5,
   "metadata": {},
   "outputs": [
    {
     "data": {
      "text/plain": [
       "url                  0\n",
       "nama                 0\n",
       "harga                0\n",
       "jenis                0\n",
       "address              0\n",
       "aircon               0\n",
       "free_wifi            0\n",
       "kamar_mandi_dalam    0\n",
       "fasilitas_kamar      0\n",
       "fasilitas_kost       0\n",
       "dtype: int64"
      ]
     },
     "execution_count": 5,
     "metadata": {},
     "output_type": "execute_result"
    }
   ],
   "source": [
    "# Drop semua baris dengan nilai NaN karena tidak dapat digunakan untuk tahap analisis\n",
    "df.dropna(inplace=True)\n",
    "\n",
    "df.isnull().sum()"
   ]
  },
  {
   "cell_type": "code",
   "execution_count": 6,
   "metadata": {},
   "outputs": [],
   "source": [
    "# Mengambil setiap nilai numerik kemudian mengubah ke dalam bentuk integer\n",
    "def find_number(text):\n",
    "    try:\n",
    "        num = \"\".join(re.findall(r'[\\d]+',text))\n",
    "        return int(num)\n",
    "    except:\n",
    "        return 0"
   ]
  },
  {
   "cell_type": "code",
   "execution_count": 7,
   "metadata": {},
   "outputs": [
    {
     "data": {
      "text/html": [
       "<div>\n",
       "<style scoped>\n",
       "    .dataframe tbody tr th:only-of-type {\n",
       "        vertical-align: middle;\n",
       "    }\n",
       "\n",
       "    .dataframe tbody tr th {\n",
       "        vertical-align: top;\n",
       "    }\n",
       "\n",
       "    .dataframe thead th {\n",
       "        text-align: right;\n",
       "    }\n",
       "</style>\n",
       "<table border=\"1\" class=\"dataframe\">\n",
       "  <thead>\n",
       "    <tr style=\"text-align: right;\">\n",
       "      <th></th>\n",
       "      <th>url</th>\n",
       "      <th>nama</th>\n",
       "      <th>harga</th>\n",
       "      <th>jenis</th>\n",
       "      <th>address</th>\n",
       "      <th>aircon</th>\n",
       "      <th>free_wifi</th>\n",
       "      <th>kamar_mandi_dalam</th>\n",
       "      <th>fasilitas_kamar</th>\n",
       "      <th>fasilitas_kost</th>\n",
       "    </tr>\n",
       "  </thead>\n",
       "  <tbody>\n",
       "    <tr>\n",
       "      <th>0</th>\n",
       "      <td>https://www.sewakost.com/jakarta/selatan/kost-...</td>\n",
       "      <td>Kost Ciganjur Jalan Pasir No. 32</td>\n",
       "      <td>1000000</td>\n",
       "      <td>Kost Campur</td>\n",
       "      <td>Jalan Pasir no 32 Kp. Setu Rt 001/006 Keluraha...</td>\n",
       "      <td>Tidak</td>\n",
       "      <td>Tidak</td>\n",
       "      <td>Ya</td>\n",
       "      <td>['Kamar Mandi Dalam']</td>\n",
       "      <td>['Keamanan', 'Parkir Motor']</td>\n",
       "    </tr>\n",
       "    <tr>\n",
       "      <th>1</th>\n",
       "      <td>https://www.sewakost.com/jakarta/selatan/kost-...</td>\n",
       "      <td>KOST EXECUTIVE JAGAKARSA PASO CILANDAK JAKARTA...</td>\n",
       "      <td>2200000</td>\n",
       "      <td>Kost Putra</td>\n",
       "      <td>Jalan Paso no 6A, Jagakarsa, Cilandak, Jakarta...</td>\n",
       "      <td>Ya</td>\n",
       "      <td>Ya</td>\n",
       "      <td>Ya</td>\n",
       "      <td>['Spring Bed', 'Perabot', 'Free WiFi', 'AC', '...</td>\n",
       "      <td>['Ruang Tamu', 'Ruang Makan', 'Dapur', 'Air Mi...</td>\n",
       "    </tr>\n",
       "    <tr>\n",
       "      <th>2</th>\n",
       "      <td>https://www.sewakost.com/jakarta/selatan/kamar...</td>\n",
       "      <td>Kamar kost Putri NON AC di Mampang</td>\n",
       "      <td>850000</td>\n",
       "      <td>Kost Putri</td>\n",
       "      <td>Jl.Mampang Prapatan VI Rt04 Rw02 No.70B</td>\n",
       "      <td>Tidak</td>\n",
       "      <td>Tidak</td>\n",
       "      <td>Tidak</td>\n",
       "      <td>[]</td>\n",
       "      <td>[]</td>\n",
       "    </tr>\n",
       "    <tr>\n",
       "      <th>3</th>\n",
       "      <td>https://www.sewakost.com/jakarta/selatan/hompy...</td>\n",
       "      <td>Hompy Timur Residence</td>\n",
       "      <td>2700000</td>\n",
       "      <td>Kost Putri</td>\n",
       "      <td>Tebet Timur Dalam 7B no. 11</td>\n",
       "      <td>Ya</td>\n",
       "      <td>Ya</td>\n",
       "      <td>Ya</td>\n",
       "      <td>['Spring Bed', 'Perabot', 'Free WiFi', 'AC', '...</td>\n",
       "      <td>['Dapur', 'Cuci Setrika', 'Pembantu', 'Keamana...</td>\n",
       "    </tr>\n",
       "    <tr>\n",
       "      <th>4</th>\n",
       "      <td>https://www.sewakost.com/jakarta/selatan/rumah...</td>\n",
       "      <td>Rumah kontrakan (40m2) Pasutri baru/karyawati/...</td>\n",
       "      <td>2500000</td>\n",
       "      <td>Kost Pasutri</td>\n",
       "      <td>Jalan keselamatan 18 RT10/RW03</td>\n",
       "      <td>Ya</td>\n",
       "      <td>Tidak</td>\n",
       "      <td>Ya</td>\n",
       "      <td>['AC', 'Kamar Mandi Dalam']</td>\n",
       "      <td>['Ruang Tamu', 'Ruang Makan', 'Dapur', 'Keaman...</td>\n",
       "    </tr>\n",
       "  </tbody>\n",
       "</table>\n",
       "</div>"
      ],
      "text/plain": [
       "                                                 url  \\\n",
       "0  https://www.sewakost.com/jakarta/selatan/kost-...   \n",
       "1  https://www.sewakost.com/jakarta/selatan/kost-...   \n",
       "2  https://www.sewakost.com/jakarta/selatan/kamar...   \n",
       "3  https://www.sewakost.com/jakarta/selatan/hompy...   \n",
       "4  https://www.sewakost.com/jakarta/selatan/rumah...   \n",
       "\n",
       "                                                nama    harga         jenis  \\\n",
       "0                   Kost Ciganjur Jalan Pasir No. 32  1000000   Kost Campur   \n",
       "1  KOST EXECUTIVE JAGAKARSA PASO CILANDAK JAKARTA...  2200000    Kost Putra   \n",
       "2                 Kamar kost Putri NON AC di Mampang   850000    Kost Putri   \n",
       "3                              Hompy Timur Residence  2700000    Kost Putri   \n",
       "4  Rumah kontrakan (40m2) Pasutri baru/karyawati/...  2500000  Kost Pasutri   \n",
       "\n",
       "                                             address aircon free_wifi  \\\n",
       "0  Jalan Pasir no 32 Kp. Setu Rt 001/006 Keluraha...  Tidak     Tidak   \n",
       "1  Jalan Paso no 6A, Jagakarsa, Cilandak, Jakarta...     Ya        Ya   \n",
       "2            Jl.Mampang Prapatan VI Rt04 Rw02 No.70B  Tidak     Tidak   \n",
       "3                        Tebet Timur Dalam 7B no. 11     Ya        Ya   \n",
       "4                     Jalan keselamatan 18 RT10/RW03     Ya     Tidak   \n",
       "\n",
       "  kamar_mandi_dalam                                    fasilitas_kamar  \\\n",
       "0                Ya                              ['Kamar Mandi Dalam']   \n",
       "1                Ya  ['Spring Bed', 'Perabot', 'Free WiFi', 'AC', '...   \n",
       "2             Tidak                                                 []   \n",
       "3                Ya  ['Spring Bed', 'Perabot', 'Free WiFi', 'AC', '...   \n",
       "4                Ya                        ['AC', 'Kamar Mandi Dalam']   \n",
       "\n",
       "                                      fasilitas_kost  \n",
       "0                       ['Keamanan', 'Parkir Motor']  \n",
       "1  ['Ruang Tamu', 'Ruang Makan', 'Dapur', 'Air Mi...  \n",
       "2                                                 []  \n",
       "3  ['Dapur', 'Cuci Setrika', 'Pembantu', 'Keamana...  \n",
       "4  ['Ruang Tamu', 'Ruang Makan', 'Dapur', 'Keaman...  "
      ]
     },
     "execution_count": 7,
     "metadata": {},
     "output_type": "execute_result"
    }
   ],
   "source": [
    "# Mengubah seluruh kolom harga menjadi integer\n",
    "df['harga'] = df['harga'].apply(lambda x: find_number(x))\n",
    "\n",
    "df.head()"
   ]
  },
  {
   "cell_type": "code",
   "execution_count": 8,
   "metadata": {},
   "outputs": [
    {
     "data": {
      "text/html": [
       "<div>\n",
       "<style scoped>\n",
       "    .dataframe tbody tr th:only-of-type {\n",
       "        vertical-align: middle;\n",
       "    }\n",
       "\n",
       "    .dataframe tbody tr th {\n",
       "        vertical-align: top;\n",
       "    }\n",
       "\n",
       "    .dataframe thead th {\n",
       "        text-align: right;\n",
       "    }\n",
       "</style>\n",
       "<table border=\"1\" class=\"dataframe\">\n",
       "  <thead>\n",
       "    <tr style=\"text-align: right;\">\n",
       "      <th></th>\n",
       "      <th>harga</th>\n",
       "    </tr>\n",
       "  </thead>\n",
       "  <tbody>\n",
       "    <tr>\n",
       "      <th>count</th>\n",
       "      <td>9.440000e+02</td>\n",
       "    </tr>\n",
       "    <tr>\n",
       "      <th>mean</th>\n",
       "      <td>3.816841e+09</td>\n",
       "    </tr>\n",
       "    <tr>\n",
       "      <th>std</th>\n",
       "      <td>8.280764e+10</td>\n",
       "    </tr>\n",
       "    <tr>\n",
       "      <th>min</th>\n",
       "      <td>0.000000e+00</td>\n",
       "    </tr>\n",
       "    <tr>\n",
       "      <th>25%</th>\n",
       "      <td>1.000000e+06</td>\n",
       "    </tr>\n",
       "    <tr>\n",
       "      <th>50%</th>\n",
       "      <td>1.650000e+06</td>\n",
       "    </tr>\n",
       "    <tr>\n",
       "      <th>75%</th>\n",
       "      <td>2.350000e+06</td>\n",
       "    </tr>\n",
       "    <tr>\n",
       "      <th>max</th>\n",
       "      <td>1.800000e+12</td>\n",
       "    </tr>\n",
       "  </tbody>\n",
       "</table>\n",
       "</div>"
      ],
      "text/plain": [
       "              harga\n",
       "count  9.440000e+02\n",
       "mean   3.816841e+09\n",
       "std    8.280764e+10\n",
       "min    0.000000e+00\n",
       "25%    1.000000e+06\n",
       "50%    1.650000e+06\n",
       "75%    2.350000e+06\n",
       "max    1.800000e+12"
      ]
     },
     "execution_count": 8,
     "metadata": {},
     "output_type": "execute_result"
    }
   ],
   "source": [
    "df.describe()"
   ]
  },
  {
   "cell_type": "code",
   "execution_count": 9,
   "metadata": {},
   "outputs": [
    {
     "data": {
      "text/plain": [
       "(872, 10)"
      ]
     },
     "execution_count": 9,
     "metadata": {},
     "output_type": "execute_result"
    }
   ],
   "source": [
    "# Drop harga kos di bawah 300rb dan di atas 5 juta\n",
    "df = df[(df['harga']>=300000) & (df['harga']<=5000000)]\n",
    "\n",
    "df.shape"
   ]
  },
  {
   "cell_type": "code",
   "execution_count": 10,
   "metadata": {},
   "outputs": [
    {
     "data": {
      "text/plain": [
       "array(['Kost Campur', 'Kost Putra', 'Kost Putri', 'Kost Pasutri',\n",
       "       'Kost Keluarga'], dtype=object)"
      ]
     },
     "execution_count": 10,
     "metadata": {},
     "output_type": "execute_result"
    }
   ],
   "source": [
    "df['jenis'].unique()"
   ]
  },
  {
   "cell_type": "code",
   "execution_count": 11,
   "metadata": {},
   "outputs": [
    {
     "data": {
      "text/plain": [
       "url                  object\n",
       "nama                 object\n",
       "harga                 int64\n",
       "jenis                object\n",
       "address              object\n",
       "aircon               object\n",
       "free_wifi            object\n",
       "kamar_mandi_dalam    object\n",
       "fasilitas_kamar      object\n",
       "fasilitas_kost       object\n",
       "dtype: object"
      ]
     },
     "execution_count": 11,
     "metadata": {},
     "output_type": "execute_result"
    }
   ],
   "source": [
    "df.dtypes"
   ]
  },
  {
   "cell_type": "code",
   "execution_count": 12,
   "metadata": {},
   "outputs": [
    {
     "data": {
      "text/plain": [
       "url                    object\n",
       "nama                   object\n",
       "harga                   int64\n",
       "jenis                category\n",
       "address                object\n",
       "aircon               category\n",
       "free_wifi            category\n",
       "kamar_mandi_dalam    category\n",
       "fasilitas_kamar        object\n",
       "fasilitas_kost         object\n",
       "dtype: object"
      ]
     },
     "execution_count": 12,
     "metadata": {},
     "output_type": "execute_result"
    }
   ],
   "source": [
    "# Mengubah jenis kost pasutri -> kost keluarga\n",
    "df['jenis'] = df['jenis'].replace('Kost Pasutri', 'Kost Keluarga')\n",
    "\n",
    "# Mengubah ke dalam bentuk kategorikal\n",
    "categorical = ['jenis', 'aircon', 'free_wifi', 'kamar_mandi_dalam']\n",
    "df[categorical] = df[categorical].astype('category')\n",
    "\n",
    "df.dtypes"
   ]
  },
  {
   "cell_type": "markdown",
   "metadata": {},
   "source": [
    "1. Get unique in `fasilitas_kamar`\n",
    "2. Looping dan ekstrak setiap fasilitas\n",
    "3. Fasilitas dibuat menjadi kolom baru\n",
    "4. Iterasi setiap baris pada dataframe dan cek kolom fasilitas kamar (iterasi lagi per kolom fasilitas yang baru) pakai `is in` maybe. Jika ada maka `Yes` atau `1` di kolom per fasilitas."
   ]
  },
  {
   "cell_type": "code",
   "execution_count": 47,
   "metadata": {},
   "outputs": [],
   "source": [
    "def get_fasilitas(data_fasilitas):\n",
    "    fasilitas = []\n",
    "    for n in data_fasilitas:\n",
    "        data = n[1:-1]\n",
    "        if data == \"\":\n",
    "            continue\n",
    "        list_fas = data.replace(\"'\", \"\").split(\", \")\n",
    "        for fas in list_fas:\n",
    "            if fas not in fasilitas:\n",
    "                fasilitas.append(fas)\n",
    "    \n",
    "    return fasilitas"
   ]
  },
  {
   "cell_type": "code",
   "execution_count": 51,
   "metadata": {},
   "outputs": [
    {
     "name": "stdout",
     "output_type": "stream",
     "text": [
      "['Kamar Mandi Dalam', 'Spring Bed', 'Perabot', 'Free WiFi', 'AC', 'TV', 'Pemanas Air (Water Heater)', 'Kulkas']\n",
      "['Keamanan', 'Parkir Motor', 'Ruang Tamu', 'Ruang Makan', 'Dapur', 'Air Minum', 'Pembantu', 'Parkir Mobil', 'Cuci Setrika', 'Mesin Cuci (Cuci Sendiri)', 'Televisi']\n"
     ]
    }
   ],
   "source": [
    "fasilitas_kamar = get_fasilitas(df['fasilitas_kamar'].unique())\n",
    "print(fasilitas_kamar)\n",
    "\n",
    "fasilitas_kost = get_fasilitas(df['fasilitas_kost'].unique())\n",
    "print(fasilitas_kost)"
   ]
  }
 ],
 "metadata": {
  "kernelspec": {
   "display_name": "Python 3.8.13 ('flaskui')",
   "language": "python",
   "name": "python3"
  },
  "language_info": {
   "codemirror_mode": {
    "name": "ipython",
    "version": 3
   },
   "file_extension": ".py",
   "mimetype": "text/x-python",
   "name": "python",
   "nbconvert_exporter": "python",
   "pygments_lexer": "ipython3",
   "version": "3.8.13"
  },
  "orig_nbformat": 4,
  "vscode": {
   "interpreter": {
    "hash": "8468a945814aeffd535e1d3fa22ffa25ae2a363af3badfa537b6a03c67f45312"
   }
  }
 },
 "nbformat": 4,
 "nbformat_minor": 2
}
