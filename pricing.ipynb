{
 "cells": [
  {
   "cell_type": "markdown",
   "metadata": {},
   "source": [
    "# Kost Pricing\n",
    "\n",
    "Pada notebook ini akan dilakukan analisis dalam penentuan harga kost terhadap fasilitas kost. Penentuan harga kost (atau `pricing`) menggunakan algoritma regresi *machine learning* dan juga akan dilakukan interpretasi model untuk analisis fasilitas apa saja yang paling berpengaruh terhadap penentuan harga.\n",
    "\n",
    "Notebook ini berangkat dari permasalahan ketika seorang pemilik kostan ingin menentukan harga kost perbulannya untuk mendapatkan keuntungan maksimal serta tetap dapat bersaing dengan harga kost lainnya.\n",
    "\n",
    "Kenapa harus regresi? Kenapa tidak mencari rata-rata/median kost dengan fasilitas yang sama? Permasalahannya adalah bahwa belum tentu selalu ada kombinasi fasilitas kost yang sama dengan kost yang akan ditentukan harganya. Sehingga dilakukan pembangunan model regresi sehingga masukan/kombinasi fasilitas apapun dari kost dapat diprediksi harganya.\n",
    "\n",
    "Tujuan yang akan dicapai dalam notebook ini antara lain:\n",
    "1. Melakukan prediksi harga kost berdasarkan fasilitas kost dengan menerapkan algoritma machine learning Regresi Linear, Random Forest Regressor dan juga AdaBoost Regressor.\n",
    "2. Melakukan analisis terhadap variabel yang paling berpengaruh terhadap hasil prediksi model machine learning yang telah dilatih.\n",
    "\n",
    "Adapun pembahasan dalam notebook ini antara lain:\n",
    "1. Persiapan dan Pembersihan Dataset\n",
    "2. Eksplorasi Data\n",
    "3. Persiapan Data untuk Model\n",
    "4. Pembangunan Model\n",
    "5. Evaluasi Model\n",
    "6. Perbandingan dengan metode sederhana (atau bisa diatas, sebagai alasan kenapa dilakukan regresi?)\n",
    "7. Kesimpulan"
   ]
  },
  {
   "cell_type": "markdown",
   "metadata": {},
   "source": [
    "# Data Pipeline"
   ]
  },
  {
   "cell_type": "markdown",
   "metadata": {},
   "source": [
    "## Persiapan dan Pembersihan Data"
   ]
  },
  {
   "cell_type": "markdown",
   "metadata": {},
   "source": [
    "**Membaca Data**"
   ]
  },
  {
   "cell_type": "code",
   "execution_count": 69,
   "metadata": {},
   "outputs": [],
   "source": [
    "import pandas as pd \n",
    "import re as re # Regex"
   ]
  },
  {
   "cell_type": "code",
   "execution_count": 70,
   "metadata": {},
   "outputs": [
    {
     "data": {
      "text/html": [
       "<div>\n",
       "<style scoped>\n",
       "    .dataframe tbody tr th:only-of-type {\n",
       "        vertical-align: middle;\n",
       "    }\n",
       "\n",
       "    .dataframe tbody tr th {\n",
       "        vertical-align: top;\n",
       "    }\n",
       "\n",
       "    .dataframe thead th {\n",
       "        text-align: right;\n",
       "    }\n",
       "</style>\n",
       "<table border=\"1\" class=\"dataframe\">\n",
       "  <thead>\n",
       "    <tr style=\"text-align: right;\">\n",
       "      <th></th>\n",
       "      <th>url</th>\n",
       "      <th>nama</th>\n",
       "      <th>harga</th>\n",
       "      <th>jenis</th>\n",
       "      <th>address</th>\n",
       "      <th>aircon</th>\n",
       "      <th>free_wifi</th>\n",
       "      <th>kamar_mandi_dalam</th>\n",
       "      <th>fasilitas_kamar</th>\n",
       "      <th>fasilitas_kost</th>\n",
       "    </tr>\n",
       "  </thead>\n",
       "  <tbody>\n",
       "    <tr>\n",
       "      <th>0</th>\n",
       "      <td>https://www.sewakost.com/jakarta/selatan/kost-...</td>\n",
       "      <td>Kost Ciganjur Jalan Pasir No. 32</td>\n",
       "      <td>Rp 1.000.000</td>\n",
       "      <td>Kost Campur</td>\n",
       "      <td>Jalan Pasir no 32 Kp. Setu Rt 001/006 Keluraha...</td>\n",
       "      <td>Tidak</td>\n",
       "      <td>Tidak</td>\n",
       "      <td>Ya</td>\n",
       "      <td>['Kamar Mandi Dalam']</td>\n",
       "      <td>['Keamanan', 'Parkir Motor']</td>\n",
       "    </tr>\n",
       "    <tr>\n",
       "      <th>1</th>\n",
       "      <td>https://www.sewakost.com/jakarta/selatan/kost-...</td>\n",
       "      <td>KOST EXECUTIVE JAGAKARSA PASO CILANDAK JAKARTA...</td>\n",
       "      <td>Rp 2.200.000</td>\n",
       "      <td>Kost Putra</td>\n",
       "      <td>Jalan Paso no 6A, Jagakarsa, Cilandak, Jakarta...</td>\n",
       "      <td>Ya</td>\n",
       "      <td>Ya</td>\n",
       "      <td>Ya</td>\n",
       "      <td>['Spring Bed', 'Perabot', 'Free WiFi', 'AC', '...</td>\n",
       "      <td>['Ruang Tamu', 'Ruang Makan', 'Dapur', 'Air Mi...</td>\n",
       "    </tr>\n",
       "    <tr>\n",
       "      <th>2</th>\n",
       "      <td>https://www.sewakost.com/jakarta/selatan/kamar...</td>\n",
       "      <td>Kamar kost Putri NON AC di Mampang</td>\n",
       "      <td>Rp 850.000</td>\n",
       "      <td>Kost Putri</td>\n",
       "      <td>Jl.Mampang Prapatan VI Rt04 Rw02 No.70B</td>\n",
       "      <td>Tidak</td>\n",
       "      <td>Tidak</td>\n",
       "      <td>Tidak</td>\n",
       "      <td>[]</td>\n",
       "      <td>[]</td>\n",
       "    </tr>\n",
       "    <tr>\n",
       "      <th>3</th>\n",
       "      <td>https://www.sewakost.com/jakarta/selatan/hompy...</td>\n",
       "      <td>Hompy Timur Residence</td>\n",
       "      <td>Rp 2.700.000</td>\n",
       "      <td>Kost Putri</td>\n",
       "      <td>Tebet Timur Dalam 7B no. 11</td>\n",
       "      <td>Ya</td>\n",
       "      <td>Ya</td>\n",
       "      <td>Ya</td>\n",
       "      <td>['Spring Bed', 'Perabot', 'Free WiFi', 'AC', '...</td>\n",
       "      <td>['Dapur', 'Cuci Setrika', 'Pembantu', 'Keamana...</td>\n",
       "    </tr>\n",
       "    <tr>\n",
       "      <th>4</th>\n",
       "      <td>https://www.sewakost.com/jakarta/selatan/rumah...</td>\n",
       "      <td>Rumah kontrakan (40m2) Pasutri baru/karyawati/...</td>\n",
       "      <td>Rp 2.500.000</td>\n",
       "      <td>Kost Pasutri</td>\n",
       "      <td>Jalan keselamatan 18 RT10/RW03</td>\n",
       "      <td>Ya</td>\n",
       "      <td>Tidak</td>\n",
       "      <td>Ya</td>\n",
       "      <td>['AC', 'Kamar Mandi Dalam']</td>\n",
       "      <td>['Ruang Tamu', 'Ruang Makan', 'Dapur', 'Keaman...</td>\n",
       "    </tr>\n",
       "  </tbody>\n",
       "</table>\n",
       "</div>"
      ],
      "text/plain": [
       "                                                 url  \\\n",
       "0  https://www.sewakost.com/jakarta/selatan/kost-...   \n",
       "1  https://www.sewakost.com/jakarta/selatan/kost-...   \n",
       "2  https://www.sewakost.com/jakarta/selatan/kamar...   \n",
       "3  https://www.sewakost.com/jakarta/selatan/hompy...   \n",
       "4  https://www.sewakost.com/jakarta/selatan/rumah...   \n",
       "\n",
       "                                                nama         harga  \\\n",
       "0                   Kost Ciganjur Jalan Pasir No. 32  Rp 1.000.000   \n",
       "1  KOST EXECUTIVE JAGAKARSA PASO CILANDAK JAKARTA...  Rp 2.200.000   \n",
       "2                 Kamar kost Putri NON AC di Mampang    Rp 850.000   \n",
       "3                              Hompy Timur Residence  Rp 2.700.000   \n",
       "4  Rumah kontrakan (40m2) Pasutri baru/karyawati/...  Rp 2.500.000   \n",
       "\n",
       "          jenis                                            address aircon  \\\n",
       "0   Kost Campur  Jalan Pasir no 32 Kp. Setu Rt 001/006 Keluraha...  Tidak   \n",
       "1    Kost Putra  Jalan Paso no 6A, Jagakarsa, Cilandak, Jakarta...     Ya   \n",
       "2    Kost Putri            Jl.Mampang Prapatan VI Rt04 Rw02 No.70B  Tidak   \n",
       "3    Kost Putri                        Tebet Timur Dalam 7B no. 11     Ya   \n",
       "4  Kost Pasutri                     Jalan keselamatan 18 RT10/RW03     Ya   \n",
       "\n",
       "  free_wifi kamar_mandi_dalam  \\\n",
       "0     Tidak                Ya   \n",
       "1        Ya                Ya   \n",
       "2     Tidak             Tidak   \n",
       "3        Ya                Ya   \n",
       "4     Tidak                Ya   \n",
       "\n",
       "                                     fasilitas_kamar  \\\n",
       "0                              ['Kamar Mandi Dalam']   \n",
       "1  ['Spring Bed', 'Perabot', 'Free WiFi', 'AC', '...   \n",
       "2                                                 []   \n",
       "3  ['Spring Bed', 'Perabot', 'Free WiFi', 'AC', '...   \n",
       "4                        ['AC', 'Kamar Mandi Dalam']   \n",
       "\n",
       "                                      fasilitas_kost  \n",
       "0                       ['Keamanan', 'Parkir Motor']  \n",
       "1  ['Ruang Tamu', 'Ruang Makan', 'Dapur', 'Air Mi...  \n",
       "2                                                 []  \n",
       "3  ['Dapur', 'Cuci Setrika', 'Pembantu', 'Keamana...  \n",
       "4  ['Ruang Tamu', 'Ruang Makan', 'Dapur', 'Keaman...  "
      ]
     },
     "execution_count": 70,
     "metadata": {},
     "output_type": "execute_result"
    }
   ],
   "source": [
    "df = pd.read_csv('sewakost_40pages.tsv', sep=\"\\t\")\n",
    "\n",
    "df.head()"
   ]
  },
  {
   "cell_type": "markdown",
   "metadata": {},
   "source": [
    "Kolom:\n",
    "1. `name`: Nama kost\n",
    "2. `url`: URL kost\n",
    "3. `harga`: Harga per bulan\n",
    "4. `jenis`: Jenis kost: putra, putri or campur\n",
    "5. `address`: Alamat\n",
    "6. `aircon`: biner, apakah kost mempunyai AC atau tidak\n",
    "7. `free_wifi`: biner, apakah kost menyediakan wifi gratis atau tidak\n",
    "8. `kamar_mandi_dalam`: biner, apakah kamar kost mempunyai kamar mandi dalam atau tidak\n",
    "9. `fasiltas_kamar`: list fasilitas di dalam kamar\n",
    "10. `fasilitas_kost`: list fasilitas bersama di gedung kost"
   ]
  },
  {
   "cell_type": "markdown",
   "metadata": {},
   "source": [
    "## Drop Nilai NaN\n",
    "\n",
    "Pada bagian ini akan dilihat apakah terdapat nilai NaN pada dataset. Jika terdapat data yang memiliki nilai NaN maka akan dihapus berhubung data tersebut tidak dapat digunakan untuk masukan model."
   ]
  },
  {
   "cell_type": "code",
   "execution_count": 71,
   "metadata": {},
   "outputs": [
    {
     "data": {
      "text/plain": [
       "url                   0\n",
       "nama                  0\n",
       "harga                 0\n",
       "jenis                14\n",
       "address              14\n",
       "aircon               14\n",
       "free_wifi            14\n",
       "kamar_mandi_dalam    14\n",
       "fasilitas_kamar      14\n",
       "fasilitas_kost       14\n",
       "dtype: int64"
      ]
     },
     "execution_count": 71,
     "metadata": {},
     "output_type": "execute_result"
    }
   ],
   "source": [
    "# Melihat jumlah baris dengan NaN perkolomnya\n",
    "df.isnull().sum()"
   ]
  },
  {
   "cell_type": "code",
   "execution_count": 72,
   "metadata": {},
   "outputs": [
    {
     "data": {
      "text/html": [
       "<div>\n",
       "<style scoped>\n",
       "    .dataframe tbody tr th:only-of-type {\n",
       "        vertical-align: middle;\n",
       "    }\n",
       "\n",
       "    .dataframe tbody tr th {\n",
       "        vertical-align: top;\n",
       "    }\n",
       "\n",
       "    .dataframe thead th {\n",
       "        text-align: right;\n",
       "    }\n",
       "</style>\n",
       "<table border=\"1\" class=\"dataframe\">\n",
       "  <thead>\n",
       "    <tr style=\"text-align: right;\">\n",
       "      <th></th>\n",
       "      <th>url</th>\n",
       "      <th>nama</th>\n",
       "      <th>harga</th>\n",
       "      <th>jenis</th>\n",
       "      <th>address</th>\n",
       "      <th>aircon</th>\n",
       "      <th>free_wifi</th>\n",
       "      <th>kamar_mandi_dalam</th>\n",
       "      <th>fasilitas_kamar</th>\n",
       "      <th>fasilitas_kost</th>\n",
       "    </tr>\n",
       "  </thead>\n",
       "  <tbody>\n",
       "    <tr>\n",
       "      <th>483</th>\n",
       "      <td>https://www.sewakost.com/jakarta/selatan/indek...</td>\n",
       "      <td>INDEKOS ELITE DALAM CLUSTER FULL FURNISH</td>\n",
       "      <td>3.000.000</td>\n",
       "      <td>NaN</td>\n",
       "      <td>NaN</td>\n",
       "      <td>NaN</td>\n",
       "      <td>NaN</td>\n",
       "      <td>NaN</td>\n",
       "      <td>NaN</td>\n",
       "      <td>NaN</td>\n",
       "    </tr>\n",
       "    <tr>\n",
       "      <th>739</th>\n",
       "      <td>https://www.sewakost.com/jakarta/selatan/tebet...</td>\n",
       "      <td>TEBET EXECUTIVE RESIDENCE 141</td>\n",
       "      <td>3.550.000</td>\n",
       "      <td>NaN</td>\n",
       "      <td>NaN</td>\n",
       "      <td>NaN</td>\n",
       "      <td>NaN</td>\n",
       "      <td>NaN</td>\n",
       "      <td>NaN</td>\n",
       "      <td>NaN</td>\n",
       "    </tr>\n",
       "    <tr>\n",
       "      <th>740</th>\n",
       "      <td>https://www.sewakost.com/jakarta/selatan/sewa-...</td>\n",
       "      <td>Sewa Kost, Cilandak Barat, Jakarta Selatan</td>\n",
       "      <td>2.000.000</td>\n",
       "      <td>NaN</td>\n",
       "      <td>NaN</td>\n",
       "      <td>NaN</td>\n",
       "      <td>NaN</td>\n",
       "      <td>NaN</td>\n",
       "      <td>NaN</td>\n",
       "      <td>NaN</td>\n",
       "    </tr>\n",
       "    <tr>\n",
       "      <th>741</th>\n",
       "      <td>https://www.sewakost.com/jakarta/selatan/kos-d...</td>\n",
       "      <td>Kos di Lt.Agung dkt KRL Lt.Agung &amp; Tj.Brt</td>\n",
       "      <td>700.000</td>\n",
       "      <td>NaN</td>\n",
       "      <td>NaN</td>\n",
       "      <td>NaN</td>\n",
       "      <td>NaN</td>\n",
       "      <td>NaN</td>\n",
       "      <td>NaN</td>\n",
       "      <td>NaN</td>\n",
       "    </tr>\n",
       "    <tr>\n",
       "      <th>742</th>\n",
       "      <td>https://www.sewakost.com/jakarta/selatan/kost-...</td>\n",
       "      <td>Kost Wanita Tebet Dekat Pasar Tebet Barat dan ...</td>\n",
       "      <td>1.600.000</td>\n",
       "      <td>NaN</td>\n",
       "      <td>NaN</td>\n",
       "      <td>NaN</td>\n",
       "      <td>NaN</td>\n",
       "      <td>NaN</td>\n",
       "      <td>NaN</td>\n",
       "      <td>NaN</td>\n",
       "    </tr>\n",
       "  </tbody>\n",
       "</table>\n",
       "</div>"
      ],
      "text/plain": [
       "                                                   url  \\\n",
       "483  https://www.sewakost.com/jakarta/selatan/indek...   \n",
       "739  https://www.sewakost.com/jakarta/selatan/tebet...   \n",
       "740  https://www.sewakost.com/jakarta/selatan/sewa-...   \n",
       "741  https://www.sewakost.com/jakarta/selatan/kos-d...   \n",
       "742  https://www.sewakost.com/jakarta/selatan/kost-...   \n",
       "\n",
       "                                                  nama       harga jenis  \\\n",
       "483           INDEKOS ELITE DALAM CLUSTER FULL FURNISH   3.000.000   NaN   \n",
       "739                      TEBET EXECUTIVE RESIDENCE 141   3.550.000   NaN   \n",
       "740         Sewa Kost, Cilandak Barat, Jakarta Selatan   2.000.000   NaN   \n",
       "741          Kos di Lt.Agung dkt KRL Lt.Agung & Tj.Brt     700.000   NaN   \n",
       "742  Kost Wanita Tebet Dekat Pasar Tebet Barat dan ...   1.600.000   NaN   \n",
       "\n",
       "    address aircon free_wifi kamar_mandi_dalam fasilitas_kamar fasilitas_kost  \n",
       "483     NaN    NaN       NaN               NaN             NaN            NaN  \n",
       "739     NaN    NaN       NaN               NaN             NaN            NaN  \n",
       "740     NaN    NaN       NaN               NaN             NaN            NaN  \n",
       "741     NaN    NaN       NaN               NaN             NaN            NaN  \n",
       "742     NaN    NaN       NaN               NaN             NaN            NaN  "
      ]
     },
     "execution_count": 72,
     "metadata": {},
     "output_type": "execute_result"
    }
   ],
   "source": [
    "# Menampilkan data dengan row NaN\n",
    "df[df.isnull().any(axis=1)].head()"
   ]
  },
  {
   "cell_type": "markdown",
   "metadata": {},
   "source": [
    "Terlihat terdapat 14 data yang memiliki nilai `NaN` pada kolom `jenis`, `address`, `aircon`, `free_wifi`, `kamar_mandi_dalam`, `fasilitas_kamar`, `fasilitas_kost`.\n",
    "\n",
    "Data-data tersebut akan dihapus dari dataset karena tidak berguna sebagai masukan dari model.\n",
    "\n",
    "Kenapa tidak dilakukan imputasi terhadap nilai `NaN` misalnya mengisi kolom fasilitas untuk kos dengan harga yang sama? Dalam kasus ini, model regresi yang dibangun akan menggunakan informasi fasilitas kost dalam penentuan harga, kemudian kost dengan harga yang sama/mendekati dapat memiliki fasilitas yang berbeda-beda, sehingga menyulitkan proses imputasi missing value. Maka dari itu missing value dihapus saja. "
   ]
  },
  {
   "cell_type": "code",
   "execution_count": 73,
   "metadata": {},
   "outputs": [
    {
     "data": {
      "text/plain": [
       "url                  0\n",
       "nama                 0\n",
       "harga                0\n",
       "jenis                0\n",
       "address              0\n",
       "aircon               0\n",
       "free_wifi            0\n",
       "kamar_mandi_dalam    0\n",
       "fasilitas_kamar      0\n",
       "fasilitas_kost       0\n",
       "dtype: int64"
      ]
     },
     "execution_count": 73,
     "metadata": {},
     "output_type": "execute_result"
    }
   ],
   "source": [
    "# Kode untuk drop semua baris dengan nilai NaN\n",
    "df.dropna(inplace=True)\n",
    "\n",
    "# Menampilkan jumlah baris dengan nilai NaN perkolomnya\n",
    "df.isnull().sum()"
   ]
  },
  {
   "cell_type": "markdown",
   "metadata": {},
   "source": [
    "Tidak terdapat lagi nilai `NaN` dalam dataset, sehingga dapat melanjutkan ke proses pengolahan data selanjutnya."
   ]
  },
  {
   "cell_type": "markdown",
   "metadata": {},
   "source": [
    "## Mengubah Format Data"
   ]
  },
  {
   "cell_type": "markdown",
   "metadata": {},
   "source": [
    "### Ekstrak Numerik pada Kolom Harga\n",
    "\n",
    "Kolom `harga` masih dalam format `Rp.[harga]`. Maka dari itu perlu dilakukan ekstraksi nilai numerik terhadap kolom `harga` untuk memudahkan analisis harga."
   ]
  },
  {
   "cell_type": "code",
   "execution_count": 74,
   "metadata": {},
   "outputs": [],
   "source": [
    "# Fungsi untuk mengambil setiap nilai numerik kemudian mengubah ke dalam bentuk integer\n",
    "def find_number(text):\n",
    "    try:\n",
    "        # Regex \\d untuk mengambil setiap nilai numerik\n",
    "        num = \"\".join(re.findall(r'[\\d]+',text))\n",
    "        return int(num)\n",
    "    except:\n",
    "        return 0"
   ]
  },
  {
   "cell_type": "code",
   "execution_count": 75,
   "metadata": {},
   "outputs": [
    {
     "data": {
      "text/html": [
       "<div>\n",
       "<style scoped>\n",
       "    .dataframe tbody tr th:only-of-type {\n",
       "        vertical-align: middle;\n",
       "    }\n",
       "\n",
       "    .dataframe tbody tr th {\n",
       "        vertical-align: top;\n",
       "    }\n",
       "\n",
       "    .dataframe thead th {\n",
       "        text-align: right;\n",
       "    }\n",
       "</style>\n",
       "<table border=\"1\" class=\"dataframe\">\n",
       "  <thead>\n",
       "    <tr style=\"text-align: right;\">\n",
       "      <th></th>\n",
       "      <th>url</th>\n",
       "      <th>nama</th>\n",
       "      <th>harga</th>\n",
       "      <th>jenis</th>\n",
       "      <th>address</th>\n",
       "      <th>aircon</th>\n",
       "      <th>free_wifi</th>\n",
       "      <th>kamar_mandi_dalam</th>\n",
       "      <th>fasilitas_kamar</th>\n",
       "      <th>fasilitas_kost</th>\n",
       "    </tr>\n",
       "  </thead>\n",
       "  <tbody>\n",
       "    <tr>\n",
       "      <th>0</th>\n",
       "      <td>https://www.sewakost.com/jakarta/selatan/kost-...</td>\n",
       "      <td>Kost Ciganjur Jalan Pasir No. 32</td>\n",
       "      <td>1000000</td>\n",
       "      <td>Kost Campur</td>\n",
       "      <td>Jalan Pasir no 32 Kp. Setu Rt 001/006 Keluraha...</td>\n",
       "      <td>Tidak</td>\n",
       "      <td>Tidak</td>\n",
       "      <td>Ya</td>\n",
       "      <td>['Kamar Mandi Dalam']</td>\n",
       "      <td>['Keamanan', 'Parkir Motor']</td>\n",
       "    </tr>\n",
       "    <tr>\n",
       "      <th>1</th>\n",
       "      <td>https://www.sewakost.com/jakarta/selatan/kost-...</td>\n",
       "      <td>KOST EXECUTIVE JAGAKARSA PASO CILANDAK JAKARTA...</td>\n",
       "      <td>2200000</td>\n",
       "      <td>Kost Putra</td>\n",
       "      <td>Jalan Paso no 6A, Jagakarsa, Cilandak, Jakarta...</td>\n",
       "      <td>Ya</td>\n",
       "      <td>Ya</td>\n",
       "      <td>Ya</td>\n",
       "      <td>['Spring Bed', 'Perabot', 'Free WiFi', 'AC', '...</td>\n",
       "      <td>['Ruang Tamu', 'Ruang Makan', 'Dapur', 'Air Mi...</td>\n",
       "    </tr>\n",
       "    <tr>\n",
       "      <th>2</th>\n",
       "      <td>https://www.sewakost.com/jakarta/selatan/kamar...</td>\n",
       "      <td>Kamar kost Putri NON AC di Mampang</td>\n",
       "      <td>850000</td>\n",
       "      <td>Kost Putri</td>\n",
       "      <td>Jl.Mampang Prapatan VI Rt04 Rw02 No.70B</td>\n",
       "      <td>Tidak</td>\n",
       "      <td>Tidak</td>\n",
       "      <td>Tidak</td>\n",
       "      <td>[]</td>\n",
       "      <td>[]</td>\n",
       "    </tr>\n",
       "    <tr>\n",
       "      <th>3</th>\n",
       "      <td>https://www.sewakost.com/jakarta/selatan/hompy...</td>\n",
       "      <td>Hompy Timur Residence</td>\n",
       "      <td>2700000</td>\n",
       "      <td>Kost Putri</td>\n",
       "      <td>Tebet Timur Dalam 7B no. 11</td>\n",
       "      <td>Ya</td>\n",
       "      <td>Ya</td>\n",
       "      <td>Ya</td>\n",
       "      <td>['Spring Bed', 'Perabot', 'Free WiFi', 'AC', '...</td>\n",
       "      <td>['Dapur', 'Cuci Setrika', 'Pembantu', 'Keamana...</td>\n",
       "    </tr>\n",
       "    <tr>\n",
       "      <th>4</th>\n",
       "      <td>https://www.sewakost.com/jakarta/selatan/rumah...</td>\n",
       "      <td>Rumah kontrakan (40m2) Pasutri baru/karyawati/...</td>\n",
       "      <td>2500000</td>\n",
       "      <td>Kost Pasutri</td>\n",
       "      <td>Jalan keselamatan 18 RT10/RW03</td>\n",
       "      <td>Ya</td>\n",
       "      <td>Tidak</td>\n",
       "      <td>Ya</td>\n",
       "      <td>['AC', 'Kamar Mandi Dalam']</td>\n",
       "      <td>['Ruang Tamu', 'Ruang Makan', 'Dapur', 'Keaman...</td>\n",
       "    </tr>\n",
       "  </tbody>\n",
       "</table>\n",
       "</div>"
      ],
      "text/plain": [
       "                                                 url  \\\n",
       "0  https://www.sewakost.com/jakarta/selatan/kost-...   \n",
       "1  https://www.sewakost.com/jakarta/selatan/kost-...   \n",
       "2  https://www.sewakost.com/jakarta/selatan/kamar...   \n",
       "3  https://www.sewakost.com/jakarta/selatan/hompy...   \n",
       "4  https://www.sewakost.com/jakarta/selatan/rumah...   \n",
       "\n",
       "                                                nama    harga         jenis  \\\n",
       "0                   Kost Ciganjur Jalan Pasir No. 32  1000000   Kost Campur   \n",
       "1  KOST EXECUTIVE JAGAKARSA PASO CILANDAK JAKARTA...  2200000    Kost Putra   \n",
       "2                 Kamar kost Putri NON AC di Mampang   850000    Kost Putri   \n",
       "3                              Hompy Timur Residence  2700000    Kost Putri   \n",
       "4  Rumah kontrakan (40m2) Pasutri baru/karyawati/...  2500000  Kost Pasutri   \n",
       "\n",
       "                                             address aircon free_wifi  \\\n",
       "0  Jalan Pasir no 32 Kp. Setu Rt 001/006 Keluraha...  Tidak     Tidak   \n",
       "1  Jalan Paso no 6A, Jagakarsa, Cilandak, Jakarta...     Ya        Ya   \n",
       "2            Jl.Mampang Prapatan VI Rt04 Rw02 No.70B  Tidak     Tidak   \n",
       "3                        Tebet Timur Dalam 7B no. 11     Ya        Ya   \n",
       "4                     Jalan keselamatan 18 RT10/RW03     Ya     Tidak   \n",
       "\n",
       "  kamar_mandi_dalam                                    fasilitas_kamar  \\\n",
       "0                Ya                              ['Kamar Mandi Dalam']   \n",
       "1                Ya  ['Spring Bed', 'Perabot', 'Free WiFi', 'AC', '...   \n",
       "2             Tidak                                                 []   \n",
       "3                Ya  ['Spring Bed', 'Perabot', 'Free WiFi', 'AC', '...   \n",
       "4                Ya                        ['AC', 'Kamar Mandi Dalam']   \n",
       "\n",
       "                                      fasilitas_kost  \n",
       "0                       ['Keamanan', 'Parkir Motor']  \n",
       "1  ['Ruang Tamu', 'Ruang Makan', 'Dapur', 'Air Mi...  \n",
       "2                                                 []  \n",
       "3  ['Dapur', 'Cuci Setrika', 'Pembantu', 'Keamana...  \n",
       "4  ['Ruang Tamu', 'Ruang Makan', 'Dapur', 'Keaman...  "
      ]
     },
     "execution_count": 75,
     "metadata": {},
     "output_type": "execute_result"
    }
   ],
   "source": [
    "# Mengubah seluruh kolom harga menjadi integer\n",
    "df['harga'] = df['harga'].apply(lambda x: find_number(x))\n",
    "\n",
    "df.head()"
   ]
  },
  {
   "cell_type": "markdown",
   "metadata": {},
   "source": [
    "kolom `harga` yang tadinya tipe data `string` (contoh: `Rp 1.000.000`) sekarang telah berubah menjadi tipe data `integer`."
   ]
  },
  {
   "cell_type": "markdown",
   "metadata": {},
   "source": [
    "### Membersihkan Data dan Perubahan Data"
   ]
  },
  {
   "cell_type": "markdown",
   "metadata": {},
   "source": [
    "#### Membersihkan Data Dengan Harga Ekstrem"
   ]
  },
  {
   "cell_type": "code",
   "execution_count": 76,
   "metadata": {},
   "outputs": [
    {
     "data": {
      "text/html": [
       "<div>\n",
       "<style scoped>\n",
       "    .dataframe tbody tr th:only-of-type {\n",
       "        vertical-align: middle;\n",
       "    }\n",
       "\n",
       "    .dataframe tbody tr th {\n",
       "        vertical-align: top;\n",
       "    }\n",
       "\n",
       "    .dataframe thead th {\n",
       "        text-align: right;\n",
       "    }\n",
       "</style>\n",
       "<table border=\"1\" class=\"dataframe\">\n",
       "  <thead>\n",
       "    <tr style=\"text-align: right;\">\n",
       "      <th></th>\n",
       "      <th>harga</th>\n",
       "    </tr>\n",
       "  </thead>\n",
       "  <tbody>\n",
       "    <tr>\n",
       "      <th>count</th>\n",
       "      <td>9.440000e+02</td>\n",
       "    </tr>\n",
       "    <tr>\n",
       "      <th>mean</th>\n",
       "      <td>3.816841e+09</td>\n",
       "    </tr>\n",
       "    <tr>\n",
       "      <th>std</th>\n",
       "      <td>8.280764e+10</td>\n",
       "    </tr>\n",
       "    <tr>\n",
       "      <th>min</th>\n",
       "      <td>0.000000e+00</td>\n",
       "    </tr>\n",
       "    <tr>\n",
       "      <th>25%</th>\n",
       "      <td>1.000000e+06</td>\n",
       "    </tr>\n",
       "    <tr>\n",
       "      <th>50%</th>\n",
       "      <td>1.650000e+06</td>\n",
       "    </tr>\n",
       "    <tr>\n",
       "      <th>75%</th>\n",
       "      <td>2.350000e+06</td>\n",
       "    </tr>\n",
       "    <tr>\n",
       "      <th>max</th>\n",
       "      <td>1.800000e+12</td>\n",
       "    </tr>\n",
       "  </tbody>\n",
       "</table>\n",
       "</div>"
      ],
      "text/plain": [
       "              harga\n",
       "count  9.440000e+02\n",
       "mean   3.816841e+09\n",
       "std    8.280764e+10\n",
       "min    0.000000e+00\n",
       "25%    1.000000e+06\n",
       "50%    1.650000e+06\n",
       "75%    2.350000e+06\n",
       "max    1.800000e+12"
      ]
     },
     "execution_count": 76,
     "metadata": {},
     "output_type": "execute_result"
    }
   ],
   "source": [
    "df.describe()"
   ]
  },
  {
   "cell_type": "markdown",
   "metadata": {},
   "source": [
    "Terdapat kost-an dengan harga yang sangat murah, termasuk yang 0 rupiah alias gratis (mungkin fasilitasnya selain kamar mandi luar juga harus tidur di luar). Selain kost-an yang sangat murah, tedapat juga kost-an yang sangat mahal hingga seharga 180 juta/bulan.\n",
    "\n",
    "Kost-an seperti ini tidak akan dianalisis sehingga harus dikeluarkan dari dataset. \n",
    "\n",
    "Akan dipertahankan kost-kostan dengan harga di atas 300rb dan di bawah 5 juta. Selain dari pada itu akan dihilangkan dari dataset."
   ]
  },
  {
   "cell_type": "code",
   "execution_count": 77,
   "metadata": {},
   "outputs": [
    {
     "data": {
      "text/plain": [
       "(872, 10)"
      ]
     },
     "execution_count": 77,
     "metadata": {},
     "output_type": "execute_result"
    }
   ],
   "source": [
    "# Drop harga kos di bawah 300rb dan di atas 5 juta\n",
    "df = df[(df['harga']>=300000) & (df['harga']<=5000000)]\n",
    "\n",
    "df.shape"
   ]
  },
  {
   "cell_type": "markdown",
   "metadata": {},
   "source": [
    "#### Penyesuaian pada Kolom Jenis\n",
    "\n",
    "Akan dilihat nilai-nilai apa saja yang terdapat pada kolom `jenis` serta jumlah untuk masing-masing jenisnya"
   ]
  },
  {
   "cell_type": "code",
   "execution_count": 78,
   "metadata": {},
   "outputs": [
    {
     "data": {
      "text/plain": [
       "array(['Kost Campur', 'Kost Putra', 'Kost Putri', 'Kost Pasutri',\n",
       "       'Kost Keluarga'], dtype=object)"
      ]
     },
     "execution_count": 78,
     "metadata": {},
     "output_type": "execute_result"
    }
   ],
   "source": [
    "df['jenis'].unique()"
   ]
  },
  {
   "cell_type": "code",
   "execution_count": 79,
   "metadata": {},
   "outputs": [
    {
     "data": {
      "text/html": [
       "<div>\n",
       "<style scoped>\n",
       "    .dataframe tbody tr th:only-of-type {\n",
       "        vertical-align: middle;\n",
       "    }\n",
       "\n",
       "    .dataframe tbody tr th {\n",
       "        vertical-align: top;\n",
       "    }\n",
       "\n",
       "    .dataframe thead th {\n",
       "        text-align: right;\n",
       "    }\n",
       "</style>\n",
       "<table border=\"1\" class=\"dataframe\">\n",
       "  <thead>\n",
       "    <tr style=\"text-align: right;\">\n",
       "      <th></th>\n",
       "      <th>url</th>\n",
       "      <th>nama</th>\n",
       "      <th>harga</th>\n",
       "      <th>address</th>\n",
       "      <th>aircon</th>\n",
       "      <th>free_wifi</th>\n",
       "      <th>kamar_mandi_dalam</th>\n",
       "      <th>fasilitas_kamar</th>\n",
       "      <th>fasilitas_kost</th>\n",
       "    </tr>\n",
       "    <tr>\n",
       "      <th>jenis</th>\n",
       "      <th></th>\n",
       "      <th></th>\n",
       "      <th></th>\n",
       "      <th></th>\n",
       "      <th></th>\n",
       "      <th></th>\n",
       "      <th></th>\n",
       "      <th></th>\n",
       "      <th></th>\n",
       "    </tr>\n",
       "  </thead>\n",
       "  <tbody>\n",
       "    <tr>\n",
       "      <th>Kost Campur</th>\n",
       "      <td>484</td>\n",
       "      <td>484</td>\n",
       "      <td>484</td>\n",
       "      <td>484</td>\n",
       "      <td>484</td>\n",
       "      <td>484</td>\n",
       "      <td>484</td>\n",
       "      <td>484</td>\n",
       "      <td>484</td>\n",
       "    </tr>\n",
       "    <tr>\n",
       "      <th>Kost Keluarga</th>\n",
       "      <td>7</td>\n",
       "      <td>7</td>\n",
       "      <td>7</td>\n",
       "      <td>7</td>\n",
       "      <td>7</td>\n",
       "      <td>7</td>\n",
       "      <td>7</td>\n",
       "      <td>7</td>\n",
       "      <td>7</td>\n",
       "    </tr>\n",
       "    <tr>\n",
       "      <th>Kost Pasutri</th>\n",
       "      <td>15</td>\n",
       "      <td>15</td>\n",
       "      <td>15</td>\n",
       "      <td>15</td>\n",
       "      <td>15</td>\n",
       "      <td>15</td>\n",
       "      <td>15</td>\n",
       "      <td>15</td>\n",
       "      <td>15</td>\n",
       "    </tr>\n",
       "    <tr>\n",
       "      <th>Kost Putra</th>\n",
       "      <td>109</td>\n",
       "      <td>109</td>\n",
       "      <td>109</td>\n",
       "      <td>109</td>\n",
       "      <td>109</td>\n",
       "      <td>109</td>\n",
       "      <td>109</td>\n",
       "      <td>109</td>\n",
       "      <td>109</td>\n",
       "    </tr>\n",
       "    <tr>\n",
       "      <th>Kost Putri</th>\n",
       "      <td>257</td>\n",
       "      <td>257</td>\n",
       "      <td>257</td>\n",
       "      <td>257</td>\n",
       "      <td>257</td>\n",
       "      <td>257</td>\n",
       "      <td>257</td>\n",
       "      <td>257</td>\n",
       "      <td>257</td>\n",
       "    </tr>\n",
       "  </tbody>\n",
       "</table>\n",
       "</div>"
      ],
      "text/plain": [
       "               url  nama  harga  address  aircon  free_wifi  \\\n",
       "jenis                                                         \n",
       "Kost Campur    484   484    484      484     484        484   \n",
       "Kost Keluarga    7     7      7        7       7          7   \n",
       "Kost Pasutri    15    15     15       15      15         15   \n",
       "Kost Putra     109   109    109      109     109        109   \n",
       "Kost Putri     257   257    257      257     257        257   \n",
       "\n",
       "               kamar_mandi_dalam  fasilitas_kamar  fasilitas_kost  \n",
       "jenis                                                              \n",
       "Kost Campur                  484              484             484  \n",
       "Kost Keluarga                  7                7               7  \n",
       "Kost Pasutri                  15               15              15  \n",
       "Kost Putra                   109              109             109  \n",
       "Kost Putri                   257              257             257  "
      ]
     },
     "execution_count": 79,
     "metadata": {},
     "output_type": "execute_result"
    }
   ],
   "source": [
    "# Melihat jumlah kost berdasarkan jenis\n",
    "df.groupby('jenis').count()"
   ]
  },
  {
   "cell_type": "markdown",
   "metadata": {},
   "source": [
    "Berhubung jumlah `kost keluarga` dan `kost pasutri` sangat sedikit, dan juga mereka memiliki makna yang sama, maka dari itu `kost keluarga` diubah nilainya menjadi `kost pasutri` sehingga jumlahnya bertambah."
   ]
  },
  {
   "cell_type": "code",
   "execution_count": 80,
   "metadata": {},
   "outputs": [
    {
     "data": {
      "text/html": [
       "<div>\n",
       "<style scoped>\n",
       "    .dataframe tbody tr th:only-of-type {\n",
       "        vertical-align: middle;\n",
       "    }\n",
       "\n",
       "    .dataframe tbody tr th {\n",
       "        vertical-align: top;\n",
       "    }\n",
       "\n",
       "    .dataframe thead th {\n",
       "        text-align: right;\n",
       "    }\n",
       "</style>\n",
       "<table border=\"1\" class=\"dataframe\">\n",
       "  <thead>\n",
       "    <tr style=\"text-align: right;\">\n",
       "      <th></th>\n",
       "      <th>url</th>\n",
       "      <th>nama</th>\n",
       "      <th>harga</th>\n",
       "      <th>address</th>\n",
       "      <th>aircon</th>\n",
       "      <th>free_wifi</th>\n",
       "      <th>kamar_mandi_dalam</th>\n",
       "      <th>fasilitas_kamar</th>\n",
       "      <th>fasilitas_kost</th>\n",
       "    </tr>\n",
       "    <tr>\n",
       "      <th>jenis</th>\n",
       "      <th></th>\n",
       "      <th></th>\n",
       "      <th></th>\n",
       "      <th></th>\n",
       "      <th></th>\n",
       "      <th></th>\n",
       "      <th></th>\n",
       "      <th></th>\n",
       "      <th></th>\n",
       "    </tr>\n",
       "  </thead>\n",
       "  <tbody>\n",
       "    <tr>\n",
       "      <th>Kost Campur</th>\n",
       "      <td>484</td>\n",
       "      <td>484</td>\n",
       "      <td>484</td>\n",
       "      <td>484</td>\n",
       "      <td>484</td>\n",
       "      <td>484</td>\n",
       "      <td>484</td>\n",
       "      <td>484</td>\n",
       "      <td>484</td>\n",
       "    </tr>\n",
       "    <tr>\n",
       "      <th>Kost Pasutri</th>\n",
       "      <td>22</td>\n",
       "      <td>22</td>\n",
       "      <td>22</td>\n",
       "      <td>22</td>\n",
       "      <td>22</td>\n",
       "      <td>22</td>\n",
       "      <td>22</td>\n",
       "      <td>22</td>\n",
       "      <td>22</td>\n",
       "    </tr>\n",
       "    <tr>\n",
       "      <th>Kost Putra</th>\n",
       "      <td>109</td>\n",
       "      <td>109</td>\n",
       "      <td>109</td>\n",
       "      <td>109</td>\n",
       "      <td>109</td>\n",
       "      <td>109</td>\n",
       "      <td>109</td>\n",
       "      <td>109</td>\n",
       "      <td>109</td>\n",
       "    </tr>\n",
       "    <tr>\n",
       "      <th>Kost Putri</th>\n",
       "      <td>257</td>\n",
       "      <td>257</td>\n",
       "      <td>257</td>\n",
       "      <td>257</td>\n",
       "      <td>257</td>\n",
       "      <td>257</td>\n",
       "      <td>257</td>\n",
       "      <td>257</td>\n",
       "      <td>257</td>\n",
       "    </tr>\n",
       "  </tbody>\n",
       "</table>\n",
       "</div>"
      ],
      "text/plain": [
       "              url  nama  harga  address  aircon  free_wifi  kamar_mandi_dalam  \\\n",
       "jenis                                                                           \n",
       "Kost Campur   484   484    484      484     484        484                484   \n",
       "Kost Pasutri   22    22     22       22      22         22                 22   \n",
       "Kost Putra    109   109    109      109     109        109                109   \n",
       "Kost Putri    257   257    257      257     257        257                257   \n",
       "\n",
       "              fasilitas_kamar  fasilitas_kost  \n",
       "jenis                                          \n",
       "Kost Campur               484             484  \n",
       "Kost Pasutri               22              22  \n",
       "Kost Putra                109             109  \n",
       "Kost Putri                257             257  "
      ]
     },
     "execution_count": 80,
     "metadata": {},
     "output_type": "execute_result"
    }
   ],
   "source": [
    "# Mengubah jenis kost pasutri -> kost keluarga\n",
    "df['jenis'] = df['jenis'].replace('Kost Keluarga', 'Kost Pasutri')\n",
    "\n",
    "# Melihat jumlah kost berdasarkan jenis setelah kost keluarga diubah menjadi kost pasutri\n",
    "df.groupby('jenis').count()"
   ]
  },
  {
   "cell_type": "markdown",
   "metadata": {},
   "source": [
    "## Ekstrak `fasilitas_kamar` dan `fasilitas_kost` ke Dalam Kolom Dataframe"
   ]
  },
  {
   "cell_type": "code",
   "execution_count": 81,
   "metadata": {},
   "outputs": [
    {
     "data": {
      "text/html": [
       "<div>\n",
       "<style scoped>\n",
       "    .dataframe tbody tr th:only-of-type {\n",
       "        vertical-align: middle;\n",
       "    }\n",
       "\n",
       "    .dataframe tbody tr th {\n",
       "        vertical-align: top;\n",
       "    }\n",
       "\n",
       "    .dataframe thead th {\n",
       "        text-align: right;\n",
       "    }\n",
       "</style>\n",
       "<table border=\"1\" class=\"dataframe\">\n",
       "  <thead>\n",
       "    <tr style=\"text-align: right;\">\n",
       "      <th></th>\n",
       "      <th>nama</th>\n",
       "      <th>fasilitas_kamar</th>\n",
       "      <th>fasilitas_kost</th>\n",
       "    </tr>\n",
       "  </thead>\n",
       "  <tbody>\n",
       "    <tr>\n",
       "      <th>0</th>\n",
       "      <td>Kost Ciganjur Jalan Pasir No. 32</td>\n",
       "      <td>['Kamar Mandi Dalam']</td>\n",
       "      <td>['Keamanan', 'Parkir Motor']</td>\n",
       "    </tr>\n",
       "    <tr>\n",
       "      <th>1</th>\n",
       "      <td>KOST EXECUTIVE JAGAKARSA PASO CILANDAK JAKARTA...</td>\n",
       "      <td>['Spring Bed', 'Perabot', 'Free WiFi', 'AC', '...</td>\n",
       "      <td>['Ruang Tamu', 'Ruang Makan', 'Dapur', 'Air Mi...</td>\n",
       "    </tr>\n",
       "    <tr>\n",
       "      <th>2</th>\n",
       "      <td>Kamar kost Putri NON AC di Mampang</td>\n",
       "      <td>[]</td>\n",
       "      <td>[]</td>\n",
       "    </tr>\n",
       "    <tr>\n",
       "      <th>3</th>\n",
       "      <td>Hompy Timur Residence</td>\n",
       "      <td>['Spring Bed', 'Perabot', 'Free WiFi', 'AC', '...</td>\n",
       "      <td>['Dapur', 'Cuci Setrika', 'Pembantu', 'Keamana...</td>\n",
       "    </tr>\n",
       "    <tr>\n",
       "      <th>4</th>\n",
       "      <td>Rumah kontrakan (40m2) Pasutri baru/karyawati/...</td>\n",
       "      <td>['AC', 'Kamar Mandi Dalam']</td>\n",
       "      <td>['Ruang Tamu', 'Ruang Makan', 'Dapur', 'Keaman...</td>\n",
       "    </tr>\n",
       "  </tbody>\n",
       "</table>\n",
       "</div>"
      ],
      "text/plain": [
       "                                                nama  \\\n",
       "0                   Kost Ciganjur Jalan Pasir No. 32   \n",
       "1  KOST EXECUTIVE JAGAKARSA PASO CILANDAK JAKARTA...   \n",
       "2                 Kamar kost Putri NON AC di Mampang   \n",
       "3                              Hompy Timur Residence   \n",
       "4  Rumah kontrakan (40m2) Pasutri baru/karyawati/...   \n",
       "\n",
       "                                     fasilitas_kamar  \\\n",
       "0                              ['Kamar Mandi Dalam']   \n",
       "1  ['Spring Bed', 'Perabot', 'Free WiFi', 'AC', '...   \n",
       "2                                                 []   \n",
       "3  ['Spring Bed', 'Perabot', 'Free WiFi', 'AC', '...   \n",
       "4                        ['AC', 'Kamar Mandi Dalam']   \n",
       "\n",
       "                                      fasilitas_kost  \n",
       "0                       ['Keamanan', 'Parkir Motor']  \n",
       "1  ['Ruang Tamu', 'Ruang Makan', 'Dapur', 'Air Mi...  \n",
       "2                                                 []  \n",
       "3  ['Dapur', 'Cuci Setrika', 'Pembantu', 'Keamana...  \n",
       "4  ['Ruang Tamu', 'Ruang Makan', 'Dapur', 'Keaman...  "
      ]
     },
     "execution_count": 81,
     "metadata": {},
     "output_type": "execute_result"
    }
   ],
   "source": [
    "df[['nama', 'fasilitas_kamar', 'fasilitas_kost']].head()"
   ]
  },
  {
   "cell_type": "markdown",
   "metadata": {},
   "source": [
    "Kolom `fasilitas_kamar` dan `fasilitas_kost` nilainya masih berisi list untuk fasilitas per kamar dan fasilitas kost. \n",
    "Dalam hal ini untuk kost dengan index `1`, memiliki fasilitas kamar seperti spring bed, perabot, dsb. Untuk fasilitas. kostnya memiliki ruang tamu, ruang makan, dapur dsb. \n",
    "\n",
    "Informasi-informasi ini akan dijadikan kolom tersendiri yang akan digunakan sebagai masukan model."
   ]
  },
  {
   "cell_type": "markdown",
   "metadata": {},
   "source": [
    "Tahapan-tahapan yang akan dilakukan antara lain:\n",
    "1. Mendapatkan nilai unik dari `fasilitas_kamar` dan `fasilitas_kost`.\n",
    "2. Nilai unik dari fasilitas dibuat menjadi kolom baru, Iterasi setiap baris pada dataframe untuk mengecek setiap fasilitas yang dimiliki oleh kost. Jika fasilitas pada kolom baru terdapat pada `fasilitas_kamar` atau `fasilitas_kost` maka kolom baru akan diisi oleh nilai `Ya` dan `Tidak` jika tidak terdapat fasilitas tersebut."
   ]
  },
  {
   "cell_type": "markdown",
   "metadata": {},
   "source": [
    "#### 1. Fungsi untuk mengekstrak nilai unik fasilitas\n",
    "\n",
    "Berikut adalah fungsi untuk mengambil semua nilai unik dari `fasilitas_kamar` atau `fasilitas_kost`.\n",
    "\n",
    "Tahapan fungsi untuk contoh Input(tipe str): `\"['Keamanan', 'Parkir Motor']\"`:\n",
    "1. Berhubung `[]` terdapat pada index `0` dan `-1`, maka dari itu hanya mengambil stringg dengan index mulai dari `1` hingga sebelum `-1`.\n",
    "\n",
    "Output(str): `\"'Keamanan', 'Parkir Motor'\"`\n",
    "\n",
    "2. Mengecek apakah string kosong atau bukan, jika string kosong maka lanjut.\n",
    "3. Karena masih terdapat simbol kutip 1 (`'`), maka dari itu kutip 1 dihilangkan dengan fungsi `.replace(\"'\", \"\")`.\n",
    "\n",
    "Output(str): `\"Keamanan, Parkir Motor\"`\n",
    "\n",
    "4. Karena setiap nilai terpisah oleh koma yang diikuti spasi, maka untuk mendapatkan masing-masing nilai digunakan fungsi `.split(\", \")`\n",
    "\n",
    "Output(list): `['Keamanan', 'Parkir Motor']`\n",
    "\n",
    "5. List tersebut dimasukkan ke dalam list `fasilitas`.\n",
    "\n",
    "6. Mengulang iterasi, jika list belum terdapat di dalam `fasilitas`, maka nilai dimasukkan ke dalam list `fasilitas`, jika sudah ada, maka iterasi dilanjutkan."
   ]
  },
  {
   "cell_type": "code",
   "execution_count": 82,
   "metadata": {},
   "outputs": [],
   "source": [
    "def get_fasilitas(data_fasilitas):\n",
    "    fasilitas = []\n",
    "    for n in data_fasilitas:\n",
    "        data = n[1:-1]\n",
    "        if data == \"\":\n",
    "            continue\n",
    "        list_fas = data.replace(\"'\", \"\").split(\", \")\n",
    "        for fas in list_fas:\n",
    "            if fas not in fasilitas:\n",
    "                fasilitas.append(fas)\n",
    "    \n",
    "    return fasilitas"
   ]
  },
  {
   "cell_type": "code",
   "execution_count": 83,
   "metadata": {},
   "outputs": [
    {
     "name": "stdout",
     "output_type": "stream",
     "text": [
      "Nilai Unik fasilitas kamar:\n",
      "['Kamar Mandi Dalam', 'Spring Bed', 'Perabot', 'Free WiFi', 'AC', 'TV', 'Pemanas Air (Water Heater)', 'Kulkas']\n",
      "\n",
      "Nilai unik fasilitas kost:\n",
      "['Keamanan', 'Parkir Motor', 'Ruang Tamu', 'Ruang Makan', 'Dapur', 'Air Minum', 'Pembantu', 'Parkir Mobil', 'Cuci Setrika', 'Mesin Cuci (Cuci Sendiri)', 'Televisi']\n"
     ]
    }
   ],
   "source": [
    "fasilitas_kamar = get_fasilitas(df['fasilitas_kamar'].unique())\n",
    "print(f\"Nilai Unik fasilitas kamar:\\n{fasilitas_kamar}\")\n",
    "\n",
    "fasilitas_kost = get_fasilitas(df['fasilitas_kost'].unique())\n",
    "print(f\"\\nNilai unik fasilitas kost:\\n{fasilitas_kost}\")"
   ]
  },
  {
   "cell_type": "markdown",
   "metadata": {},
   "source": [
    "Output dari kode ini adalah setiap fasilitas unik dari kolom `fasilitas_kamar` (8 nilai unik) dan `fasilitas_kost` (11 nilai unik)yang nantinya akan dijadikan sebagai kolom baru.\n",
    "\n",
    "Berhubung pada `fasilitas_kamar` terdapat nilai `Kamar Mandi Dalam`, `AC`, dan `Free WiFi` dimana nilai tersebut sudah terdapat pada kolom yang lain. Maka dari itu nilai ketiga fasilitas tersebut akan dihapus dari list `fasilitas_kamar` agar tidak terjadi duplikat ketika assign kolom baru."
   ]
  },
  {
   "cell_type": "code",
   "execution_count": 84,
   "metadata": {},
   "outputs": [
    {
     "name": "stdout",
     "output_type": "stream",
     "text": [
      "['Spring Bed', 'Perabot', 'TV', 'Pemanas Air (Water Heater)', 'Kulkas']\n"
     ]
    }
   ],
   "source": [
    "# Karena sudah ada kolom untuk ini\n",
    "remove_fasilitas = ['Kamar Mandi Dalam', 'AC', 'Free WiFi']\n",
    "\n",
    "for fas in remove_fasilitas:\n",
    "    fasilitas_kamar.remove(fas)\n",
    "\n",
    "print(fasilitas_kamar)"
   ]
  },
  {
   "cell_type": "markdown",
   "metadata": {},
   "source": [
    "Untuk `fasilitas_kamar`, akan dibentuk 5 kolom baru sesuai fasilitas pada output cell di atas ini."
   ]
  },
  {
   "cell_type": "markdown",
   "metadata": {},
   "source": [
    "#### 2. Assign Kolom Baru Untuk Fasilitas\n",
    "\n",
    "Tahapan yang dilakukan:\n",
    "1. Iterasi masing-masing nilai unik pada fasilitas (`fasilitas_kamar` dan `fasilitas_kost`)\n",
    "2. Iterasi masing-masing baris pada dataframe, jika baris tersebut memiliki fasilitas pada kolom baru, maka assign nilai `Ya`, jika tidak, maka `Tidak`.\n",
    "3. Drop kolom `fasilitas_kamar` dan `fasilitas_kost` karena informasinya telah digantikan oleh kolom-kolom fasilitas baru."
   ]
  },
  {
   "cell_type": "code",
   "execution_count": 85,
   "metadata": {},
   "outputs": [],
   "source": [
    "# Fungsi untuk iterasi setiap baris untuk fasilitas tertentu\n",
    "def get_info(fas_kamar, fas):\n",
    "    data = []\n",
    "    for row in fas_kamar:\n",
    "        status = \"Ya\" if fas in row else \"Tidak\"\n",
    "        data.append(status)\n",
    "    return data"
   ]
  },
  {
   "cell_type": "code",
   "execution_count": 86,
   "metadata": {},
   "outputs": [],
   "source": [
    "# Iterasi setiap fasilitas baru untuk dijadikan kolom\n",
    "for fas in fasilitas_kamar:\n",
    "    kolom_baru = fas + \"_fkamar\"\n",
    "    df[kolom_baru] = get_info(df['fasilitas_kamar'], fas)\n",
    "\n",
    "for fas in fasilitas_kost:\n",
    "    kolom_baru = fas + \"_fkost\"\n",
    "    df[kolom_baru] = get_info(df['fasilitas_kost'], fas)"
   ]
  },
  {
   "cell_type": "code",
   "execution_count": 87,
   "metadata": {},
   "outputs": [],
   "source": [
    "# Drop\n",
    "df = df.drop(['fasilitas_kamar', 'fasilitas_kost'], axis=1)"
   ]
  },
  {
   "cell_type": "code",
   "execution_count": 88,
   "metadata": {},
   "outputs": [
    {
     "data": {
      "text/html": [
       "<div>\n",
       "<style scoped>\n",
       "    .dataframe tbody tr th:only-of-type {\n",
       "        vertical-align: middle;\n",
       "    }\n",
       "\n",
       "    .dataframe tbody tr th {\n",
       "        vertical-align: top;\n",
       "    }\n",
       "\n",
       "    .dataframe thead th {\n",
       "        text-align: right;\n",
       "    }\n",
       "</style>\n",
       "<table border=\"1\" class=\"dataframe\">\n",
       "  <thead>\n",
       "    <tr style=\"text-align: right;\">\n",
       "      <th></th>\n",
       "      <th>url</th>\n",
       "      <th>nama</th>\n",
       "      <th>harga</th>\n",
       "      <th>jenis</th>\n",
       "      <th>address</th>\n",
       "      <th>aircon</th>\n",
       "      <th>free_wifi</th>\n",
       "      <th>kamar_mandi_dalam</th>\n",
       "      <th>Spring Bed_fkamar</th>\n",
       "      <th>Perabot_fkamar</th>\n",
       "      <th>...</th>\n",
       "      <th>Parkir Motor_fkost</th>\n",
       "      <th>Ruang Tamu_fkost</th>\n",
       "      <th>Ruang Makan_fkost</th>\n",
       "      <th>Dapur_fkost</th>\n",
       "      <th>Air Minum_fkost</th>\n",
       "      <th>Pembantu_fkost</th>\n",
       "      <th>Parkir Mobil_fkost</th>\n",
       "      <th>Cuci Setrika_fkost</th>\n",
       "      <th>Mesin Cuci (Cuci Sendiri)_fkost</th>\n",
       "      <th>Televisi_fkost</th>\n",
       "    </tr>\n",
       "  </thead>\n",
       "  <tbody>\n",
       "    <tr>\n",
       "      <th>0</th>\n",
       "      <td>https://www.sewakost.com/jakarta/selatan/kost-...</td>\n",
       "      <td>Kost Ciganjur Jalan Pasir No. 32</td>\n",
       "      <td>1000000</td>\n",
       "      <td>Kost Campur</td>\n",
       "      <td>Jalan Pasir no 32 Kp. Setu Rt 001/006 Keluraha...</td>\n",
       "      <td>Tidak</td>\n",
       "      <td>Tidak</td>\n",
       "      <td>Ya</td>\n",
       "      <td>Tidak</td>\n",
       "      <td>Tidak</td>\n",
       "      <td>...</td>\n",
       "      <td>Ya</td>\n",
       "      <td>Tidak</td>\n",
       "      <td>Tidak</td>\n",
       "      <td>Tidak</td>\n",
       "      <td>Tidak</td>\n",
       "      <td>Tidak</td>\n",
       "      <td>Tidak</td>\n",
       "      <td>Tidak</td>\n",
       "      <td>Tidak</td>\n",
       "      <td>Tidak</td>\n",
       "    </tr>\n",
       "    <tr>\n",
       "      <th>1</th>\n",
       "      <td>https://www.sewakost.com/jakarta/selatan/kost-...</td>\n",
       "      <td>KOST EXECUTIVE JAGAKARSA PASO CILANDAK JAKARTA...</td>\n",
       "      <td>2200000</td>\n",
       "      <td>Kost Putra</td>\n",
       "      <td>Jalan Paso no 6A, Jagakarsa, Cilandak, Jakarta...</td>\n",
       "      <td>Ya</td>\n",
       "      <td>Ya</td>\n",
       "      <td>Ya</td>\n",
       "      <td>Ya</td>\n",
       "      <td>Ya</td>\n",
       "      <td>...</td>\n",
       "      <td>Ya</td>\n",
       "      <td>Ya</td>\n",
       "      <td>Ya</td>\n",
       "      <td>Ya</td>\n",
       "      <td>Ya</td>\n",
       "      <td>Ya</td>\n",
       "      <td>Ya</td>\n",
       "      <td>Tidak</td>\n",
       "      <td>Tidak</td>\n",
       "      <td>Tidak</td>\n",
       "    </tr>\n",
       "    <tr>\n",
       "      <th>2</th>\n",
       "      <td>https://www.sewakost.com/jakarta/selatan/kamar...</td>\n",
       "      <td>Kamar kost Putri NON AC di Mampang</td>\n",
       "      <td>850000</td>\n",
       "      <td>Kost Putri</td>\n",
       "      <td>Jl.Mampang Prapatan VI Rt04 Rw02 No.70B</td>\n",
       "      <td>Tidak</td>\n",
       "      <td>Tidak</td>\n",
       "      <td>Tidak</td>\n",
       "      <td>Tidak</td>\n",
       "      <td>Tidak</td>\n",
       "      <td>...</td>\n",
       "      <td>Tidak</td>\n",
       "      <td>Tidak</td>\n",
       "      <td>Tidak</td>\n",
       "      <td>Tidak</td>\n",
       "      <td>Tidak</td>\n",
       "      <td>Tidak</td>\n",
       "      <td>Tidak</td>\n",
       "      <td>Tidak</td>\n",
       "      <td>Tidak</td>\n",
       "      <td>Tidak</td>\n",
       "    </tr>\n",
       "    <tr>\n",
       "      <th>3</th>\n",
       "      <td>https://www.sewakost.com/jakarta/selatan/hompy...</td>\n",
       "      <td>Hompy Timur Residence</td>\n",
       "      <td>2700000</td>\n",
       "      <td>Kost Putri</td>\n",
       "      <td>Tebet Timur Dalam 7B no. 11</td>\n",
       "      <td>Ya</td>\n",
       "      <td>Ya</td>\n",
       "      <td>Ya</td>\n",
       "      <td>Ya</td>\n",
       "      <td>Ya</td>\n",
       "      <td>...</td>\n",
       "      <td>Ya</td>\n",
       "      <td>Tidak</td>\n",
       "      <td>Tidak</td>\n",
       "      <td>Ya</td>\n",
       "      <td>Tidak</td>\n",
       "      <td>Ya</td>\n",
       "      <td>Tidak</td>\n",
       "      <td>Ya</td>\n",
       "      <td>Tidak</td>\n",
       "      <td>Tidak</td>\n",
       "    </tr>\n",
       "    <tr>\n",
       "      <th>4</th>\n",
       "      <td>https://www.sewakost.com/jakarta/selatan/rumah...</td>\n",
       "      <td>Rumah kontrakan (40m2) Pasutri baru/karyawati/...</td>\n",
       "      <td>2500000</td>\n",
       "      <td>Kost Pasutri</td>\n",
       "      <td>Jalan keselamatan 18 RT10/RW03</td>\n",
       "      <td>Ya</td>\n",
       "      <td>Tidak</td>\n",
       "      <td>Ya</td>\n",
       "      <td>Tidak</td>\n",
       "      <td>Tidak</td>\n",
       "      <td>...</td>\n",
       "      <td>Ya</td>\n",
       "      <td>Ya</td>\n",
       "      <td>Ya</td>\n",
       "      <td>Ya</td>\n",
       "      <td>Tidak</td>\n",
       "      <td>Tidak</td>\n",
       "      <td>Tidak</td>\n",
       "      <td>Tidak</td>\n",
       "      <td>Tidak</td>\n",
       "      <td>Tidak</td>\n",
       "    </tr>\n",
       "  </tbody>\n",
       "</table>\n",
       "<p>5 rows × 24 columns</p>\n",
       "</div>"
      ],
      "text/plain": [
       "                                                 url  \\\n",
       "0  https://www.sewakost.com/jakarta/selatan/kost-...   \n",
       "1  https://www.sewakost.com/jakarta/selatan/kost-...   \n",
       "2  https://www.sewakost.com/jakarta/selatan/kamar...   \n",
       "3  https://www.sewakost.com/jakarta/selatan/hompy...   \n",
       "4  https://www.sewakost.com/jakarta/selatan/rumah...   \n",
       "\n",
       "                                                nama    harga         jenis  \\\n",
       "0                   Kost Ciganjur Jalan Pasir No. 32  1000000   Kost Campur   \n",
       "1  KOST EXECUTIVE JAGAKARSA PASO CILANDAK JAKARTA...  2200000    Kost Putra   \n",
       "2                 Kamar kost Putri NON AC di Mampang   850000    Kost Putri   \n",
       "3                              Hompy Timur Residence  2700000    Kost Putri   \n",
       "4  Rumah kontrakan (40m2) Pasutri baru/karyawati/...  2500000  Kost Pasutri   \n",
       "\n",
       "                                             address aircon free_wifi  \\\n",
       "0  Jalan Pasir no 32 Kp. Setu Rt 001/006 Keluraha...  Tidak     Tidak   \n",
       "1  Jalan Paso no 6A, Jagakarsa, Cilandak, Jakarta...     Ya        Ya   \n",
       "2            Jl.Mampang Prapatan VI Rt04 Rw02 No.70B  Tidak     Tidak   \n",
       "3                        Tebet Timur Dalam 7B no. 11     Ya        Ya   \n",
       "4                     Jalan keselamatan 18 RT10/RW03     Ya     Tidak   \n",
       "\n",
       "  kamar_mandi_dalam Spring Bed_fkamar Perabot_fkamar  ... Parkir Motor_fkost  \\\n",
       "0                Ya             Tidak          Tidak  ...                 Ya   \n",
       "1                Ya                Ya             Ya  ...                 Ya   \n",
       "2             Tidak             Tidak          Tidak  ...              Tidak   \n",
       "3                Ya                Ya             Ya  ...                 Ya   \n",
       "4                Ya             Tidak          Tidak  ...                 Ya   \n",
       "\n",
       "  Ruang Tamu_fkost Ruang Makan_fkost Dapur_fkost Air Minum_fkost  \\\n",
       "0            Tidak             Tidak       Tidak           Tidak   \n",
       "1               Ya                Ya          Ya              Ya   \n",
       "2            Tidak             Tidak       Tidak           Tidak   \n",
       "3            Tidak             Tidak          Ya           Tidak   \n",
       "4               Ya                Ya          Ya           Tidak   \n",
       "\n",
       "  Pembantu_fkost Parkir Mobil_fkost Cuci Setrika_fkost  \\\n",
       "0          Tidak              Tidak              Tidak   \n",
       "1             Ya                 Ya              Tidak   \n",
       "2          Tidak              Tidak              Tidak   \n",
       "3             Ya              Tidak                 Ya   \n",
       "4          Tidak              Tidak              Tidak   \n",
       "\n",
       "  Mesin Cuci (Cuci Sendiri)_fkost Televisi_fkost  \n",
       "0                           Tidak          Tidak  \n",
       "1                           Tidak          Tidak  \n",
       "2                           Tidak          Tidak  \n",
       "3                           Tidak          Tidak  \n",
       "4                           Tidak          Tidak  \n",
       "\n",
       "[5 rows x 24 columns]"
      ]
     },
     "execution_count": 88,
     "metadata": {},
     "output_type": "execute_result"
    }
   ],
   "source": [
    "df.head()"
   ]
  },
  {
   "cell_type": "code",
   "execution_count": 89,
   "metadata": {},
   "outputs": [
    {
     "data": {
      "text/plain": [
       "(872, 24)"
      ]
     },
     "execution_count": 89,
     "metadata": {},
     "output_type": "execute_result"
    }
   ],
   "source": [
    "df.shape"
   ]
  },
  {
   "cell_type": "markdown",
   "metadata": {},
   "source": [
    "Terlihat pada `df` terdapat tambahan 14 kolom baru. Dimana kolom-kolom tersebut adalah informasi untuk masing-masing fasilitas. Contoh pada kolom `Spring Bed_fkamar` memiliki dua nilai yaitu `Ya` atau `Tidak` yang menandakan apakah disediakan Spring Bed untuk masing-masing kost atau tidak. Begitupun dengan kolom-kolom lainnya dengan nilai `Ya` atau `Tidak`.\n",
    "\n",
    "Selanjutnya dataframe dalam bentuk ini dieksport ke dalam .tsv baru untuk memudahkan pengolahan data selanjutnya."
   ]
  },
  {
   "cell_type": "code",
   "execution_count": 90,
   "metadata": {},
   "outputs": [],
   "source": [
    "# Menyimpan data\n",
    "df.to_csv('sewakost_clean.tsv', sep=\"\\t\", index = False)"
   ]
  },
  {
   "cell_type": "markdown",
   "metadata": {},
   "source": [
    "# Eksplorasi Data\n",
    "\n",
    "Pada tahapan ini akan dilakukan eksplorasi data, mencari korelasi antar variabel serta persiapan data untuk pembangunan model."
   ]
  },
  {
   "cell_type": "code",
   "execution_count": 62,
   "metadata": {},
   "outputs": [],
   "source": [
    "import pandas as pd\n",
    "import numpy as np"
   ]
  },
  {
   "cell_type": "code",
   "execution_count": 63,
   "metadata": {},
   "outputs": [
    {
     "data": {
      "text/html": [
       "<div>\n",
       "<style scoped>\n",
       "    .dataframe tbody tr th:only-of-type {\n",
       "        vertical-align: middle;\n",
       "    }\n",
       "\n",
       "    .dataframe tbody tr th {\n",
       "        vertical-align: top;\n",
       "    }\n",
       "\n",
       "    .dataframe thead th {\n",
       "        text-align: right;\n",
       "    }\n",
       "</style>\n",
       "<table border=\"1\" class=\"dataframe\">\n",
       "  <thead>\n",
       "    <tr style=\"text-align: right;\">\n",
       "      <th></th>\n",
       "      <th>url</th>\n",
       "      <th>nama</th>\n",
       "      <th>harga</th>\n",
       "      <th>jenis</th>\n",
       "      <th>address</th>\n",
       "      <th>aircon</th>\n",
       "      <th>free_wifi</th>\n",
       "      <th>kamar_mandi_dalam</th>\n",
       "      <th>Spring Bed_fkamar</th>\n",
       "      <th>Perabot_fkamar</th>\n",
       "      <th>...</th>\n",
       "      <th>Parkir Motor_fkost</th>\n",
       "      <th>Ruang Tamu_fkost</th>\n",
       "      <th>Ruang Makan_fkost</th>\n",
       "      <th>Dapur_fkost</th>\n",
       "      <th>Air Minum_fkost</th>\n",
       "      <th>Pembantu_fkost</th>\n",
       "      <th>Parkir Mobil_fkost</th>\n",
       "      <th>Cuci Setrika_fkost</th>\n",
       "      <th>Mesin Cuci (Cuci Sendiri)_fkost</th>\n",
       "      <th>Televisi_fkost</th>\n",
       "    </tr>\n",
       "  </thead>\n",
       "  <tbody>\n",
       "    <tr>\n",
       "      <th>0</th>\n",
       "      <td>https://www.sewakost.com/jakarta/selatan/kost-...</td>\n",
       "      <td>Kost Ciganjur Jalan Pasir No. 32</td>\n",
       "      <td>1000000</td>\n",
       "      <td>Kost Campur</td>\n",
       "      <td>Jalan Pasir no 32 Kp. Setu Rt 001/006 Keluraha...</td>\n",
       "      <td>Tidak</td>\n",
       "      <td>Tidak</td>\n",
       "      <td>Ya</td>\n",
       "      <td>Tidak</td>\n",
       "      <td>Tidak</td>\n",
       "      <td>...</td>\n",
       "      <td>Ya</td>\n",
       "      <td>Tidak</td>\n",
       "      <td>Tidak</td>\n",
       "      <td>Tidak</td>\n",
       "      <td>Tidak</td>\n",
       "      <td>Tidak</td>\n",
       "      <td>Tidak</td>\n",
       "      <td>Tidak</td>\n",
       "      <td>Tidak</td>\n",
       "      <td>Tidak</td>\n",
       "    </tr>\n",
       "    <tr>\n",
       "      <th>1</th>\n",
       "      <td>https://www.sewakost.com/jakarta/selatan/kost-...</td>\n",
       "      <td>KOST EXECUTIVE JAGAKARSA PASO CILANDAK JAKARTA...</td>\n",
       "      <td>2200000</td>\n",
       "      <td>Kost Putra</td>\n",
       "      <td>Jalan Paso no 6A, Jagakarsa, Cilandak, Jakarta...</td>\n",
       "      <td>Ya</td>\n",
       "      <td>Ya</td>\n",
       "      <td>Ya</td>\n",
       "      <td>Ya</td>\n",
       "      <td>Ya</td>\n",
       "      <td>...</td>\n",
       "      <td>Ya</td>\n",
       "      <td>Ya</td>\n",
       "      <td>Ya</td>\n",
       "      <td>Ya</td>\n",
       "      <td>Ya</td>\n",
       "      <td>Ya</td>\n",
       "      <td>Ya</td>\n",
       "      <td>Tidak</td>\n",
       "      <td>Tidak</td>\n",
       "      <td>Tidak</td>\n",
       "    </tr>\n",
       "    <tr>\n",
       "      <th>2</th>\n",
       "      <td>https://www.sewakost.com/jakarta/selatan/kamar...</td>\n",
       "      <td>Kamar kost Putri NON AC di Mampang</td>\n",
       "      <td>850000</td>\n",
       "      <td>Kost Putri</td>\n",
       "      <td>Jl.Mampang Prapatan VI Rt04 Rw02 No.70B</td>\n",
       "      <td>Tidak</td>\n",
       "      <td>Tidak</td>\n",
       "      <td>Tidak</td>\n",
       "      <td>Tidak</td>\n",
       "      <td>Tidak</td>\n",
       "      <td>...</td>\n",
       "      <td>Tidak</td>\n",
       "      <td>Tidak</td>\n",
       "      <td>Tidak</td>\n",
       "      <td>Tidak</td>\n",
       "      <td>Tidak</td>\n",
       "      <td>Tidak</td>\n",
       "      <td>Tidak</td>\n",
       "      <td>Tidak</td>\n",
       "      <td>Tidak</td>\n",
       "      <td>Tidak</td>\n",
       "    </tr>\n",
       "    <tr>\n",
       "      <th>3</th>\n",
       "      <td>https://www.sewakost.com/jakarta/selatan/hompy...</td>\n",
       "      <td>Hompy Timur Residence</td>\n",
       "      <td>2700000</td>\n",
       "      <td>Kost Putri</td>\n",
       "      <td>Tebet Timur Dalam 7B no. 11</td>\n",
       "      <td>Ya</td>\n",
       "      <td>Ya</td>\n",
       "      <td>Ya</td>\n",
       "      <td>Ya</td>\n",
       "      <td>Ya</td>\n",
       "      <td>...</td>\n",
       "      <td>Ya</td>\n",
       "      <td>Tidak</td>\n",
       "      <td>Tidak</td>\n",
       "      <td>Ya</td>\n",
       "      <td>Tidak</td>\n",
       "      <td>Ya</td>\n",
       "      <td>Tidak</td>\n",
       "      <td>Ya</td>\n",
       "      <td>Tidak</td>\n",
       "      <td>Tidak</td>\n",
       "    </tr>\n",
       "    <tr>\n",
       "      <th>4</th>\n",
       "      <td>https://www.sewakost.com/jakarta/selatan/rumah...</td>\n",
       "      <td>Rumah kontrakan (40m2) Pasutri baru/karyawati/...</td>\n",
       "      <td>2500000</td>\n",
       "      <td>Kost Pasutri</td>\n",
       "      <td>Jalan keselamatan 18 RT10/RW03</td>\n",
       "      <td>Ya</td>\n",
       "      <td>Tidak</td>\n",
       "      <td>Ya</td>\n",
       "      <td>Tidak</td>\n",
       "      <td>Tidak</td>\n",
       "      <td>...</td>\n",
       "      <td>Ya</td>\n",
       "      <td>Ya</td>\n",
       "      <td>Ya</td>\n",
       "      <td>Ya</td>\n",
       "      <td>Tidak</td>\n",
       "      <td>Tidak</td>\n",
       "      <td>Tidak</td>\n",
       "      <td>Tidak</td>\n",
       "      <td>Tidak</td>\n",
       "      <td>Tidak</td>\n",
       "    </tr>\n",
       "  </tbody>\n",
       "</table>\n",
       "<p>5 rows × 24 columns</p>\n",
       "</div>"
      ],
      "text/plain": [
       "                                                 url  \\\n",
       "0  https://www.sewakost.com/jakarta/selatan/kost-...   \n",
       "1  https://www.sewakost.com/jakarta/selatan/kost-...   \n",
       "2  https://www.sewakost.com/jakarta/selatan/kamar...   \n",
       "3  https://www.sewakost.com/jakarta/selatan/hompy...   \n",
       "4  https://www.sewakost.com/jakarta/selatan/rumah...   \n",
       "\n",
       "                                                nama    harga         jenis  \\\n",
       "0                   Kost Ciganjur Jalan Pasir No. 32  1000000   Kost Campur   \n",
       "1  KOST EXECUTIVE JAGAKARSA PASO CILANDAK JAKARTA...  2200000    Kost Putra   \n",
       "2                 Kamar kost Putri NON AC di Mampang   850000    Kost Putri   \n",
       "3                              Hompy Timur Residence  2700000    Kost Putri   \n",
       "4  Rumah kontrakan (40m2) Pasutri baru/karyawati/...  2500000  Kost Pasutri   \n",
       "\n",
       "                                             address aircon free_wifi  \\\n",
       "0  Jalan Pasir no 32 Kp. Setu Rt 001/006 Keluraha...  Tidak     Tidak   \n",
       "1  Jalan Paso no 6A, Jagakarsa, Cilandak, Jakarta...     Ya        Ya   \n",
       "2            Jl.Mampang Prapatan VI Rt04 Rw02 No.70B  Tidak     Tidak   \n",
       "3                        Tebet Timur Dalam 7B no. 11     Ya        Ya   \n",
       "4                     Jalan keselamatan 18 RT10/RW03     Ya     Tidak   \n",
       "\n",
       "  kamar_mandi_dalam Spring Bed_fkamar Perabot_fkamar  ... Parkir Motor_fkost  \\\n",
       "0                Ya             Tidak          Tidak  ...                 Ya   \n",
       "1                Ya                Ya             Ya  ...                 Ya   \n",
       "2             Tidak             Tidak          Tidak  ...              Tidak   \n",
       "3                Ya                Ya             Ya  ...                 Ya   \n",
       "4                Ya             Tidak          Tidak  ...                 Ya   \n",
       "\n",
       "  Ruang Tamu_fkost Ruang Makan_fkost Dapur_fkost Air Minum_fkost  \\\n",
       "0            Tidak             Tidak       Tidak           Tidak   \n",
       "1               Ya                Ya          Ya              Ya   \n",
       "2            Tidak             Tidak       Tidak           Tidak   \n",
       "3            Tidak             Tidak          Ya           Tidak   \n",
       "4               Ya                Ya          Ya           Tidak   \n",
       "\n",
       "  Pembantu_fkost Parkir Mobil_fkost Cuci Setrika_fkost  \\\n",
       "0          Tidak              Tidak              Tidak   \n",
       "1             Ya                 Ya              Tidak   \n",
       "2          Tidak              Tidak              Tidak   \n",
       "3             Ya              Tidak                 Ya   \n",
       "4          Tidak              Tidak              Tidak   \n",
       "\n",
       "  Mesin Cuci (Cuci Sendiri)_fkost Televisi_fkost  \n",
       "0                           Tidak          Tidak  \n",
       "1                           Tidak          Tidak  \n",
       "2                           Tidak          Tidak  \n",
       "3                           Tidak          Tidak  \n",
       "4                           Tidak          Tidak  \n",
       "\n",
       "[5 rows x 24 columns]"
      ]
     },
     "execution_count": 63,
     "metadata": {},
     "output_type": "execute_result"
    }
   ],
   "source": [
    "kost_clean = pd.read_csv('sewakost_clean.tsv', sep=\"\\t\")\n",
    "\n",
    "kost_clean.head(5)"
   ]
  },
  {
   "cell_type": "markdown",
   "metadata": {},
   "source": [
    "Harga akan dibagi seribu untuk memudahkan pembacaan angka. Sehingga yang tadinya 1000000 (1 juta) akan menjadi 1000, begitupun untuk 900000 (sembilan ratus ribu) hanya akan menjadi 900"
   ]
  },
  {
   "cell_type": "code",
   "execution_count": 64,
   "metadata": {},
   "outputs": [
    {
     "data": {
      "text/html": [
       "<div>\n",
       "<style scoped>\n",
       "    .dataframe tbody tr th:only-of-type {\n",
       "        vertical-align: middle;\n",
       "    }\n",
       "\n",
       "    .dataframe tbody tr th {\n",
       "        vertical-align: top;\n",
       "    }\n",
       "\n",
       "    .dataframe thead th {\n",
       "        text-align: right;\n",
       "    }\n",
       "</style>\n",
       "<table border=\"1\" class=\"dataframe\">\n",
       "  <thead>\n",
       "    <tr style=\"text-align: right;\">\n",
       "      <th></th>\n",
       "      <th>url</th>\n",
       "      <th>nama</th>\n",
       "      <th>harga</th>\n",
       "      <th>jenis</th>\n",
       "      <th>address</th>\n",
       "      <th>aircon</th>\n",
       "      <th>free_wifi</th>\n",
       "      <th>kamar_mandi_dalam</th>\n",
       "      <th>Spring Bed_fkamar</th>\n",
       "      <th>Perabot_fkamar</th>\n",
       "      <th>...</th>\n",
       "      <th>Parkir Motor_fkost</th>\n",
       "      <th>Ruang Tamu_fkost</th>\n",
       "      <th>Ruang Makan_fkost</th>\n",
       "      <th>Dapur_fkost</th>\n",
       "      <th>Air Minum_fkost</th>\n",
       "      <th>Pembantu_fkost</th>\n",
       "      <th>Parkir Mobil_fkost</th>\n",
       "      <th>Cuci Setrika_fkost</th>\n",
       "      <th>Mesin Cuci (Cuci Sendiri)_fkost</th>\n",
       "      <th>Televisi_fkost</th>\n",
       "    </tr>\n",
       "  </thead>\n",
       "  <tbody>\n",
       "    <tr>\n",
       "      <th>0</th>\n",
       "      <td>https://www.sewakost.com/jakarta/selatan/kost-...</td>\n",
       "      <td>Kost Ciganjur Jalan Pasir No. 32</td>\n",
       "      <td>1000.0</td>\n",
       "      <td>Kost Campur</td>\n",
       "      <td>Jalan Pasir no 32 Kp. Setu Rt 001/006 Keluraha...</td>\n",
       "      <td>Tidak</td>\n",
       "      <td>Tidak</td>\n",
       "      <td>Ya</td>\n",
       "      <td>Tidak</td>\n",
       "      <td>Tidak</td>\n",
       "      <td>...</td>\n",
       "      <td>Ya</td>\n",
       "      <td>Tidak</td>\n",
       "      <td>Tidak</td>\n",
       "      <td>Tidak</td>\n",
       "      <td>Tidak</td>\n",
       "      <td>Tidak</td>\n",
       "      <td>Tidak</td>\n",
       "      <td>Tidak</td>\n",
       "      <td>Tidak</td>\n",
       "      <td>Tidak</td>\n",
       "    </tr>\n",
       "    <tr>\n",
       "      <th>1</th>\n",
       "      <td>https://www.sewakost.com/jakarta/selatan/kost-...</td>\n",
       "      <td>KOST EXECUTIVE JAGAKARSA PASO CILANDAK JAKARTA...</td>\n",
       "      <td>2200.0</td>\n",
       "      <td>Kost Putra</td>\n",
       "      <td>Jalan Paso no 6A, Jagakarsa, Cilandak, Jakarta...</td>\n",
       "      <td>Ya</td>\n",
       "      <td>Ya</td>\n",
       "      <td>Ya</td>\n",
       "      <td>Ya</td>\n",
       "      <td>Ya</td>\n",
       "      <td>...</td>\n",
       "      <td>Ya</td>\n",
       "      <td>Ya</td>\n",
       "      <td>Ya</td>\n",
       "      <td>Ya</td>\n",
       "      <td>Ya</td>\n",
       "      <td>Ya</td>\n",
       "      <td>Ya</td>\n",
       "      <td>Tidak</td>\n",
       "      <td>Tidak</td>\n",
       "      <td>Tidak</td>\n",
       "    </tr>\n",
       "    <tr>\n",
       "      <th>2</th>\n",
       "      <td>https://www.sewakost.com/jakarta/selatan/kamar...</td>\n",
       "      <td>Kamar kost Putri NON AC di Mampang</td>\n",
       "      <td>850.0</td>\n",
       "      <td>Kost Putri</td>\n",
       "      <td>Jl.Mampang Prapatan VI Rt04 Rw02 No.70B</td>\n",
       "      <td>Tidak</td>\n",
       "      <td>Tidak</td>\n",
       "      <td>Tidak</td>\n",
       "      <td>Tidak</td>\n",
       "      <td>Tidak</td>\n",
       "      <td>...</td>\n",
       "      <td>Tidak</td>\n",
       "      <td>Tidak</td>\n",
       "      <td>Tidak</td>\n",
       "      <td>Tidak</td>\n",
       "      <td>Tidak</td>\n",
       "      <td>Tidak</td>\n",
       "      <td>Tidak</td>\n",
       "      <td>Tidak</td>\n",
       "      <td>Tidak</td>\n",
       "      <td>Tidak</td>\n",
       "    </tr>\n",
       "    <tr>\n",
       "      <th>3</th>\n",
       "      <td>https://www.sewakost.com/jakarta/selatan/hompy...</td>\n",
       "      <td>Hompy Timur Residence</td>\n",
       "      <td>2700.0</td>\n",
       "      <td>Kost Putri</td>\n",
       "      <td>Tebet Timur Dalam 7B no. 11</td>\n",
       "      <td>Ya</td>\n",
       "      <td>Ya</td>\n",
       "      <td>Ya</td>\n",
       "      <td>Ya</td>\n",
       "      <td>Ya</td>\n",
       "      <td>...</td>\n",
       "      <td>Ya</td>\n",
       "      <td>Tidak</td>\n",
       "      <td>Tidak</td>\n",
       "      <td>Ya</td>\n",
       "      <td>Tidak</td>\n",
       "      <td>Ya</td>\n",
       "      <td>Tidak</td>\n",
       "      <td>Ya</td>\n",
       "      <td>Tidak</td>\n",
       "      <td>Tidak</td>\n",
       "    </tr>\n",
       "    <tr>\n",
       "      <th>4</th>\n",
       "      <td>https://www.sewakost.com/jakarta/selatan/rumah...</td>\n",
       "      <td>Rumah kontrakan (40m2) Pasutri baru/karyawati/...</td>\n",
       "      <td>2500.0</td>\n",
       "      <td>Kost Pasutri</td>\n",
       "      <td>Jalan keselamatan 18 RT10/RW03</td>\n",
       "      <td>Ya</td>\n",
       "      <td>Tidak</td>\n",
       "      <td>Ya</td>\n",
       "      <td>Tidak</td>\n",
       "      <td>Tidak</td>\n",
       "      <td>...</td>\n",
       "      <td>Ya</td>\n",
       "      <td>Ya</td>\n",
       "      <td>Ya</td>\n",
       "      <td>Ya</td>\n",
       "      <td>Tidak</td>\n",
       "      <td>Tidak</td>\n",
       "      <td>Tidak</td>\n",
       "      <td>Tidak</td>\n",
       "      <td>Tidak</td>\n",
       "      <td>Tidak</td>\n",
       "    </tr>\n",
       "  </tbody>\n",
       "</table>\n",
       "<p>5 rows × 24 columns</p>\n",
       "</div>"
      ],
      "text/plain": [
       "                                                 url  \\\n",
       "0  https://www.sewakost.com/jakarta/selatan/kost-...   \n",
       "1  https://www.sewakost.com/jakarta/selatan/kost-...   \n",
       "2  https://www.sewakost.com/jakarta/selatan/kamar...   \n",
       "3  https://www.sewakost.com/jakarta/selatan/hompy...   \n",
       "4  https://www.sewakost.com/jakarta/selatan/rumah...   \n",
       "\n",
       "                                                nama   harga         jenis  \\\n",
       "0                   Kost Ciganjur Jalan Pasir No. 32  1000.0   Kost Campur   \n",
       "1  KOST EXECUTIVE JAGAKARSA PASO CILANDAK JAKARTA...  2200.0    Kost Putra   \n",
       "2                 Kamar kost Putri NON AC di Mampang   850.0    Kost Putri   \n",
       "3                              Hompy Timur Residence  2700.0    Kost Putri   \n",
       "4  Rumah kontrakan (40m2) Pasutri baru/karyawati/...  2500.0  Kost Pasutri   \n",
       "\n",
       "                                             address aircon free_wifi  \\\n",
       "0  Jalan Pasir no 32 Kp. Setu Rt 001/006 Keluraha...  Tidak     Tidak   \n",
       "1  Jalan Paso no 6A, Jagakarsa, Cilandak, Jakarta...     Ya        Ya   \n",
       "2            Jl.Mampang Prapatan VI Rt04 Rw02 No.70B  Tidak     Tidak   \n",
       "3                        Tebet Timur Dalam 7B no. 11     Ya        Ya   \n",
       "4                     Jalan keselamatan 18 RT10/RW03     Ya     Tidak   \n",
       "\n",
       "  kamar_mandi_dalam Spring Bed_fkamar Perabot_fkamar  ... Parkir Motor_fkost  \\\n",
       "0                Ya             Tidak          Tidak  ...                 Ya   \n",
       "1                Ya                Ya             Ya  ...                 Ya   \n",
       "2             Tidak             Tidak          Tidak  ...              Tidak   \n",
       "3                Ya                Ya             Ya  ...                 Ya   \n",
       "4                Ya             Tidak          Tidak  ...                 Ya   \n",
       "\n",
       "  Ruang Tamu_fkost Ruang Makan_fkost Dapur_fkost Air Minum_fkost  \\\n",
       "0            Tidak             Tidak       Tidak           Tidak   \n",
       "1               Ya                Ya          Ya              Ya   \n",
       "2            Tidak             Tidak       Tidak           Tidak   \n",
       "3            Tidak             Tidak          Ya           Tidak   \n",
       "4               Ya                Ya          Ya           Tidak   \n",
       "\n",
       "  Pembantu_fkost Parkir Mobil_fkost Cuci Setrika_fkost  \\\n",
       "0          Tidak              Tidak              Tidak   \n",
       "1             Ya                 Ya              Tidak   \n",
       "2          Tidak              Tidak              Tidak   \n",
       "3             Ya              Tidak                 Ya   \n",
       "4          Tidak              Tidak              Tidak   \n",
       "\n",
       "  Mesin Cuci (Cuci Sendiri)_fkost Televisi_fkost  \n",
       "0                           Tidak          Tidak  \n",
       "1                           Tidak          Tidak  \n",
       "2                           Tidak          Tidak  \n",
       "3                           Tidak          Tidak  \n",
       "4                           Tidak          Tidak  \n",
       "\n",
       "[5 rows x 24 columns]"
      ]
     },
     "execution_count": 64,
     "metadata": {},
     "output_type": "execute_result"
    }
   ],
   "source": [
    "kost_clean['harga'] = kost_clean['harga'] / 1e3\n",
    "\n",
    "kost_clean.head()"
   ]
  },
  {
   "cell_type": "markdown",
   "metadata": {},
   "source": [
    "## Binary Encoding"
   ]
  },
  {
   "cell_type": "markdown",
   "metadata": {},
   "source": [
    "Terlihat pada dataframe ini, kolom fasilitas dimulai dari kolom dengan index 5 (index dimulai dari 0) hingga kolom dengan index terakhir."
   ]
  },
  {
   "cell_type": "code",
   "execution_count": 65,
   "metadata": {},
   "outputs": [
    {
     "data": {
      "text/html": [
       "<div>\n",
       "<style scoped>\n",
       "    .dataframe tbody tr th:only-of-type {\n",
       "        vertical-align: middle;\n",
       "    }\n",
       "\n",
       "    .dataframe tbody tr th {\n",
       "        vertical-align: top;\n",
       "    }\n",
       "\n",
       "    .dataframe thead th {\n",
       "        text-align: right;\n",
       "    }\n",
       "</style>\n",
       "<table border=\"1\" class=\"dataframe\">\n",
       "  <thead>\n",
       "    <tr style=\"text-align: right;\">\n",
       "      <th></th>\n",
       "      <th>aircon</th>\n",
       "      <th>free_wifi</th>\n",
       "      <th>kamar_mandi_dalam</th>\n",
       "      <th>Spring Bed_fkamar</th>\n",
       "      <th>Perabot_fkamar</th>\n",
       "      <th>TV_fkamar</th>\n",
       "      <th>Pemanas Air (Water Heater)_fkamar</th>\n",
       "      <th>Kulkas_fkamar</th>\n",
       "      <th>Keamanan_fkost</th>\n",
       "      <th>Parkir Motor_fkost</th>\n",
       "      <th>Ruang Tamu_fkost</th>\n",
       "      <th>Ruang Makan_fkost</th>\n",
       "      <th>Dapur_fkost</th>\n",
       "      <th>Air Minum_fkost</th>\n",
       "      <th>Pembantu_fkost</th>\n",
       "      <th>Parkir Mobil_fkost</th>\n",
       "      <th>Cuci Setrika_fkost</th>\n",
       "      <th>Mesin Cuci (Cuci Sendiri)_fkost</th>\n",
       "      <th>Televisi_fkost</th>\n",
       "    </tr>\n",
       "  </thead>\n",
       "  <tbody>\n",
       "    <tr>\n",
       "      <th>0</th>\n",
       "      <td>Tidak</td>\n",
       "      <td>Tidak</td>\n",
       "      <td>Ya</td>\n",
       "      <td>Tidak</td>\n",
       "      <td>Tidak</td>\n",
       "      <td>Tidak</td>\n",
       "      <td>Tidak</td>\n",
       "      <td>Tidak</td>\n",
       "      <td>Ya</td>\n",
       "      <td>Ya</td>\n",
       "      <td>Tidak</td>\n",
       "      <td>Tidak</td>\n",
       "      <td>Tidak</td>\n",
       "      <td>Tidak</td>\n",
       "      <td>Tidak</td>\n",
       "      <td>Tidak</td>\n",
       "      <td>Tidak</td>\n",
       "      <td>Tidak</td>\n",
       "      <td>Tidak</td>\n",
       "    </tr>\n",
       "    <tr>\n",
       "      <th>1</th>\n",
       "      <td>Ya</td>\n",
       "      <td>Ya</td>\n",
       "      <td>Ya</td>\n",
       "      <td>Ya</td>\n",
       "      <td>Ya</td>\n",
       "      <td>Ya</td>\n",
       "      <td>Tidak</td>\n",
       "      <td>Tidak</td>\n",
       "      <td>Tidak</td>\n",
       "      <td>Ya</td>\n",
       "      <td>Ya</td>\n",
       "      <td>Ya</td>\n",
       "      <td>Ya</td>\n",
       "      <td>Ya</td>\n",
       "      <td>Ya</td>\n",
       "      <td>Ya</td>\n",
       "      <td>Tidak</td>\n",
       "      <td>Tidak</td>\n",
       "      <td>Tidak</td>\n",
       "    </tr>\n",
       "    <tr>\n",
       "      <th>2</th>\n",
       "      <td>Tidak</td>\n",
       "      <td>Tidak</td>\n",
       "      <td>Tidak</td>\n",
       "      <td>Tidak</td>\n",
       "      <td>Tidak</td>\n",
       "      <td>Tidak</td>\n",
       "      <td>Tidak</td>\n",
       "      <td>Tidak</td>\n",
       "      <td>Tidak</td>\n",
       "      <td>Tidak</td>\n",
       "      <td>Tidak</td>\n",
       "      <td>Tidak</td>\n",
       "      <td>Tidak</td>\n",
       "      <td>Tidak</td>\n",
       "      <td>Tidak</td>\n",
       "      <td>Tidak</td>\n",
       "      <td>Tidak</td>\n",
       "      <td>Tidak</td>\n",
       "      <td>Tidak</td>\n",
       "    </tr>\n",
       "    <tr>\n",
       "      <th>3</th>\n",
       "      <td>Ya</td>\n",
       "      <td>Ya</td>\n",
       "      <td>Ya</td>\n",
       "      <td>Ya</td>\n",
       "      <td>Ya</td>\n",
       "      <td>Tidak</td>\n",
       "      <td>Ya</td>\n",
       "      <td>Tidak</td>\n",
       "      <td>Ya</td>\n",
       "      <td>Ya</td>\n",
       "      <td>Tidak</td>\n",
       "      <td>Tidak</td>\n",
       "      <td>Ya</td>\n",
       "      <td>Tidak</td>\n",
       "      <td>Ya</td>\n",
       "      <td>Tidak</td>\n",
       "      <td>Ya</td>\n",
       "      <td>Tidak</td>\n",
       "      <td>Tidak</td>\n",
       "    </tr>\n",
       "    <tr>\n",
       "      <th>4</th>\n",
       "      <td>Ya</td>\n",
       "      <td>Tidak</td>\n",
       "      <td>Ya</td>\n",
       "      <td>Tidak</td>\n",
       "      <td>Tidak</td>\n",
       "      <td>Tidak</td>\n",
       "      <td>Tidak</td>\n",
       "      <td>Tidak</td>\n",
       "      <td>Ya</td>\n",
       "      <td>Ya</td>\n",
       "      <td>Ya</td>\n",
       "      <td>Ya</td>\n",
       "      <td>Ya</td>\n",
       "      <td>Tidak</td>\n",
       "      <td>Tidak</td>\n",
       "      <td>Tidak</td>\n",
       "      <td>Tidak</td>\n",
       "      <td>Tidak</td>\n",
       "      <td>Tidak</td>\n",
       "    </tr>\n",
       "  </tbody>\n",
       "</table>\n",
       "</div>"
      ],
      "text/plain": [
       "  aircon free_wifi kamar_mandi_dalam Spring Bed_fkamar Perabot_fkamar  \\\n",
       "0  Tidak     Tidak                Ya             Tidak          Tidak   \n",
       "1     Ya        Ya                Ya                Ya             Ya   \n",
       "2  Tidak     Tidak             Tidak             Tidak          Tidak   \n",
       "3     Ya        Ya                Ya                Ya             Ya   \n",
       "4     Ya     Tidak                Ya             Tidak          Tidak   \n",
       "\n",
       "  TV_fkamar Pemanas Air (Water Heater)_fkamar Kulkas_fkamar Keamanan_fkost  \\\n",
       "0     Tidak                             Tidak         Tidak             Ya   \n",
       "1        Ya                             Tidak         Tidak          Tidak   \n",
       "2     Tidak                             Tidak         Tidak          Tidak   \n",
       "3     Tidak                                Ya         Tidak             Ya   \n",
       "4     Tidak                             Tidak         Tidak             Ya   \n",
       "\n",
       "  Parkir Motor_fkost Ruang Tamu_fkost Ruang Makan_fkost Dapur_fkost  \\\n",
       "0                 Ya            Tidak             Tidak       Tidak   \n",
       "1                 Ya               Ya                Ya          Ya   \n",
       "2              Tidak            Tidak             Tidak       Tidak   \n",
       "3                 Ya            Tidak             Tidak          Ya   \n",
       "4                 Ya               Ya                Ya          Ya   \n",
       "\n",
       "  Air Minum_fkost Pembantu_fkost Parkir Mobil_fkost Cuci Setrika_fkost  \\\n",
       "0           Tidak          Tidak              Tidak              Tidak   \n",
       "1              Ya             Ya                 Ya              Tidak   \n",
       "2           Tidak          Tidak              Tidak              Tidak   \n",
       "3           Tidak             Ya              Tidak                 Ya   \n",
       "4           Tidak          Tidak              Tidak              Tidak   \n",
       "\n",
       "  Mesin Cuci (Cuci Sendiri)_fkost Televisi_fkost  \n",
       "0                           Tidak          Tidak  \n",
       "1                           Tidak          Tidak  \n",
       "2                           Tidak          Tidak  \n",
       "3                           Tidak          Tidak  \n",
       "4                           Tidak          Tidak  "
      ]
     },
     "execution_count": 65,
     "metadata": {},
     "output_type": "execute_result"
    }
   ],
   "source": [
    "kost_clean.iloc[:, 5:].head()"
   ]
  },
  {
   "cell_type": "markdown",
   "metadata": {},
   "source": [
    "Pada setiap kolom fasilitas nilai masih dalam bentuk `Ya` atau `Tidak`. Nilai kategorikal ini akan kita ubah menjadi nilai `1` untuk `Ya` dan `0` untuk `Tidak`. Proses ini biasanya dikenal sebagai *Binary Encoding*. Melakukan *encoding* bermanfaat dalam pemrosesan/pembelajaran data salah satunya dapat mempercepat proses pengolahan/pembelajaran data.<sup>[[1](https://www.sciencedirect.com/topics/engineering/binary-encoding)]</sup>\n",
    "\n",
    "Tahapan selanjutnya akan dilakukan *binary encoding* untuk mengubah kolom fasilitas menjadi nilai `0` dan `1`."
   ]
  },
  {
   "cell_type": "code",
   "execution_count": 66,
   "metadata": {},
   "outputs": [],
   "source": [
    "# Mencari nilai `Ya`, jika iya maka nilai diubah menjadi 1, jika tidak menjadi 0\n",
    "kost_clean.iloc[:, 5:] = np.where(kost_clean.iloc[:, 5:] == 'Ya', 1, 0)"
   ]
  },
  {
   "cell_type": "code",
   "execution_count": 67,
   "metadata": {},
   "outputs": [
    {
     "data": {
      "text/html": [
       "<div>\n",
       "<style scoped>\n",
       "    .dataframe tbody tr th:only-of-type {\n",
       "        vertical-align: middle;\n",
       "    }\n",
       "\n",
       "    .dataframe tbody tr th {\n",
       "        vertical-align: top;\n",
       "    }\n",
       "\n",
       "    .dataframe thead th {\n",
       "        text-align: right;\n",
       "    }\n",
       "</style>\n",
       "<table border=\"1\" class=\"dataframe\">\n",
       "  <thead>\n",
       "    <tr style=\"text-align: right;\">\n",
       "      <th></th>\n",
       "      <th>aircon</th>\n",
       "      <th>free_wifi</th>\n",
       "      <th>kamar_mandi_dalam</th>\n",
       "      <th>Spring Bed_fkamar</th>\n",
       "      <th>Perabot_fkamar</th>\n",
       "      <th>TV_fkamar</th>\n",
       "      <th>Pemanas Air (Water Heater)_fkamar</th>\n",
       "      <th>Kulkas_fkamar</th>\n",
       "      <th>Keamanan_fkost</th>\n",
       "      <th>Parkir Motor_fkost</th>\n",
       "      <th>Ruang Tamu_fkost</th>\n",
       "      <th>Ruang Makan_fkost</th>\n",
       "      <th>Dapur_fkost</th>\n",
       "      <th>Air Minum_fkost</th>\n",
       "      <th>Pembantu_fkost</th>\n",
       "      <th>Parkir Mobil_fkost</th>\n",
       "      <th>Cuci Setrika_fkost</th>\n",
       "      <th>Mesin Cuci (Cuci Sendiri)_fkost</th>\n",
       "      <th>Televisi_fkost</th>\n",
       "    </tr>\n",
       "  </thead>\n",
       "  <tbody>\n",
       "    <tr>\n",
       "      <th>0</th>\n",
       "      <td>0</td>\n",
       "      <td>0</td>\n",
       "      <td>1</td>\n",
       "      <td>0</td>\n",
       "      <td>0</td>\n",
       "      <td>0</td>\n",
       "      <td>0</td>\n",
       "      <td>0</td>\n",
       "      <td>1</td>\n",
       "      <td>1</td>\n",
       "      <td>0</td>\n",
       "      <td>0</td>\n",
       "      <td>0</td>\n",
       "      <td>0</td>\n",
       "      <td>0</td>\n",
       "      <td>0</td>\n",
       "      <td>0</td>\n",
       "      <td>0</td>\n",
       "      <td>0</td>\n",
       "    </tr>\n",
       "    <tr>\n",
       "      <th>1</th>\n",
       "      <td>1</td>\n",
       "      <td>1</td>\n",
       "      <td>1</td>\n",
       "      <td>1</td>\n",
       "      <td>1</td>\n",
       "      <td>1</td>\n",
       "      <td>0</td>\n",
       "      <td>0</td>\n",
       "      <td>0</td>\n",
       "      <td>1</td>\n",
       "      <td>1</td>\n",
       "      <td>1</td>\n",
       "      <td>1</td>\n",
       "      <td>1</td>\n",
       "      <td>1</td>\n",
       "      <td>1</td>\n",
       "      <td>0</td>\n",
       "      <td>0</td>\n",
       "      <td>0</td>\n",
       "    </tr>\n",
       "    <tr>\n",
       "      <th>2</th>\n",
       "      <td>0</td>\n",
       "      <td>0</td>\n",
       "      <td>0</td>\n",
       "      <td>0</td>\n",
       "      <td>0</td>\n",
       "      <td>0</td>\n",
       "      <td>0</td>\n",
       "      <td>0</td>\n",
       "      <td>0</td>\n",
       "      <td>0</td>\n",
       "      <td>0</td>\n",
       "      <td>0</td>\n",
       "      <td>0</td>\n",
       "      <td>0</td>\n",
       "      <td>0</td>\n",
       "      <td>0</td>\n",
       "      <td>0</td>\n",
       "      <td>0</td>\n",
       "      <td>0</td>\n",
       "    </tr>\n",
       "    <tr>\n",
       "      <th>3</th>\n",
       "      <td>1</td>\n",
       "      <td>1</td>\n",
       "      <td>1</td>\n",
       "      <td>1</td>\n",
       "      <td>1</td>\n",
       "      <td>0</td>\n",
       "      <td>1</td>\n",
       "      <td>0</td>\n",
       "      <td>1</td>\n",
       "      <td>1</td>\n",
       "      <td>0</td>\n",
       "      <td>0</td>\n",
       "      <td>1</td>\n",
       "      <td>0</td>\n",
       "      <td>1</td>\n",
       "      <td>0</td>\n",
       "      <td>1</td>\n",
       "      <td>0</td>\n",
       "      <td>0</td>\n",
       "    </tr>\n",
       "    <tr>\n",
       "      <th>4</th>\n",
       "      <td>1</td>\n",
       "      <td>0</td>\n",
       "      <td>1</td>\n",
       "      <td>0</td>\n",
       "      <td>0</td>\n",
       "      <td>0</td>\n",
       "      <td>0</td>\n",
       "      <td>0</td>\n",
       "      <td>1</td>\n",
       "      <td>1</td>\n",
       "      <td>1</td>\n",
       "      <td>1</td>\n",
       "      <td>1</td>\n",
       "      <td>0</td>\n",
       "      <td>0</td>\n",
       "      <td>0</td>\n",
       "      <td>0</td>\n",
       "      <td>0</td>\n",
       "      <td>0</td>\n",
       "    </tr>\n",
       "  </tbody>\n",
       "</table>\n",
       "</div>"
      ],
      "text/plain": [
       "   aircon  free_wifi  kamar_mandi_dalam  Spring Bed_fkamar  Perabot_fkamar  \\\n",
       "0       0          0                  1                  0               0   \n",
       "1       1          1                  1                  1               1   \n",
       "2       0          0                  0                  0               0   \n",
       "3       1          1                  1                  1               1   \n",
       "4       1          0                  1                  0               0   \n",
       "\n",
       "   TV_fkamar  Pemanas Air (Water Heater)_fkamar  Kulkas_fkamar  \\\n",
       "0          0                                  0              0   \n",
       "1          1                                  0              0   \n",
       "2          0                                  0              0   \n",
       "3          0                                  1              0   \n",
       "4          0                                  0              0   \n",
       "\n",
       "   Keamanan_fkost  Parkir Motor_fkost  Ruang Tamu_fkost  Ruang Makan_fkost  \\\n",
       "0               1                   1                 0                  0   \n",
       "1               0                   1                 1                  1   \n",
       "2               0                   0                 0                  0   \n",
       "3               1                   1                 0                  0   \n",
       "4               1                   1                 1                  1   \n",
       "\n",
       "   Dapur_fkost  Air Minum_fkost  Pembantu_fkost  Parkir Mobil_fkost  \\\n",
       "0            0                0               0                   0   \n",
       "1            1                1               1                   1   \n",
       "2            0                0               0                   0   \n",
       "3            1                0               1                   0   \n",
       "4            1                0               0                   0   \n",
       "\n",
       "   Cuci Setrika_fkost  Mesin Cuci (Cuci Sendiri)_fkost  Televisi_fkost  \n",
       "0                   0                                0               0  \n",
       "1                   0                                0               0  \n",
       "2                   0                                0               0  \n",
       "3                   1                                0               0  \n",
       "4                   0                                0               0  "
      ]
     },
     "execution_count": 67,
     "metadata": {},
     "output_type": "execute_result"
    }
   ],
   "source": [
    "kost_clean.iloc[:, 5:].head()"
   ]
  },
  {
   "cell_type": "code",
   "execution_count": 68,
   "metadata": {},
   "outputs": [
    {
     "name": "stdout",
     "output_type": "stream",
     "text": [
      "<class 'pandas.core.frame.DataFrame'>\n",
      "RangeIndex: 872 entries, 0 to 871\n",
      "Data columns (total 24 columns):\n",
      " #   Column                             Non-Null Count  Dtype  \n",
      "---  ------                             --------------  -----  \n",
      " 0   url                                872 non-null    object \n",
      " 1   nama                               872 non-null    object \n",
      " 2   harga                              872 non-null    float64\n",
      " 3   jenis                              872 non-null    object \n",
      " 4   address                            872 non-null    object \n",
      " 5   aircon                             872 non-null    int64  \n",
      " 6   free_wifi                          872 non-null    int64  \n",
      " 7   kamar_mandi_dalam                  872 non-null    int64  \n",
      " 8   Spring Bed_fkamar                  872 non-null    int64  \n",
      " 9   Perabot_fkamar                     872 non-null    int64  \n",
      " 10  TV_fkamar                          872 non-null    int64  \n",
      " 11  Pemanas Air (Water Heater)_fkamar  872 non-null    int64  \n",
      " 12  Kulkas_fkamar                      872 non-null    int64  \n",
      " 13  Keamanan_fkost                     872 non-null    int64  \n",
      " 14  Parkir Motor_fkost                 872 non-null    int64  \n",
      " 15  Ruang Tamu_fkost                   872 non-null    int64  \n",
      " 16  Ruang Makan_fkost                  872 non-null    int64  \n",
      " 17  Dapur_fkost                        872 non-null    int64  \n",
      " 18  Air Minum_fkost                    872 non-null    int64  \n",
      " 19  Pembantu_fkost                     872 non-null    int64  \n",
      " 20  Parkir Mobil_fkost                 872 non-null    int64  \n",
      " 21  Cuci Setrika_fkost                 872 non-null    int64  \n",
      " 22  Mesin Cuci (Cuci Sendiri)_fkost    872 non-null    int64  \n",
      " 23  Televisi_fkost                     872 non-null    int64  \n",
      "dtypes: float64(1), int64(19), object(4)\n",
      "memory usage: 163.6+ KB\n"
     ]
    }
   ],
   "source": [
    "kost_clean.info()"
   ]
  },
  {
   "cell_type": "markdown",
   "metadata": {},
   "source": [
    "Terlihat bahwa dataframe untuk kolom fasilitas semua nilainya telah berubah menjadi nilai `0` atau `1`. Kemudian tipe data dari setiap kolom tersebut juga telah berubah menjadi tipe data `integer`. Sehingga kita dapat melakukan `describe()` untuk melihat karakteristik statistika dari setiap fasilitas."
   ]
  },
  {
   "cell_type": "code",
   "execution_count": 69,
   "metadata": {},
   "outputs": [
    {
     "data": {
      "text/html": [
       "<div>\n",
       "<style scoped>\n",
       "    .dataframe tbody tr th:only-of-type {\n",
       "        vertical-align: middle;\n",
       "    }\n",
       "\n",
       "    .dataframe tbody tr th {\n",
       "        vertical-align: top;\n",
       "    }\n",
       "\n",
       "    .dataframe thead th {\n",
       "        text-align: right;\n",
       "    }\n",
       "</style>\n",
       "<table border=\"1\" class=\"dataframe\">\n",
       "  <thead>\n",
       "    <tr style=\"text-align: right;\">\n",
       "      <th></th>\n",
       "      <th>harga</th>\n",
       "      <th>aircon</th>\n",
       "      <th>free_wifi</th>\n",
       "      <th>kamar_mandi_dalam</th>\n",
       "      <th>Spring Bed_fkamar</th>\n",
       "      <th>Perabot_fkamar</th>\n",
       "      <th>TV_fkamar</th>\n",
       "      <th>Pemanas Air (Water Heater)_fkamar</th>\n",
       "      <th>Kulkas_fkamar</th>\n",
       "      <th>Keamanan_fkost</th>\n",
       "      <th>Parkir Motor_fkost</th>\n",
       "      <th>Ruang Tamu_fkost</th>\n",
       "      <th>Ruang Makan_fkost</th>\n",
       "      <th>Dapur_fkost</th>\n",
       "      <th>Air Minum_fkost</th>\n",
       "      <th>Pembantu_fkost</th>\n",
       "      <th>Parkir Mobil_fkost</th>\n",
       "      <th>Cuci Setrika_fkost</th>\n",
       "      <th>Mesin Cuci (Cuci Sendiri)_fkost</th>\n",
       "      <th>Televisi_fkost</th>\n",
       "    </tr>\n",
       "  </thead>\n",
       "  <tbody>\n",
       "    <tr>\n",
       "      <th>count</th>\n",
       "      <td>872.000000</td>\n",
       "      <td>872.000000</td>\n",
       "      <td>872.000000</td>\n",
       "      <td>872.000000</td>\n",
       "      <td>872.000000</td>\n",
       "      <td>872.000000</td>\n",
       "      <td>872.000000</td>\n",
       "      <td>872.000000</td>\n",
       "      <td>872.000000</td>\n",
       "      <td>872.000000</td>\n",
       "      <td>872.000000</td>\n",
       "      <td>872.000000</td>\n",
       "      <td>872.000000</td>\n",
       "      <td>872.000000</td>\n",
       "      <td>872.000000</td>\n",
       "      <td>872.000000</td>\n",
       "      <td>872.000000</td>\n",
       "      <td>872.000000</td>\n",
       "      <td>872.000000</td>\n",
       "      <td>872.000000</td>\n",
       "    </tr>\n",
       "    <tr>\n",
       "      <th>mean</th>\n",
       "      <td>1825.345183</td>\n",
       "      <td>0.743119</td>\n",
       "      <td>0.737385</td>\n",
       "      <td>0.790138</td>\n",
       "      <td>0.597477</td>\n",
       "      <td>0.447248</td>\n",
       "      <td>0.228211</td>\n",
       "      <td>0.215596</td>\n",
       "      <td>0.144495</td>\n",
       "      <td>0.388761</td>\n",
       "      <td>0.643349</td>\n",
       "      <td>0.395642</td>\n",
       "      <td>0.260321</td>\n",
       "      <td>0.508028</td>\n",
       "      <td>0.290138</td>\n",
       "      <td>0.178899</td>\n",
       "      <td>0.315367</td>\n",
       "      <td>0.147936</td>\n",
       "      <td>0.111239</td>\n",
       "      <td>0.176606</td>\n",
       "    </tr>\n",
       "    <tr>\n",
       "      <th>std</th>\n",
       "      <td>953.512104</td>\n",
       "      <td>0.437164</td>\n",
       "      <td>0.440307</td>\n",
       "      <td>0.407444</td>\n",
       "      <td>0.490688</td>\n",
       "      <td>0.497495</td>\n",
       "      <td>0.419920</td>\n",
       "      <td>0.411471</td>\n",
       "      <td>0.351793</td>\n",
       "      <td>0.487749</td>\n",
       "      <td>0.479286</td>\n",
       "      <td>0.489269</td>\n",
       "      <td>0.439062</td>\n",
       "      <td>0.500222</td>\n",
       "      <td>0.454086</td>\n",
       "      <td>0.383488</td>\n",
       "      <td>0.464929</td>\n",
       "      <td>0.355240</td>\n",
       "      <td>0.314608</td>\n",
       "      <td>0.381553</td>\n",
       "    </tr>\n",
       "    <tr>\n",
       "      <th>min</th>\n",
       "      <td>400.000000</td>\n",
       "      <td>0.000000</td>\n",
       "      <td>0.000000</td>\n",
       "      <td>0.000000</td>\n",
       "      <td>0.000000</td>\n",
       "      <td>0.000000</td>\n",
       "      <td>0.000000</td>\n",
       "      <td>0.000000</td>\n",
       "      <td>0.000000</td>\n",
       "      <td>0.000000</td>\n",
       "      <td>0.000000</td>\n",
       "      <td>0.000000</td>\n",
       "      <td>0.000000</td>\n",
       "      <td>0.000000</td>\n",
       "      <td>0.000000</td>\n",
       "      <td>0.000000</td>\n",
       "      <td>0.000000</td>\n",
       "      <td>0.000000</td>\n",
       "      <td>0.000000</td>\n",
       "      <td>0.000000</td>\n",
       "    </tr>\n",
       "    <tr>\n",
       "      <th>25%</th>\n",
       "      <td>1000.000000</td>\n",
       "      <td>0.000000</td>\n",
       "      <td>0.000000</td>\n",
       "      <td>1.000000</td>\n",
       "      <td>0.000000</td>\n",
       "      <td>0.000000</td>\n",
       "      <td>0.000000</td>\n",
       "      <td>0.000000</td>\n",
       "      <td>0.000000</td>\n",
       "      <td>0.000000</td>\n",
       "      <td>0.000000</td>\n",
       "      <td>0.000000</td>\n",
       "      <td>0.000000</td>\n",
       "      <td>0.000000</td>\n",
       "      <td>0.000000</td>\n",
       "      <td>0.000000</td>\n",
       "      <td>0.000000</td>\n",
       "      <td>0.000000</td>\n",
       "      <td>0.000000</td>\n",
       "      <td>0.000000</td>\n",
       "    </tr>\n",
       "    <tr>\n",
       "      <th>50%</th>\n",
       "      <td>1650.000000</td>\n",
       "      <td>1.000000</td>\n",
       "      <td>1.000000</td>\n",
       "      <td>1.000000</td>\n",
       "      <td>1.000000</td>\n",
       "      <td>0.000000</td>\n",
       "      <td>0.000000</td>\n",
       "      <td>0.000000</td>\n",
       "      <td>0.000000</td>\n",
       "      <td>0.000000</td>\n",
       "      <td>1.000000</td>\n",
       "      <td>0.000000</td>\n",
       "      <td>0.000000</td>\n",
       "      <td>1.000000</td>\n",
       "      <td>0.000000</td>\n",
       "      <td>0.000000</td>\n",
       "      <td>0.000000</td>\n",
       "      <td>0.000000</td>\n",
       "      <td>0.000000</td>\n",
       "      <td>0.000000</td>\n",
       "    </tr>\n",
       "    <tr>\n",
       "      <th>75%</th>\n",
       "      <td>2300.000000</td>\n",
       "      <td>1.000000</td>\n",
       "      <td>1.000000</td>\n",
       "      <td>1.000000</td>\n",
       "      <td>1.000000</td>\n",
       "      <td>1.000000</td>\n",
       "      <td>0.000000</td>\n",
       "      <td>0.000000</td>\n",
       "      <td>0.000000</td>\n",
       "      <td>1.000000</td>\n",
       "      <td>1.000000</td>\n",
       "      <td>1.000000</td>\n",
       "      <td>1.000000</td>\n",
       "      <td>1.000000</td>\n",
       "      <td>1.000000</td>\n",
       "      <td>0.000000</td>\n",
       "      <td>1.000000</td>\n",
       "      <td>0.000000</td>\n",
       "      <td>0.000000</td>\n",
       "      <td>0.000000</td>\n",
       "    </tr>\n",
       "    <tr>\n",
       "      <th>max</th>\n",
       "      <td>5000.000000</td>\n",
       "      <td>1.000000</td>\n",
       "      <td>1.000000</td>\n",
       "      <td>1.000000</td>\n",
       "      <td>1.000000</td>\n",
       "      <td>1.000000</td>\n",
       "      <td>1.000000</td>\n",
       "      <td>1.000000</td>\n",
       "      <td>1.000000</td>\n",
       "      <td>1.000000</td>\n",
       "      <td>1.000000</td>\n",
       "      <td>1.000000</td>\n",
       "      <td>1.000000</td>\n",
       "      <td>1.000000</td>\n",
       "      <td>1.000000</td>\n",
       "      <td>1.000000</td>\n",
       "      <td>1.000000</td>\n",
       "      <td>1.000000</td>\n",
       "      <td>1.000000</td>\n",
       "      <td>1.000000</td>\n",
       "    </tr>\n",
       "  </tbody>\n",
       "</table>\n",
       "</div>"
      ],
      "text/plain": [
       "             harga      aircon   free_wifi  kamar_mandi_dalam  \\\n",
       "count   872.000000  872.000000  872.000000         872.000000   \n",
       "mean   1825.345183    0.743119    0.737385           0.790138   \n",
       "std     953.512104    0.437164    0.440307           0.407444   \n",
       "min     400.000000    0.000000    0.000000           0.000000   \n",
       "25%    1000.000000    0.000000    0.000000           1.000000   \n",
       "50%    1650.000000    1.000000    1.000000           1.000000   \n",
       "75%    2300.000000    1.000000    1.000000           1.000000   \n",
       "max    5000.000000    1.000000    1.000000           1.000000   \n",
       "\n",
       "       Spring Bed_fkamar  Perabot_fkamar   TV_fkamar  \\\n",
       "count         872.000000      872.000000  872.000000   \n",
       "mean            0.597477        0.447248    0.228211   \n",
       "std             0.490688        0.497495    0.419920   \n",
       "min             0.000000        0.000000    0.000000   \n",
       "25%             0.000000        0.000000    0.000000   \n",
       "50%             1.000000        0.000000    0.000000   \n",
       "75%             1.000000        1.000000    0.000000   \n",
       "max             1.000000        1.000000    1.000000   \n",
       "\n",
       "       Pemanas Air (Water Heater)_fkamar  Kulkas_fkamar  Keamanan_fkost  \\\n",
       "count                         872.000000     872.000000      872.000000   \n",
       "mean                            0.215596       0.144495        0.388761   \n",
       "std                             0.411471       0.351793        0.487749   \n",
       "min                             0.000000       0.000000        0.000000   \n",
       "25%                             0.000000       0.000000        0.000000   \n",
       "50%                             0.000000       0.000000        0.000000   \n",
       "75%                             0.000000       0.000000        1.000000   \n",
       "max                             1.000000       1.000000        1.000000   \n",
       "\n",
       "       Parkir Motor_fkost  Ruang Tamu_fkost  Ruang Makan_fkost  Dapur_fkost  \\\n",
       "count          872.000000        872.000000         872.000000   872.000000   \n",
       "mean             0.643349          0.395642           0.260321     0.508028   \n",
       "std              0.479286          0.489269           0.439062     0.500222   \n",
       "min              0.000000          0.000000           0.000000     0.000000   \n",
       "25%              0.000000          0.000000           0.000000     0.000000   \n",
       "50%              1.000000          0.000000           0.000000     1.000000   \n",
       "75%              1.000000          1.000000           1.000000     1.000000   \n",
       "max              1.000000          1.000000           1.000000     1.000000   \n",
       "\n",
       "       Air Minum_fkost  Pembantu_fkost  Parkir Mobil_fkost  \\\n",
       "count       872.000000      872.000000          872.000000   \n",
       "mean          0.290138        0.178899            0.315367   \n",
       "std           0.454086        0.383488            0.464929   \n",
       "min           0.000000        0.000000            0.000000   \n",
       "25%           0.000000        0.000000            0.000000   \n",
       "50%           0.000000        0.000000            0.000000   \n",
       "75%           1.000000        0.000000            1.000000   \n",
       "max           1.000000        1.000000            1.000000   \n",
       "\n",
       "       Cuci Setrika_fkost  Mesin Cuci (Cuci Sendiri)_fkost  Televisi_fkost  \n",
       "count          872.000000                       872.000000      872.000000  \n",
       "mean             0.147936                         0.111239        0.176606  \n",
       "std              0.355240                         0.314608        0.381553  \n",
       "min              0.000000                         0.000000        0.000000  \n",
       "25%              0.000000                         0.000000        0.000000  \n",
       "50%              0.000000                         0.000000        0.000000  \n",
       "75%              0.000000                         0.000000        0.000000  \n",
       "max              1.000000                         1.000000        1.000000  "
      ]
     },
     "execution_count": 69,
     "metadata": {},
     "output_type": "execute_result"
    }
   ],
   "source": [
    "kost_clean.describe()"
   ]
  },
  {
   "cell_type": "markdown",
   "metadata": {},
   "source": [
    "**Insight:** \n",
    "\n",
    "Pada tabel ini kita dapat berfokus pada `mean` dari setiap fasilitasnya. Dari `mean` kita dapat mengetahui sebaran fasilitas pada semua data kost yang kita miliki. Dalam hal ini jika `mean > 0.5` berarti mayoritas data kost memiliki fasilitas tersebut. Contoh: untuk fasilitas `aircon` memiliki `mean = 0.74`, dapat dikatakan `74 %` data kost memiliki fasilitas `aircon`. Begitu pula dengan `Kulkas_fkamar` hanya memiliki `mean = 0.144` atau dengan kata lain hanya `14%` dari data kost kita yang memiliki fasilitas kulkas dalam kamar."
   ]
  },
  {
   "cell_type": "markdown",
   "metadata": {},
   "source": [
    "## Remove Outlier\n",
    "\n",
    "Selanjutnya akan dilihat persebaran data `harga` menggunakan `boxplot` untuk melihat apakah terdapat outlier."
   ]
  },
  {
   "cell_type": "code",
   "execution_count": 70,
   "metadata": {},
   "outputs": [],
   "source": [
    "import seaborn as sns\n",
    "import matplotlib.pyplot as plt"
   ]
  },
  {
   "cell_type": "code",
   "execution_count": 71,
   "metadata": {},
   "outputs": [
    {
     "data": {
      "text/plain": [
       "<AxesSubplot:xlabel='harga'>"
      ]
     },
     "execution_count": 71,
     "metadata": {},
     "output_type": "execute_result"
    },
    {
     "data": {
      "image/png": "[encoded data removed]",
      "text/plain": [
       "<Figure size 432x288 with 1 Axes>"
      ]
     },
     "metadata": {
      "needs_background": "light"
     },
     "output_type": "display_data"
    }
   ],
   "source": [
    "sns.boxplot(x=kost_clean['harga'])"
   ]
  },
  {
   "cell_type": "code",
   "execution_count": 72,
   "metadata": {},
   "outputs": [
    {
     "name": "stdout",
     "output_type": "stream",
     "text": [
      "Jumlah kos lengkap dengan harga di bawah -950 adalah = 0\n",
      "Jumlah kos lengkap dengan harga di atas 4250 adalah = 26\n"
     ]
    }
   ],
   "source": [
    "Q1 = kost_clean.harga.quantile(0.25)\n",
    "Q3 = kost_clean.harga.quantile(0.75)\n",
    "IQR = Q3-Q1\n",
    "\n",
    "outlier_bawah = kost_clean[kost_clean['harga'] < (Q1 - 1.5 * IQR)]\n",
    "outlier_atas = kost_clean[kost_clean['harga'] > (Q3 + 1.5 * IQR)]\n",
    "\n",
    "print(\"Jumlah kos lengkap dengan harga di bawah %i adalah = %i\" % ((Q1 - 1.5 * IQR), outlier_bawah.shape[0]))\n",
    "print(\"Jumlah kos lengkap dengan harga di atas %i adalah = %i\" % ((Q3 + 1.5 * IQR), outlier_atas.shape[0]))"
   ]
  },
  {
   "cell_type": "markdown",
   "metadata": {},
   "source": [
    "Baik dari `boxplot` terlihat terdapat **outlier atas**. Adapun outlier atas tersebut berada di atas harga 4250 rb (4,25 juta). Terdapat 26 kost yang berada dalam outlier atas. Outlier ini akan didrop agar tidak mempengaruhi model."
   ]
  },
  {
   "cell_type": "code",
   "execution_count": 73,
   "metadata": {},
   "outputs": [
    {
     "data": {
      "text/plain": [
       "<AxesSubplot:xlabel='harga'>"
      ]
     },
     "execution_count": 73,
     "metadata": {},
     "output_type": "execute_result"
    },
    {
     "data": {
      "image/png": "[encoded data removed]",
      "text/plain": [
       "<Figure size 432x288 with 1 Axes>"
      ]
     },
     "metadata": {
      "needs_background": "light"
     },
     "output_type": "display_data"
    }
   ],
   "source": [
    "# Drop data outlier, hanya mengambil kost\n",
    "kost_clean = kost_clean[kost_clean['harga']<=(Q3 + 1.5 * IQR)]\n",
    "\n",
    "sns.boxplot(x=kost_clean['harga'])"
   ]
  },
  {
   "cell_type": "markdown",
   "metadata": {},
   "source": [
    "Hasil boxplot setelah data outlier dikeluarkan. Telah tidak terlihat outlier lagi."
   ]
  },
  {
   "cell_type": "markdown",
   "metadata": {},
   "source": [
    "## Korelasi\n",
    "\n",
    "Hal selanjutnya adalah kita akan melihat korelasi antar variabelnya, khususnya yang diperhatikan adalah korelasi antara kolom **harga** dan **fasilitas**. \n",
    "\n",
    "Hal ini dilakukan untuk mengetahui fasilitas apa saja yang mempengaruhi harga berdasarkan fasilitasnya. Ini berguna bagi data saintis yang membangun model untuk menggunakan variabel apa saja sebagai masukan model dan juga pemilik kost dalam menentukan fasilitas apa saja yang seharusnya disediakan untuk menaikkan harga kost."
   ]
  },
  {
   "cell_type": "code",
   "execution_count": 74,
   "metadata": {},
   "outputs": [],
   "source": [
    "correlation_matrix = kost_clean.corr().round(2)"
   ]
  },
  {
   "cell_type": "code",
   "execution_count": 75,
   "metadata": {},
   "outputs": [
    {
     "data": {
      "text/plain": [
       "Text(0.5, 1.0, 'Matriks Korelasi Terhadap Fitur Numerik')"
      ]
     },
     "execution_count": 75,
     "metadata": {},
     "output_type": "execute_result"
    },
    {
     "data": {
      "image/png": "[encoded data removed]",
      "text/plain": [
       "<Figure size 1440x720 with 2 Axes>"
      ]
     },
     "metadata": {
      "needs_background": "light"
     },
     "output_type": "display_data"
    }
   ],
   "source": [
    "plt.figure(figsize=(20, 10))\n",
    "sns.heatmap(data=correlation_matrix, annot=True, cmap='coolwarm', linewidths=0.5)\n",
    "plt.title(\"Matriks Korelasi Terhadap Fitur Numerik\", size=20)"
   ]
  },
  {
   "cell_type": "markdown",
   "metadata": {},
   "source": [
    "Kolom pertama adalah pengaruh fasilitas terhadap harga kost. Selain itu dapat terlihat juga korelasi antar fasilitas.\n",
    "\n",
    "Selanjutnya kita akan berfokus kepada korelasi harga terhadap fasilitas."
   ]
  },
  {
   "cell_type": "code",
   "execution_count": 76,
   "metadata": {},
   "outputs": [
    {
     "data": {
      "text/plain": [
       "Text(0.5, 1.0, 'Korelasi Fasilitas Terhadap Harga Kost')"
      ]
     },
     "execution_count": 76,
     "metadata": {},
     "output_type": "execute_result"
    },
    {
     "data": {
      "image/png": "[encoded data removed]",
      "text/plain": [
       "<Figure size 1080x720 with 2 Axes>"
      ]
     },
     "metadata": {
      "needs_background": "light"
     },
     "output_type": "display_data"
    }
   ],
   "source": [
    "korelasi_harga = correlation_matrix[['harga']]\n",
    "plt.figure(figsize=(15, 10))\n",
    "sns.heatmap(data=korelasi_harga, annot=True, cmap='coolwarm', linewidths=0.5)\n",
    "plt.title(\"Korelasi Fasilitas Terhadap Harga Kost\", size=20)"
   ]
  },
  {
   "cell_type": "markdown",
   "metadata": {},
   "source": [
    "Grafik di atas memperlihatkan korelasi antara harga terhadap fasilitas. Fasilitas dengan korelasi tinggi menandakan fasilitas tersebut berpengaruh tinggi terhadap kenaikan harga kost. 3 fasilitas yang paling mempengaruhi harga kost adalah ac (0.59), pemanas air (0.53) dan kamar mandi dalam (0.44)\n",
    "\n",
    "Selanjutnya akan dipilih kost-kost dengan korelasi tinggi terhadap harga kost, dalam hal ini ditentukan fasiltias dengan korelasi di atas 0.25 adalah fasilitas yang akan dipertahakan sebagai masukan dari model untuk dipelajari. (Angka 0.25 adalah pilihan subjektif dari penulis kode, jika ingin dapat menentukan angka/threshold lain yang dianggap berpengaruh)"
   ]
  },
  {
   "cell_type": "code",
   "execution_count": 77,
   "metadata": {},
   "outputs": [
    {
     "data": {
      "text/html": [
       "<div>\n",
       "<style scoped>\n",
       "    .dataframe tbody tr th:only-of-type {\n",
       "        vertical-align: middle;\n",
       "    }\n",
       "\n",
       "    .dataframe tbody tr th {\n",
       "        vertical-align: top;\n",
       "    }\n",
       "\n",
       "    .dataframe thead th {\n",
       "        text-align: right;\n",
       "    }\n",
       "</style>\n",
       "<table border=\"1\" class=\"dataframe\">\n",
       "  <thead>\n",
       "    <tr style=\"text-align: right;\">\n",
       "      <th></th>\n",
       "      <th>harga</th>\n",
       "    </tr>\n",
       "  </thead>\n",
       "  <tbody>\n",
       "    <tr>\n",
       "      <th>harga</th>\n",
       "      <td>1.00</td>\n",
       "    </tr>\n",
       "    <tr>\n",
       "      <th>aircon</th>\n",
       "      <td>0.59</td>\n",
       "    </tr>\n",
       "    <tr>\n",
       "      <th>free_wifi</th>\n",
       "      <td>0.39</td>\n",
       "    </tr>\n",
       "    <tr>\n",
       "      <th>kamar_mandi_dalam</th>\n",
       "      <td>0.44</td>\n",
       "    </tr>\n",
       "    <tr>\n",
       "      <th>TV_fkamar</th>\n",
       "      <td>0.43</td>\n",
       "    </tr>\n",
       "    <tr>\n",
       "      <th>Pemanas Air (Water Heater)_fkamar</th>\n",
       "      <td>0.53</td>\n",
       "    </tr>\n",
       "    <tr>\n",
       "      <th>Keamanan_fkost</th>\n",
       "      <td>0.27</td>\n",
       "    </tr>\n",
       "    <tr>\n",
       "      <th>Ruang Tamu_fkost</th>\n",
       "      <td>0.25</td>\n",
       "    </tr>\n",
       "    <tr>\n",
       "      <th>Ruang Makan_fkost</th>\n",
       "      <td>0.32</td>\n",
       "    </tr>\n",
       "    <tr>\n",
       "      <th>Air Minum_fkost</th>\n",
       "      <td>0.32</td>\n",
       "    </tr>\n",
       "    <tr>\n",
       "      <th>Pembantu_fkost</th>\n",
       "      <td>0.30</td>\n",
       "    </tr>\n",
       "    <tr>\n",
       "      <th>Parkir Mobil_fkost</th>\n",
       "      <td>0.40</td>\n",
       "    </tr>\n",
       "  </tbody>\n",
       "</table>\n",
       "</div>"
      ],
      "text/plain": [
       "                                   harga\n",
       "harga                               1.00\n",
       "aircon                              0.59\n",
       "free_wifi                           0.39\n",
       "kamar_mandi_dalam                   0.44\n",
       "TV_fkamar                           0.43\n",
       "Pemanas Air (Water Heater)_fkamar   0.53\n",
       "Keamanan_fkost                      0.27\n",
       "Ruang Tamu_fkost                    0.25\n",
       "Ruang Makan_fkost                   0.32\n",
       "Air Minum_fkost                     0.32\n",
       "Pembantu_fkost                      0.30\n",
       "Parkir Mobil_fkost                  0.40"
      ]
     },
     "execution_count": 77,
     "metadata": {},
     "output_type": "execute_result"
    }
   ],
   "source": [
    "# Mempertahankan feature dengan korelasi di atas 0.25\n",
    "korelasi_tinggi = korelasi_harga[korelasi_harga['harga'] >= 0.25]\n",
    "\n",
    "korelasi_tinggi"
   ]
  },
  {
   "cell_type": "markdown",
   "metadata": {},
   "source": [
    "## One Hot Encoding"
   ]
  },
  {
   "cell_type": "markdown",
   "metadata": {},
   "source": [
    "Kemudian kita mencoba untuk melihat rata-rata serta median dari harga kost untuk masing-masing dari jenis kost."
   ]
  },
  {
   "cell_type": "code",
   "execution_count": 78,
   "metadata": {},
   "outputs": [
    {
     "data": {
      "text/html": [
       "<div>\n",
       "<style scoped>\n",
       "    .dataframe tbody tr th:only-of-type {\n",
       "        vertical-align: middle;\n",
       "    }\n",
       "\n",
       "    .dataframe tbody tr th {\n",
       "        vertical-align: top;\n",
       "    }\n",
       "\n",
       "    .dataframe thead th {\n",
       "        text-align: right;\n",
       "    }\n",
       "</style>\n",
       "<table border=\"1\" class=\"dataframe\">\n",
       "  <thead>\n",
       "    <tr style=\"text-align: right;\">\n",
       "      <th></th>\n",
       "      <th>harga</th>\n",
       "    </tr>\n",
       "    <tr>\n",
       "      <th>jenis</th>\n",
       "      <th></th>\n",
       "    </tr>\n",
       "  </thead>\n",
       "  <tbody>\n",
       "    <tr>\n",
       "      <th>Kost Campur</th>\n",
       "      <td>1984.307190</td>\n",
       "    </tr>\n",
       "    <tr>\n",
       "      <th>Kost Pasutri</th>\n",
       "      <td>2814.285714</td>\n",
       "    </tr>\n",
       "    <tr>\n",
       "      <th>Kost Putra</th>\n",
       "      <td>1212.889908</td>\n",
       "    </tr>\n",
       "    <tr>\n",
       "      <th>Kost Putri</th>\n",
       "      <td>1432.680934</td>\n",
       "    </tr>\n",
       "  </tbody>\n",
       "</table>\n",
       "</div>"
      ],
      "text/plain": [
       "                    harga\n",
       "jenis                    \n",
       "Kost Campur   1984.307190\n",
       "Kost Pasutri  2814.285714\n",
       "Kost Putra    1212.889908\n",
       "Kost Putri    1432.680934"
      ]
     },
     "execution_count": 78,
     "metadata": {},
     "output_type": "execute_result"
    }
   ],
   "source": [
    "kost_clean.groupby(kost_clean['jenis'])[['harga']].mean()"
   ]
  },
  {
   "cell_type": "code",
   "execution_count": 79,
   "metadata": {},
   "outputs": [
    {
     "data": {
      "text/html": [
       "<div>\n",
       "<style scoped>\n",
       "    .dataframe tbody tr th:only-of-type {\n",
       "        vertical-align: middle;\n",
       "    }\n",
       "\n",
       "    .dataframe tbody tr th {\n",
       "        vertical-align: top;\n",
       "    }\n",
       "\n",
       "    .dataframe thead th {\n",
       "        text-align: right;\n",
       "    }\n",
       "</style>\n",
       "<table border=\"1\" class=\"dataframe\">\n",
       "  <thead>\n",
       "    <tr style=\"text-align: right;\">\n",
       "      <th></th>\n",
       "      <th>harga</th>\n",
       "    </tr>\n",
       "    <tr>\n",
       "      <th>jenis</th>\n",
       "      <th></th>\n",
       "    </tr>\n",
       "  </thead>\n",
       "  <tbody>\n",
       "    <tr>\n",
       "      <th>Kost Campur</th>\n",
       "      <td>1900.0</td>\n",
       "    </tr>\n",
       "    <tr>\n",
       "      <th>Kost Pasutri</th>\n",
       "      <td>3000.0</td>\n",
       "    </tr>\n",
       "    <tr>\n",
       "      <th>Kost Putra</th>\n",
       "      <td>1100.0</td>\n",
       "    </tr>\n",
       "    <tr>\n",
       "      <th>Kost Putri</th>\n",
       "      <td>1300.0</td>\n",
       "    </tr>\n",
       "  </tbody>\n",
       "</table>\n",
       "</div>"
      ],
      "text/plain": [
       "               harga\n",
       "jenis               \n",
       "Kost Campur   1900.0\n",
       "Kost Pasutri  3000.0\n",
       "Kost Putra    1100.0\n",
       "Kost Putri    1300.0"
      ]
     },
     "execution_count": 79,
     "metadata": {},
     "output_type": "execute_result"
    }
   ],
   "source": [
    "kost_clean.groupby(kost_clean['jenis'])[['harga']].median()"
   ]
  },
  {
   "cell_type": "markdown",
   "metadata": {},
   "source": [
    "Dari rata-rata dan median, diketahui kost putra memiliki harga cenderung lebih murah, diikuti oleh kost putri dan campur dan yang termahal adalah kost pasutri.\n",
    "\n",
    "Informasi `jenis` kost dapat dijadikan sebagai masukan untuk pembelajaran model. Karena kolom `jenis` memiliki 4 kategori, sehingga dapat dilakukan One Hot Encoding untuk mengubah data kategorikal menjadi kolom boolean sehingga dapat meningkatkan performa ML dalam melakukan prediksi.<sup>[[2](https://machinelearningmastery.com/why-one-hot-encode-data-in-machine-learning/)]</sup>"
   ]
  },
  {
   "cell_type": "code",
   "execution_count": 80,
   "metadata": {},
   "outputs": [],
   "source": [
    "from sklearn.preprocessing import OneHotEncoder\n",
    "\n",
    "# Mendapatkan nama kolom hasil one hot\n",
    "kolom_oneHot = pd.get_dummies(kost_clean['jenis'], prefix='jenis').columns.to_list()\n",
    "# Melakukan one hot encoding untuk kolom jenis\n",
    "kost_clean = pd.concat([kost_clean, pd.get_dummies(kost_clean['jenis'], prefix='jenis')], axis=1)\n",
    "# Drop kolom jenis (kolom asal untuk one hot)\n",
    "kost_clean.drop(['jenis'], axis=1, inplace=True)"
   ]
  },
  {
   "cell_type": "code",
   "execution_count": 81,
   "metadata": {},
   "outputs": [
    {
     "data": {
      "text/html": [
       "<div>\n",
       "<style scoped>\n",
       "    .dataframe tbody tr th:only-of-type {\n",
       "        vertical-align: middle;\n",
       "    }\n",
       "\n",
       "    .dataframe tbody tr th {\n",
       "        vertical-align: top;\n",
       "    }\n",
       "\n",
       "    .dataframe thead th {\n",
       "        text-align: right;\n",
       "    }\n",
       "</style>\n",
       "<table border=\"1\" class=\"dataframe\">\n",
       "  <thead>\n",
       "    <tr style=\"text-align: right;\">\n",
       "      <th></th>\n",
       "      <th>harga</th>\n",
       "      <th>aircon</th>\n",
       "      <th>free_wifi</th>\n",
       "      <th>kamar_mandi_dalam</th>\n",
       "      <th>TV_fkamar</th>\n",
       "      <th>Pemanas Air (Water Heater)_fkamar</th>\n",
       "      <th>Keamanan_fkost</th>\n",
       "      <th>Ruang Tamu_fkost</th>\n",
       "      <th>Ruang Makan_fkost</th>\n",
       "      <th>Air Minum_fkost</th>\n",
       "      <th>Pembantu_fkost</th>\n",
       "      <th>Parkir Mobil_fkost</th>\n",
       "      <th>jenis_Kost Campur</th>\n",
       "      <th>jenis_Kost Pasutri</th>\n",
       "      <th>jenis_Kost Putra</th>\n",
       "      <th>jenis_Kost Putri</th>\n",
       "    </tr>\n",
       "  </thead>\n",
       "  <tbody>\n",
       "    <tr>\n",
       "      <th>0</th>\n",
       "      <td>1000.0</td>\n",
       "      <td>0</td>\n",
       "      <td>0</td>\n",
       "      <td>1</td>\n",
       "      <td>0</td>\n",
       "      <td>0</td>\n",
       "      <td>1</td>\n",
       "      <td>0</td>\n",
       "      <td>0</td>\n",
       "      <td>0</td>\n",
       "      <td>0</td>\n",
       "      <td>0</td>\n",
       "      <td>1</td>\n",
       "      <td>0</td>\n",
       "      <td>0</td>\n",
       "      <td>0</td>\n",
       "    </tr>\n",
       "    <tr>\n",
       "      <th>1</th>\n",
       "      <td>2200.0</td>\n",
       "      <td>1</td>\n",
       "      <td>1</td>\n",
       "      <td>1</td>\n",
       "      <td>1</td>\n",
       "      <td>0</td>\n",
       "      <td>0</td>\n",
       "      <td>1</td>\n",
       "      <td>1</td>\n",
       "      <td>1</td>\n",
       "      <td>1</td>\n",
       "      <td>1</td>\n",
       "      <td>0</td>\n",
       "      <td>0</td>\n",
       "      <td>1</td>\n",
       "      <td>0</td>\n",
       "    </tr>\n",
       "    <tr>\n",
       "      <th>2</th>\n",
       "      <td>850.0</td>\n",
       "      <td>0</td>\n",
       "      <td>0</td>\n",
       "      <td>0</td>\n",
       "      <td>0</td>\n",
       "      <td>0</td>\n",
       "      <td>0</td>\n",
       "      <td>0</td>\n",
       "      <td>0</td>\n",
       "      <td>0</td>\n",
       "      <td>0</td>\n",
       "      <td>0</td>\n",
       "      <td>0</td>\n",
       "      <td>0</td>\n",
       "      <td>0</td>\n",
       "      <td>1</td>\n",
       "    </tr>\n",
       "    <tr>\n",
       "      <th>3</th>\n",
       "      <td>2700.0</td>\n",
       "      <td>1</td>\n",
       "      <td>1</td>\n",
       "      <td>1</td>\n",
       "      <td>0</td>\n",
       "      <td>1</td>\n",
       "      <td>1</td>\n",
       "      <td>0</td>\n",
       "      <td>0</td>\n",
       "      <td>0</td>\n",
       "      <td>1</td>\n",
       "      <td>0</td>\n",
       "      <td>0</td>\n",
       "      <td>0</td>\n",
       "      <td>0</td>\n",
       "      <td>1</td>\n",
       "    </tr>\n",
       "    <tr>\n",
       "      <th>4</th>\n",
       "      <td>2500.0</td>\n",
       "      <td>1</td>\n",
       "      <td>0</td>\n",
       "      <td>1</td>\n",
       "      <td>0</td>\n",
       "      <td>0</td>\n",
       "      <td>1</td>\n",
       "      <td>1</td>\n",
       "      <td>1</td>\n",
       "      <td>0</td>\n",
       "      <td>0</td>\n",
       "      <td>0</td>\n",
       "      <td>0</td>\n",
       "      <td>1</td>\n",
       "      <td>0</td>\n",
       "      <td>0</td>\n",
       "    </tr>\n",
       "  </tbody>\n",
       "</table>\n",
       "</div>"
      ],
      "text/plain": [
       "    harga  aircon  free_wifi  kamar_mandi_dalam  TV_fkamar  \\\n",
       "0  1000.0       0          0                  1          0   \n",
       "1  2200.0       1          1                  1          1   \n",
       "2   850.0       0          0                  0          0   \n",
       "3  2700.0       1          1                  1          0   \n",
       "4  2500.0       1          0                  1          0   \n",
       "\n",
       "   Pemanas Air (Water Heater)_fkamar  Keamanan_fkost  Ruang Tamu_fkost  \\\n",
       "0                                  0               1                 0   \n",
       "1                                  0               0                 1   \n",
       "2                                  0               0                 0   \n",
       "3                                  1               1                 0   \n",
       "4                                  0               1                 1   \n",
       "\n",
       "   Ruang Makan_fkost  Air Minum_fkost  Pembantu_fkost  Parkir Mobil_fkost  \\\n",
       "0                  0                0               0                   0   \n",
       "1                  1                1               1                   1   \n",
       "2                  0                0               0                   0   \n",
       "3                  0                0               1                   0   \n",
       "4                  1                0               0                   0   \n",
       "\n",
       "   jenis_Kost Campur  jenis_Kost Pasutri  jenis_Kost Putra  jenis_Kost Putri  \n",
       "0                  1                   0                 0                 0  \n",
       "1                  0                   0                 1                 0  \n",
       "2                  0                   0                 0                 1  \n",
       "3                  0                   0                 0                 1  \n",
       "4                  0                   1                 0                 0  "
      ]
     },
     "execution_count": 81,
     "metadata": {},
     "output_type": "execute_result"
    }
   ],
   "source": [
    "# Subset kolom yang memiliki korelasi tinggi + kolom hasil dummy jenis kost\n",
    "kost_clean_korelasi = kost_clean[korelasi_tinggi.index.to_list() + kolom_oneHot]\n",
    "\n",
    "kost_clean_korelasi.head()"
   ]
  },
  {
   "cell_type": "markdown",
   "metadata": {},
   "source": [
    "Setiap kategori dari kolom `jenis` telah menjadi kolom baru dengan nilai boolean, dimana jika kolom `jenis_Kost Campur` memiliki nilai `1` menandakan bahwa kost tersebut adalah kost campur, sebaliknya untuk nilai `0`."
   ]
  },
  {
   "cell_type": "markdown",
   "metadata": {},
   "source": [
    "# Train Test Split\n",
    "\n",
    "Tahap selanjutnya adalah membagi variabel independen/prediktor dan juga variabel dependen/target dan juga melakukan pembagian data ke dalam data train dan data test dengan komposisi 80% data train 20% data test. Data test nantinya akan digunakan sebagai data evaluasi model, untuk melihat sebaik apa model dalam memprediksi harga kost untuk data yang belum pernah dipelajari sebelumnya."
   ]
  },
  {
   "cell_type": "code",
   "execution_count": 82,
   "metadata": {},
   "outputs": [],
   "source": [
    "# Pembagian data latih dan data uji\n",
    "from sklearn.model_selection import train_test_split\n",
    "\n",
    "# # Untuk korelasi tinggi\n",
    "X = kost_clean_korelasi.drop(['harga'], axis=1)\n",
    "y = kost_clean_korelasi['harga']\n",
    "\n",
    "# Membagi ke dalam 80% train, 20% test\n",
    "X_train, X_test, y_train, y_test = train_test_split(X, y, test_size = 0.2, random_state=42)"
   ]
  },
  {
   "cell_type": "code",
   "execution_count": 83,
   "metadata": {},
   "outputs": [
    {
     "name": "stdout",
     "output_type": "stream",
     "text": [
      "\n",
      "Total Dataset: 846\n",
      "Train Dataset: 676\n",
      "Test Dataset: 170\n",
      "\n"
     ]
    }
   ],
   "source": [
    "print(f\"\"\"\n",
    "Total Dataset: {len(X)}\n",
    "Train Dataset: {len(X_train)}\n",
    "Test Dataset: {len(X_test)}\n",
    "\"\"\")"
   ]
  },
  {
   "cell_type": "markdown",
   "metadata": {},
   "source": [
    "Dari total 846 dataset. 676 data digunakan sebagai data training, dan 170nya akan digunakan sebagai data test."
   ]
  },
  {
   "cell_type": "markdown",
   "metadata": {},
   "source": [
    "# Pembangunan Model\n",
    "\n",
    "Model regresi yang akan digunakan antara lain Linear Regression, Random Forest Regressor dan Ada Boost Regressor."
   ]
  },
  {
   "cell_type": "code",
   "execution_count": 84,
   "metadata": {},
   "outputs": [],
   "source": [
    "# Dataframe nantinya untuk evaluasi ketiga model\n",
    "models = pd.DataFrame(\n",
    "    index=['train_mae', 'test_mae'],\n",
    "    columns=['LinearRegression', 'RandomForest', 'Boosting'])"
   ]
  },
  {
   "cell_type": "markdown",
   "metadata": {},
   "source": [
    "## Linear Regression\n",
    "\n",
    "LinearRegression akan melakukan pelatihan model dengan koefisien w = (w1, ..., wp) untuk meminimalkan residual *sum of squares* antara target pada dataset dengan nilai target hasil prediksi berdasarkan pendekatan persamaan linear.<sup>[[3](https://scikit-learn.org/stable/modules/generated/sklearn.linear_model.LinearRegression.html)]</sup>"
   ]
  },
  {
   "cell_type": "code",
   "execution_count": 85,
   "metadata": {},
   "outputs": [
    {
     "data": {
      "text/html": [
       "<style>#sk-container-id-4 {color: black;background-color: white;}#sk-container-id-4 pre{padding: 0;}#sk-container-id-4 div.sk-toggleable {background-color: white;}#sk-container-id-4 label.sk-toggleable__label {cursor: pointer;display: block;width: 100%;margin-bottom: 0;padding: 0.3em;box-sizing: border-box;text-align: center;}#sk-container-id-4 label.sk-toggleable__label-arrow:before {content: \"▸\";float: left;margin-right: 0.25em;color: #696969;}#sk-container-id-4 label.sk-toggleable__label-arrow:hover:before {color: black;}#sk-container-id-4 div.sk-estimator:hover label.sk-toggleable__label-arrow:before {color: black;}#sk-container-id-4 div.sk-toggleable__content {max-height: 0;max-width: 0;overflow: hidden;text-align: left;background-color: #f0f8ff;}#sk-container-id-4 div.sk-toggleable__content pre {margin: 0.2em;color: black;border-radius: 0.25em;background-color: #f0f8ff;}#sk-container-id-4 input.sk-toggleable__control:checked~div.sk-toggleable__content {max-height: 200px;max-width: 100%;overflow: auto;}#sk-container-id-4 input.sk-toggleable__control:checked~label.sk-toggleable__label-arrow:before {content: \"▾\";}#sk-container-id-4 div.sk-estimator input.sk-toggleable__control:checked~label.sk-toggleable__label {background-color: #d4ebff;}#sk-container-id-4 div.sk-label input.sk-toggleable__control:checked~label.sk-toggleable__label {background-color: #d4ebff;}#sk-container-id-4 input.sk-hidden--visually {border: 0;clip: rect(1px 1px 1px 1px);clip: rect(1px, 1px, 1px, 1px);height: 1px;margin: -1px;overflow: hidden;padding: 0;position: absolute;width: 1px;}#sk-container-id-4 div.sk-estimator {font-family: monospace;background-color: #f0f8ff;border: 1px dotted black;border-radius: 0.25em;box-sizing: border-box;margin-bottom: 0.5em;}#sk-container-id-4 div.sk-estimator:hover {background-color: #d4ebff;}#sk-container-id-4 div.sk-parallel-item::after {content: \"\";width: 100%;border-bottom: 1px solid gray;flex-grow: 1;}#sk-container-id-4 div.sk-label:hover label.sk-toggleable__label {background-color: #d4ebff;}#sk-container-id-4 div.sk-serial::before {content: \"\";position: absolute;border-left: 1px solid gray;box-sizing: border-box;top: 0;bottom: 0;left: 50%;z-index: 0;}#sk-container-id-4 div.sk-serial {display: flex;flex-direction: column;align-items: center;background-color: white;padding-right: 0.2em;padding-left: 0.2em;position: relative;}#sk-container-id-4 div.sk-item {position: relative;z-index: 1;}#sk-container-id-4 div.sk-parallel {display: flex;align-items: stretch;justify-content: center;background-color: white;position: relative;}#sk-container-id-4 div.sk-item::before, #sk-container-id-4 div.sk-parallel-item::before {content: \"\";position: absolute;border-left: 1px solid gray;box-sizing: border-box;top: 0;bottom: 0;left: 50%;z-index: -1;}#sk-container-id-4 div.sk-parallel-item {display: flex;flex-direction: column;z-index: 1;position: relative;background-color: white;}#sk-container-id-4 div.sk-parallel-item:first-child::after {align-self: flex-end;width: 50%;}#sk-container-id-4 div.sk-parallel-item:last-child::after {align-self: flex-start;width: 50%;}#sk-container-id-4 div.sk-parallel-item:only-child::after {width: 0;}#sk-container-id-4 div.sk-dashed-wrapped {border: 1px dashed gray;margin: 0 0.4em 0.5em 0.4em;box-sizing: border-box;padding-bottom: 0.4em;background-color: white;}#sk-container-id-4 div.sk-label label {font-family: monospace;font-weight: bold;display: inline-block;line-height: 1.2em;}#sk-container-id-4 div.sk-label-container {text-align: center;}#sk-container-id-4 div.sk-container {/* jupyter's `normalize.less` sets `[hidden] { display: none; }` but bootstrap.min.css set `[hidden] { display: none !important; }` so we also need the `!important` here to be able to override the default hidden behavior on the sphinx rendered scikit-learn.org. See: https://github.com/scikit-learn/scikit-learn/issues/21755 */display: inline-block !important;position: relative;}#sk-container-id-4 div.sk-text-repr-fallback {display: none;}</style><div id=\"sk-container-id-4\" class=\"sk-top-container\"><div class=\"sk-text-repr-fallback\"><pre>LinearRegression()</pre><b>In a Jupyter environment, please rerun this cell to show the HTML representation or trust the notebook. <br />On GitHub, the HTML representation is unable to render, please try loading this page with nbviewer.org.</b></div><div class=\"sk-container\" hidden><div class=\"sk-item\"><div class=\"sk-estimator sk-toggleable\"><input class=\"sk-toggleable__control sk-hidden--visually\" id=\"sk-estimator-id-4\" type=\"checkbox\" checked><label for=\"sk-estimator-id-4\" class=\"sk-toggleable__label sk-toggleable__label-arrow\">LinearRegression</label><div class=\"sk-toggleable__content\"><pre>LinearRegression()</pre></div></div></div></div></div>"
      ],
      "text/plain": [
       "LinearRegression()"
      ]
     },
     "execution_count": 85,
     "metadata": {},
     "output_type": "execute_result"
    }
   ],
   "source": [
    "from sklearn.linear_model import LinearRegression\n",
    "\n",
    "# Fitting data training ke algoritma linearregression\n",
    "model_lr = LinearRegression().fit(X_train, y_train)\n",
    "\n",
    "model_lr"
   ]
  },
  {
   "cell_type": "markdown",
   "metadata": {},
   "source": [
    "## Random Forest Regressor\n",
    "\n",
    "Ide dasar dari Random Forest adalah untuk menyatukan beberapa *decision tree* dalam menentukan final output alih-alih hanya bergantung pada satu *decision tree*.<sup>[[4](https://scikit-learn.org/stable/modules/generated/sklearn.ensemble.RandomForestRegressor.html)]</sup> \n",
    "\n",
    "`RandomForesttRegressor` memiliki beberapa parameter, diantaranya:\n",
    "\n",
    "1. `n_estimators`: Menentukan seberapa banyak *trees* yang diassign. \n",
    "2. `max_depth`: Menentukan kedalaman keputusan dari masing-masing pohon.\n",
    "3. `random_state`: Kontrol *randomness* dari proses bootstrapping sampel, jika tidak diassign maka setiap menjalankan model dengan data training yang sama kemungkinan hasilnya akan berbeda-beda.\n",
    "4. `n_jobs`: Sebarapa banyak proses yang dijalankan secara paralel, dimana pada kode ini diassign `-1` untuk menggunakan semua prosesor."
   ]
  },
  {
   "cell_type": "code",
   "execution_count": 86,
   "metadata": {},
   "outputs": [
    {
     "data": {
      "text/html": [
       "<style>#sk-container-id-5 {color: black;background-color: white;}#sk-container-id-5 pre{padding: 0;}#sk-container-id-5 div.sk-toggleable {background-color: white;}#sk-container-id-5 label.sk-toggleable__label {cursor: pointer;display: block;width: 100%;margin-bottom: 0;padding: 0.3em;box-sizing: border-box;text-align: center;}#sk-container-id-5 label.sk-toggleable__label-arrow:before {content: \"▸\";float: left;margin-right: 0.25em;color: #696969;}#sk-container-id-5 label.sk-toggleable__label-arrow:hover:before {color: black;}#sk-container-id-5 div.sk-estimator:hover label.sk-toggleable__label-arrow:before {color: black;}#sk-container-id-5 div.sk-toggleable__content {max-height: 0;max-width: 0;overflow: hidden;text-align: left;background-color: #f0f8ff;}#sk-container-id-5 div.sk-toggleable__content pre {margin: 0.2em;color: black;border-radius: 0.25em;background-color: #f0f8ff;}#sk-container-id-5 input.sk-toggleable__control:checked~div.sk-toggleable__content {max-height: 200px;max-width: 100%;overflow: auto;}#sk-container-id-5 input.sk-toggleable__control:checked~label.sk-toggleable__label-arrow:before {content: \"▾\";}#sk-container-id-5 div.sk-estimator input.sk-toggleable__control:checked~label.sk-toggleable__label {background-color: #d4ebff;}#sk-container-id-5 div.sk-label input.sk-toggleable__control:checked~label.sk-toggleable__label {background-color: #d4ebff;}#sk-container-id-5 input.sk-hidden--visually {border: 0;clip: rect(1px 1px 1px 1px);clip: rect(1px, 1px, 1px, 1px);height: 1px;margin: -1px;overflow: hidden;padding: 0;position: absolute;width: 1px;}#sk-container-id-5 div.sk-estimator {font-family: monospace;background-color: #f0f8ff;border: 1px dotted black;border-radius: 0.25em;box-sizing: border-box;margin-bottom: 0.5em;}#sk-container-id-5 div.sk-estimator:hover {background-color: #d4ebff;}#sk-container-id-5 div.sk-parallel-item::after {content: \"\";width: 100%;border-bottom: 1px solid gray;flex-grow: 1;}#sk-container-id-5 div.sk-label:hover label.sk-toggleable__label {background-color: #d4ebff;}#sk-container-id-5 div.sk-serial::before {content: \"\";position: absolute;border-left: 1px solid gray;box-sizing: border-box;top: 0;bottom: 0;left: 50%;z-index: 0;}#sk-container-id-5 div.sk-serial {display: flex;flex-direction: column;align-items: center;background-color: white;padding-right: 0.2em;padding-left: 0.2em;position: relative;}#sk-container-id-5 div.sk-item {position: relative;z-index: 1;}#sk-container-id-5 div.sk-parallel {display: flex;align-items: stretch;justify-content: center;background-color: white;position: relative;}#sk-container-id-5 div.sk-item::before, #sk-container-id-5 div.sk-parallel-item::before {content: \"\";position: absolute;border-left: 1px solid gray;box-sizing: border-box;top: 0;bottom: 0;left: 50%;z-index: -1;}#sk-container-id-5 div.sk-parallel-item {display: flex;flex-direction: column;z-index: 1;position: relative;background-color: white;}#sk-container-id-5 div.sk-parallel-item:first-child::after {align-self: flex-end;width: 50%;}#sk-container-id-5 div.sk-parallel-item:last-child::after {align-self: flex-start;width: 50%;}#sk-container-id-5 div.sk-parallel-item:only-child::after {width: 0;}#sk-container-id-5 div.sk-dashed-wrapped {border: 1px dashed gray;margin: 0 0.4em 0.5em 0.4em;box-sizing: border-box;padding-bottom: 0.4em;background-color: white;}#sk-container-id-5 div.sk-label label {font-family: monospace;font-weight: bold;display: inline-block;line-height: 1.2em;}#sk-container-id-5 div.sk-label-container {text-align: center;}#sk-container-id-5 div.sk-container {/* jupyter's `normalize.less` sets `[hidden] { display: none; }` but bootstrap.min.css set `[hidden] { display: none !important; }` so we also need the `!important` here to be able to override the default hidden behavior on the sphinx rendered scikit-learn.org. See: https://github.com/scikit-learn/scikit-learn/issues/21755 */display: inline-block !important;position: relative;}#sk-container-id-5 div.sk-text-repr-fallback {display: none;}</style><div id=\"sk-container-id-5\" class=\"sk-top-container\"><div class=\"sk-text-repr-fallback\"><pre>RandomForestRegressor(max_depth=16, n_estimators=50, n_jobs=-1, random_state=55)</pre><b>In a Jupyter environment, please rerun this cell to show the HTML representation or trust the notebook. <br />On GitHub, the HTML representation is unable to render, please try loading this page with nbviewer.org.</b></div><div class=\"sk-container\" hidden><div class=\"sk-item\"><div class=\"sk-estimator sk-toggleable\"><input class=\"sk-toggleable__control sk-hidden--visually\" id=\"sk-estimator-id-5\" type=\"checkbox\" checked><label for=\"sk-estimator-id-5\" class=\"sk-toggleable__label sk-toggleable__label-arrow\">RandomForestRegressor</label><div class=\"sk-toggleable__content\"><pre>RandomForestRegressor(max_depth=16, n_estimators=50, n_jobs=-1, random_state=55)</pre></div></div></div></div></div>"
      ],
      "text/plain": [
       "RandomForestRegressor(max_depth=16, n_estimators=50, n_jobs=-1, random_state=55)"
      ]
     },
     "execution_count": 86,
     "metadata": {},
     "output_type": "execute_result"
    }
   ],
   "source": [
    "# Import library\n",
    "from sklearn.ensemble import RandomForestRegressor\n",
    " \n",
    "# buat model prediksi\n",
    "RF = RandomForestRegressor(n_estimators=50, max_depth=16, random_state=55, n_jobs=-1)\n",
    "RF.fit(X_train, y_train)"
   ]
  },
  {
   "cell_type": "markdown",
   "metadata": {},
   "source": [
    "## Ada Boost Regressor\n",
    "\n",
    "`AdaBoostRegressor` adalah sebuah algoritma dimana prosesnya dimulai dengan melakukan *fitting* terhadap original dataset kemudian melakukan *fits* tambahan dengan salinan regressor yang telah dibuat namun dengan *weights* yang disesuaikan lagi untuk mendapatkan performa terbaik.<sup>[[5](https://scikit-learn.org/stable/modules/generated/sklearn.ensemble.AdaBoostRegressor.html)]</sup>"
   ]
  },
  {
   "cell_type": "code",
   "execution_count": 87,
   "metadata": {},
   "outputs": [
    {
     "data": {
      "text/html": [
       "<style>#sk-container-id-6 {color: black;background-color: white;}#sk-container-id-6 pre{padding: 0;}#sk-container-id-6 div.sk-toggleable {background-color: white;}#sk-container-id-6 label.sk-toggleable__label {cursor: pointer;display: block;width: 100%;margin-bottom: 0;padding: 0.3em;box-sizing: border-box;text-align: center;}#sk-container-id-6 label.sk-toggleable__label-arrow:before {content: \"▸\";float: left;margin-right: 0.25em;color: #696969;}#sk-container-id-6 label.sk-toggleable__label-arrow:hover:before {color: black;}#sk-container-id-6 div.sk-estimator:hover label.sk-toggleable__label-arrow:before {color: black;}#sk-container-id-6 div.sk-toggleable__content {max-height: 0;max-width: 0;overflow: hidden;text-align: left;background-color: #f0f8ff;}#sk-container-id-6 div.sk-toggleable__content pre {margin: 0.2em;color: black;border-radius: 0.25em;background-color: #f0f8ff;}#sk-container-id-6 input.sk-toggleable__control:checked~div.sk-toggleable__content {max-height: 200px;max-width: 100%;overflow: auto;}#sk-container-id-6 input.sk-toggleable__control:checked~label.sk-toggleable__label-arrow:before {content: \"▾\";}#sk-container-id-6 div.sk-estimator input.sk-toggleable__control:checked~label.sk-toggleable__label {background-color: #d4ebff;}#sk-container-id-6 div.sk-label input.sk-toggleable__control:checked~label.sk-toggleable__label {background-color: #d4ebff;}#sk-container-id-6 input.sk-hidden--visually {border: 0;clip: rect(1px 1px 1px 1px);clip: rect(1px, 1px, 1px, 1px);height: 1px;margin: -1px;overflow: hidden;padding: 0;position: absolute;width: 1px;}#sk-container-id-6 div.sk-estimator {font-family: monospace;background-color: #f0f8ff;border: 1px dotted black;border-radius: 0.25em;box-sizing: border-box;margin-bottom: 0.5em;}#sk-container-id-6 div.sk-estimator:hover {background-color: #d4ebff;}#sk-container-id-6 div.sk-parallel-item::after {content: \"\";width: 100%;border-bottom: 1px solid gray;flex-grow: 1;}#sk-container-id-6 div.sk-label:hover label.sk-toggleable__label {background-color: #d4ebff;}#sk-container-id-6 div.sk-serial::before {content: \"\";position: absolute;border-left: 1px solid gray;box-sizing: border-box;top: 0;bottom: 0;left: 50%;z-index: 0;}#sk-container-id-6 div.sk-serial {display: flex;flex-direction: column;align-items: center;background-color: white;padding-right: 0.2em;padding-left: 0.2em;position: relative;}#sk-container-id-6 div.sk-item {position: relative;z-index: 1;}#sk-container-id-6 div.sk-parallel {display: flex;align-items: stretch;justify-content: center;background-color: white;position: relative;}#sk-container-id-6 div.sk-item::before, #sk-container-id-6 div.sk-parallel-item::before {content: \"\";position: absolute;border-left: 1px solid gray;box-sizing: border-box;top: 0;bottom: 0;left: 50%;z-index: -1;}#sk-container-id-6 div.sk-parallel-item {display: flex;flex-direction: column;z-index: 1;position: relative;background-color: white;}#sk-container-id-6 div.sk-parallel-item:first-child::after {align-self: flex-end;width: 50%;}#sk-container-id-6 div.sk-parallel-item:last-child::after {align-self: flex-start;width: 50%;}#sk-container-id-6 div.sk-parallel-item:only-child::after {width: 0;}#sk-container-id-6 div.sk-dashed-wrapped {border: 1px dashed gray;margin: 0 0.4em 0.5em 0.4em;box-sizing: border-box;padding-bottom: 0.4em;background-color: white;}#sk-container-id-6 div.sk-label label {font-family: monospace;font-weight: bold;display: inline-block;line-height: 1.2em;}#sk-container-id-6 div.sk-label-container {text-align: center;}#sk-container-id-6 div.sk-container {/* jupyter's `normalize.less` sets `[hidden] { display: none; }` but bootstrap.min.css set `[hidden] { display: none !important; }` so we also need the `!important` here to be able to override the default hidden behavior on the sphinx rendered scikit-learn.org. See: https://github.com/scikit-learn/scikit-learn/issues/21755 */display: inline-block !important;position: relative;}#sk-container-id-6 div.sk-text-repr-fallback {display: none;}</style><div id=\"sk-container-id-6\" class=\"sk-top-container\"><div class=\"sk-text-repr-fallback\"><pre>AdaBoostRegressor(learning_rate=0.05, random_state=55)</pre><b>In a Jupyter environment, please rerun this cell to show the HTML representation or trust the notebook. <br />On GitHub, the HTML representation is unable to render, please try loading this page with nbviewer.org.</b></div><div class=\"sk-container\" hidden><div class=\"sk-item\"><div class=\"sk-estimator sk-toggleable\"><input class=\"sk-toggleable__control sk-hidden--visually\" id=\"sk-estimator-id-6\" type=\"checkbox\" checked><label for=\"sk-estimator-id-6\" class=\"sk-toggleable__label sk-toggleable__label-arrow\">AdaBoostRegressor</label><div class=\"sk-toggleable__content\"><pre>AdaBoostRegressor(learning_rate=0.05, random_state=55)</pre></div></div></div></div></div>"
      ],
      "text/plain": [
       "AdaBoostRegressor(learning_rate=0.05, random_state=55)"
      ]
     },
     "execution_count": 87,
     "metadata": {},
     "output_type": "execute_result"
    }
   ],
   "source": [
    "from sklearn.ensemble import AdaBoostRegressor\n",
    " \n",
    "boosting = AdaBoostRegressor(learning_rate=0.05, random_state=55)                             \n",
    "boosting.fit(X_train, y_train)"
   ]
  },
  {
   "cell_type": "markdown",
   "metadata": {},
   "source": [
    "# Evaluasi Model\n",
    "\n",
    "Evaluasi model dilakukan menggunakan **Mean Absolute Error (MAE)** dimana menghitung rata-rata error/jarak antara hasil prediksi dengan nilai yang sebenarnya. Tahapan evaluasi model ini akan melihat perbandingan performa diantara ketiga model yang telah dibuat sebelumnya."
   ]
  },
  {
   "cell_type": "code",
   "execution_count": 88,
   "metadata": {},
   "outputs": [
    {
     "data": {
      "text/html": [
       "<div>\n",
       "<style scoped>\n",
       "    .dataframe tbody tr th:only-of-type {\n",
       "        vertical-align: middle;\n",
       "    }\n",
       "\n",
       "    .dataframe tbody tr th {\n",
       "        vertical-align: top;\n",
       "    }\n",
       "\n",
       "    .dataframe thead th {\n",
       "        text-align: right;\n",
       "    }\n",
       "</style>\n",
       "<table border=\"1\" class=\"dataframe\">\n",
       "  <thead>\n",
       "    <tr style=\"text-align: right;\">\n",
       "      <th></th>\n",
       "      <th>train</th>\n",
       "      <th>test</th>\n",
       "    </tr>\n",
       "  </thead>\n",
       "  <tbody>\n",
       "    <tr>\n",
       "      <th>LinearRegression</th>\n",
       "      <td>392</td>\n",
       "      <td>407</td>\n",
       "    </tr>\n",
       "    <tr>\n",
       "      <th>RF</th>\n",
       "      <td>277</td>\n",
       "      <td>387</td>\n",
       "    </tr>\n",
       "    <tr>\n",
       "      <th>Boosting</th>\n",
       "      <td>411</td>\n",
       "      <td>432</td>\n",
       "    </tr>\n",
       "  </tbody>\n",
       "</table>\n",
       "</div>"
      ],
      "text/plain": [
       "                 train test\n",
       "LinearRegression   392  407\n",
       "RF                 277  387\n",
       "Boosting           411  432"
      ]
     },
     "execution_count": 88,
     "metadata": {},
     "output_type": "execute_result"
    }
   ],
   "source": [
    "# Import MAE\n",
    "from sklearn.metrics import mean_absolute_error\n",
    "\n",
    "# Buat variabel mae yang isinya adalah dataframe nilai mae data train dan test pada masing-masing algoritma\n",
    "mae = pd.DataFrame(columns=['train', 'test'], index=['LinearRegression','RF','Boosting'])\n",
    " \n",
    "# Buat dictionary untuk setiap algoritma yang digunakan\n",
    "model_dict = {'LinearRegression': model_lr, 'RF': RF, 'Boosting': boosting}\n",
    " \n",
    "# Hitung Mean Squared Error masing-masing algoritma pada data train dan test\n",
    "for name, model in model_dict.items():\n",
    "    mae.loc[name, 'train'] = round(mean_absolute_error(y_true=y_train, y_pred=model.predict(X_train)))\n",
    "    mae.loc[name, 'test'] = round(mean_absolute_error(y_true=y_test, y_pred=model.predict(X_test)))\n",
    "\n",
    "# Panggil mae\n",
    "mae"
   ]
  },
  {
   "cell_type": "code",
   "execution_count": 89,
   "metadata": {},
   "outputs": [
    {
     "data": {
      "image/png": "[encoded data removed]",
      "text/plain": [
       "<Figure size 432x288 with 1 Axes>"
      ]
     },
     "metadata": {
      "needs_background": "light"
     },
     "output_type": "display_data"
    }
   ],
   "source": [
    "# Plot evaluasi\n",
    "fig, ax = plt.subplots()\n",
    "mae.sort_values(by='test', ascending=False).plot(kind='barh', ax=ax, zorder=3)\n",
    "ax.grid(zorder=0)"
   ]
  },
  {
   "cell_type": "markdown",
   "metadata": {},
   "source": [
    "Random Forest memiliki performa terbaik dalam melakukan prediksi harga kost baik untuk data latih dan data test. Kemudian diikuti oleh Linear Regression dan yang terakhir adalah Ada Boosting.\n",
    "\n",
    "Adapun `MAE` terbaik untuk data latih memiliki nilai `277` dimana dapat diinterpretasikan bahwa rata-rata rentang kesalahan sebesar `277` dari nilai yang sebenarnya. Ini berarti jika sebuah kost seharusnya berharga `1500 (atau 1,5 juta)`, maka mungkin model memprediksi diantara rentang `1223 (1,223 juta)` hingga `1777 (1,77 juta)`. Begitupun untuk data test dimana `MAE` bernilai `387` dapat diinterpretasikan dengan cara yang sama.\n",
    "\n",
    "Perbandingan antara evaluasi `Random Forest` dengan `Linear Regression` adalah perbedaan rentang `MAE` untuk data training dengan data test. `Random Forest` memiliki jarak hingga `110 (110 rb)` antara training dan test. Sedangkan `Linear Regression` memiliki rentang/jarak yang kecil antara `MAE` training dan test yaitu hanya `15 (15 ribu)`.\n",
    "\n",
    "Dalam hal ini bisa saja `Random Forest` mengalami **overgfit** dimana model terlalu baik dalam memprediksi data latih namun performanya buruk terhadap data yang belum pernah dilihatnya. Ini berbeda dengan `Linear Regression` yang tidak mengalami **overfit** karena performa terhadap data latih dan data test tidak begitu jauh."
   ]
  },
  {
   "cell_type": "code",
   "execution_count": 100,
   "metadata": {},
   "outputs": [
    {
     "data": {
      "text/html": [
       "<div>\n",
       "<style scoped>\n",
       "    .dataframe tbody tr th:only-of-type {\n",
       "        vertical-align: middle;\n",
       "    }\n",
       "\n",
       "    .dataframe tbody tr th {\n",
       "        vertical-align: top;\n",
       "    }\n",
       "\n",
       "    .dataframe thead th {\n",
       "        text-align: right;\n",
       "    }\n",
       "</style>\n",
       "<table border=\"1\" class=\"dataframe\">\n",
       "  <thead>\n",
       "    <tr style=\"text-align: right;\">\n",
       "      <th></th>\n",
       "      <th>y_aktual</th>\n",
       "      <th>Prediksi_LinearRegression</th>\n",
       "      <th>Prediksi_RF</th>\n",
       "      <th>Prediksi_Boosting</th>\n",
       "    </tr>\n",
       "  </thead>\n",
       "  <tbody>\n",
       "    <tr>\n",
       "      <th>0</th>\n",
       "      <td>1500.0</td>\n",
       "      <td>1337.5</td>\n",
       "      <td>1457.3</td>\n",
       "      <td>1800.8</td>\n",
       "    </tr>\n",
       "  </tbody>\n",
       "</table>\n",
       "</div>"
      ],
      "text/plain": [
       "   y_aktual  Prediksi_LinearRegression  Prediksi_RF  Prediksi_Boosting\n",
       "0    1500.0                     1337.5       1457.3             1800.8"
      ]
     },
     "execution_count": 100,
     "metadata": {},
     "output_type": "execute_result"
    }
   ],
   "source": [
    "prediksi = X_test.iloc[[0]].copy()\n",
    "pred = {'y_aktual':y_test.iloc[0]}\n",
    "\n",
    "for name, model in model_dict.items():\n",
    "    pred['Prediksi_' + name] = model.predict(prediksi).round(1)\n",
    "\n",
    "pd.DataFrame(pred)"
   ]
  },
  {
   "cell_type": "code",
   "execution_count": 101,
   "metadata": {},
   "outputs": [
    {
     "data": {
      "text/html": [
       "<div>\n",
       "<style scoped>\n",
       "    .dataframe tbody tr th:only-of-type {\n",
       "        vertical-align: middle;\n",
       "    }\n",
       "\n",
       "    .dataframe tbody tr th {\n",
       "        vertical-align: top;\n",
       "    }\n",
       "\n",
       "    .dataframe thead th {\n",
       "        text-align: right;\n",
       "    }\n",
       "</style>\n",
       "<table border=\"1\" class=\"dataframe\">\n",
       "  <thead>\n",
       "    <tr style=\"text-align: right;\">\n",
       "      <th></th>\n",
       "      <th>aircon</th>\n",
       "      <th>free_wifi</th>\n",
       "      <th>kamar_mandi_dalam</th>\n",
       "      <th>TV_fkamar</th>\n",
       "      <th>Pemanas Air (Water Heater)_fkamar</th>\n",
       "      <th>Keamanan_fkost</th>\n",
       "      <th>Ruang Tamu_fkost</th>\n",
       "      <th>Ruang Makan_fkost</th>\n",
       "      <th>Air Minum_fkost</th>\n",
       "      <th>Pembantu_fkost</th>\n",
       "      <th>Parkir Mobil_fkost</th>\n",
       "      <th>jenis_Kost Campur</th>\n",
       "      <th>jenis_Kost Pasutri</th>\n",
       "      <th>jenis_Kost Putra</th>\n",
       "      <th>jenis_Kost Putri</th>\n",
       "    </tr>\n",
       "  </thead>\n",
       "  <tbody>\n",
       "    <tr>\n",
       "      <th>40</th>\n",
       "      <td>1</td>\n",
       "      <td>0</td>\n",
       "      <td>1</td>\n",
       "      <td>0</td>\n",
       "      <td>0</td>\n",
       "      <td>1</td>\n",
       "      <td>1</td>\n",
       "      <td>0</td>\n",
       "      <td>0</td>\n",
       "      <td>0</td>\n",
       "      <td>0</td>\n",
       "      <td>0</td>\n",
       "      <td>0</td>\n",
       "      <td>0</td>\n",
       "      <td>1</td>\n",
       "    </tr>\n",
       "  </tbody>\n",
       "</table>\n",
       "</div>"
      ],
      "text/plain": [
       "    aircon  free_wifi  kamar_mandi_dalam  TV_fkamar  \\\n",
       "40       1          0                  1          0   \n",
       "\n",
       "    Pemanas Air (Water Heater)_fkamar  Keamanan_fkost  Ruang Tamu_fkost  \\\n",
       "40                                  0               1                 1   \n",
       "\n",
       "    Ruang Makan_fkost  Air Minum_fkost  Pembantu_fkost  Parkir Mobil_fkost  \\\n",
       "40                  0                0               0                   0   \n",
       "\n",
       "    jenis_Kost Campur  jenis_Kost Pasutri  jenis_Kost Putra  jenis_Kost Putri  \n",
       "40                  0                   0                 0                 1  "
      ]
     },
     "execution_count": 101,
     "metadata": {},
     "output_type": "execute_result"
    }
   ],
   "source": [
    "prediksi"
   ]
  },
  {
   "cell_type": "markdown",
   "metadata": {},
   "source": [
    "Salah satu sampel yang diambil adalah kost putri dengan fasilitas kamar AC dan kamar mandi dalam serta fasilitas kost keamanan dan ruang tamu dengan harga 1,5 juta. Model Linear Regression memprediksi dengan harga lebih rendah namun hanya dengan rentang 160an rb, model Boosting memprediksi dengan harga lebih mahal 300 rb, dan Random Forest memprediksi dengan harga yang paling mendekati untuk data aktual."
   ]
  },
  {
   "cell_type": "code",
   "execution_count": 196,
   "metadata": {},
   "outputs": [
    {
     "data": {
      "text/plain": [
       "0.11305555555555556"
      ]
     },
     "execution_count": 196,
     "metadata": {},
     "output_type": "execute_result"
    }
   ],
   "source": [
    "407 / (y.max() - y.min())"
   ]
  },
  {
   "cell_type": "markdown",
   "metadata": {},
   "source": [
    "**ARGUMEN:**\n",
    "\n",
    "Walaupun MAE terbaik berada pada rentang 7 - 12% dari rentang total data (y max - y min = 3600). Namun model ini dibuat untuk generalisasi dalam prediksi harga kost agar harga kost dapat bersaing dengan kost dengan fasilitas setara serta mendapatkan keuntungan yang maksimal (kost mendekati harga wajar). Sehingga performa dari model dianggap sudah baik dalam menentukan harga kost yang dapat bersaing dengan harga yang wajar. (Didasari pendapat subjektif penulis)"
   ]
  },
  {
   "cell_type": "markdown",
   "metadata": {},
   "source": [
    "# Interpretasi Model"
   ]
  },
  {
   "cell_type": "markdown",
   "metadata": {},
   "source": [
    "## Linear Regression"
   ]
  },
  {
   "cell_type": "markdown",
   "metadata": {},
   "source": [
    "Dari ketiga model yang dibuat ingin diketahui bagaimana cara model dalam menentukan harga dengan masukan informasi fasilitas. Untuk model `LinearRegression` sendiri adalah model deterministik, dimana object dari `LinearRegression` yang telah dilakukan fitting model menyimpan persamaan linear. Sehingga model ini akan terus menghasilkan output yang sama untuk masukan dengan kondisi yang sama.<sup>[[6](http://www.scholarpedia.org/article/Dynamical_systems)]</sup>\n",
    "\n",
    "Kode di bawah untuk melihat persamaan dari model yang terbentuk dari hasil pelatihan dengan data training."
   ]
  },
  {
   "cell_type": "code",
   "execution_count": 91,
   "metadata": {},
   "outputs": [
    {
     "data": {
      "text/plain": [
       "998.0103988828553"
      ]
     },
     "execution_count": 91,
     "metadata": {},
     "output_type": "execute_result"
    }
   ],
   "source": [
    "# Melihat intersep persamaan\n",
    "model_lr.intercept_"
   ]
  },
  {
   "cell_type": "code",
   "execution_count": 92,
   "metadata": {},
   "outputs": [
    {
     "data": {
      "text/plain": [
       "array([ 618.92216099,  199.79272872,  206.17075191,  179.18222558,\n",
       "        518.70714468,  -83.40437909, -111.26936511,  145.13969436,\n",
       "         69.08734462,  -62.03623055,  132.45729682, -111.02204263,\n",
       "        739.13794229, -337.22605864, -290.88984102])"
      ]
     },
     "execution_count": 92,
     "metadata": {},
     "output_type": "execute_result"
    }
   ],
   "source": [
    "# Masing-masing koefisien dari persamaan\n",
    "model_lr.coef_"
   ]
  },
  {
   "cell_type": "code",
   "execution_count": 93,
   "metadata": {},
   "outputs": [
    {
     "data": {
      "text/plain": [
       "array(['aircon', 'free_wifi', 'kamar_mandi_dalam', 'TV_fkamar',\n",
       "       'Pemanas Air (Water Heater)_fkamar', 'Keamanan_fkost',\n",
       "       'Ruang Tamu_fkost', 'Ruang Makan_fkost', 'Air Minum_fkost',\n",
       "       'Pembantu_fkost', 'Parkir Mobil_fkost', 'jenis_Kost Campur',\n",
       "       'jenis_Kost Pasutri', 'jenis_Kost Putra', 'jenis_Kost Putri'],\n",
       "      dtype=object)"
      ]
     },
     "execution_count": 93,
     "metadata": {},
     "output_type": "execute_result"
    }
   ],
   "source": [
    "# x persamaan\n",
    "model_lr.feature_names_in_"
   ]
  },
  {
   "cell_type": "markdown",
   "metadata": {},
   "source": [
    "Untuk membuktikan deterministik dan konsistensi prediksi `model_lr` yang telah kita buat, akan kita gunakan data test dengan index 0 dengan menhitung secara manual, yaitu menghitung dengan cara `prediksi = koef * variabel + intersep`."
   ]
  },
  {
   "cell_type": "code",
   "execution_count": 126,
   "metadata": {},
   "outputs": [
    {
     "data": {
      "text/html": [
       "<div>\n",
       "<style scoped>\n",
       "    .dataframe tbody tr th:only-of-type {\n",
       "        vertical-align: middle;\n",
       "    }\n",
       "\n",
       "    .dataframe tbody tr th {\n",
       "        vertical-align: top;\n",
       "    }\n",
       "\n",
       "    .dataframe thead th {\n",
       "        text-align: right;\n",
       "    }\n",
       "</style>\n",
       "<table border=\"1\" class=\"dataframe\">\n",
       "  <thead>\n",
       "    <tr style=\"text-align: right;\">\n",
       "      <th></th>\n",
       "      <th>variabel</th>\n",
       "      <th>koef</th>\n",
       "      <th>data</th>\n",
       "      <th>data*koef</th>\n",
       "    </tr>\n",
       "  </thead>\n",
       "  <tbody>\n",
       "    <tr>\n",
       "      <th>0</th>\n",
       "      <td>aircon</td>\n",
       "      <td>618.922161</td>\n",
       "      <td>1</td>\n",
       "      <td>618.922161</td>\n",
       "    </tr>\n",
       "    <tr>\n",
       "      <th>1</th>\n",
       "      <td>free_wifi</td>\n",
       "      <td>199.792729</td>\n",
       "      <td>0</td>\n",
       "      <td>0.000000</td>\n",
       "    </tr>\n",
       "    <tr>\n",
       "      <th>2</th>\n",
       "      <td>kamar_mandi_dalam</td>\n",
       "      <td>206.170752</td>\n",
       "      <td>1</td>\n",
       "      <td>206.170752</td>\n",
       "    </tr>\n",
       "    <tr>\n",
       "      <th>3</th>\n",
       "      <td>TV_fkamar</td>\n",
       "      <td>179.182226</td>\n",
       "      <td>0</td>\n",
       "      <td>0.000000</td>\n",
       "    </tr>\n",
       "    <tr>\n",
       "      <th>4</th>\n",
       "      <td>Pemanas Air (Water Heater)_fkamar</td>\n",
       "      <td>518.707145</td>\n",
       "      <td>0</td>\n",
       "      <td>0.000000</td>\n",
       "    </tr>\n",
       "    <tr>\n",
       "      <th>5</th>\n",
       "      <td>Keamanan_fkost</td>\n",
       "      <td>-83.404379</td>\n",
       "      <td>1</td>\n",
       "      <td>-83.404379</td>\n",
       "    </tr>\n",
       "    <tr>\n",
       "      <th>6</th>\n",
       "      <td>Ruang Tamu_fkost</td>\n",
       "      <td>-111.269365</td>\n",
       "      <td>1</td>\n",
       "      <td>-111.269365</td>\n",
       "    </tr>\n",
       "    <tr>\n",
       "      <th>7</th>\n",
       "      <td>Ruang Makan_fkost</td>\n",
       "      <td>145.139694</td>\n",
       "      <td>0</td>\n",
       "      <td>0.000000</td>\n",
       "    </tr>\n",
       "    <tr>\n",
       "      <th>8</th>\n",
       "      <td>Air Minum_fkost</td>\n",
       "      <td>69.087345</td>\n",
       "      <td>0</td>\n",
       "      <td>0.000000</td>\n",
       "    </tr>\n",
       "    <tr>\n",
       "      <th>9</th>\n",
       "      <td>Pembantu_fkost</td>\n",
       "      <td>-62.036231</td>\n",
       "      <td>0</td>\n",
       "      <td>-0.000000</td>\n",
       "    </tr>\n",
       "    <tr>\n",
       "      <th>10</th>\n",
       "      <td>Parkir Mobil_fkost</td>\n",
       "      <td>132.457297</td>\n",
       "      <td>0</td>\n",
       "      <td>0.000000</td>\n",
       "    </tr>\n",
       "    <tr>\n",
       "      <th>11</th>\n",
       "      <td>jenis_Kost Campur</td>\n",
       "      <td>-111.022043</td>\n",
       "      <td>0</td>\n",
       "      <td>-0.000000</td>\n",
       "    </tr>\n",
       "    <tr>\n",
       "      <th>12</th>\n",
       "      <td>jenis_Kost Pasutri</td>\n",
       "      <td>739.137942</td>\n",
       "      <td>0</td>\n",
       "      <td>0.000000</td>\n",
       "    </tr>\n",
       "    <tr>\n",
       "      <th>13</th>\n",
       "      <td>jenis_Kost Putra</td>\n",
       "      <td>-337.226059</td>\n",
       "      <td>0</td>\n",
       "      <td>-0.000000</td>\n",
       "    </tr>\n",
       "    <tr>\n",
       "      <th>14</th>\n",
       "      <td>jenis_Kost Putri</td>\n",
       "      <td>-290.889841</td>\n",
       "      <td>1</td>\n",
       "      <td>-290.889841</td>\n",
       "    </tr>\n",
       "  </tbody>\n",
       "</table>\n",
       "</div>"
      ],
      "text/plain": [
       "                             variabel        koef  data   data*koef\n",
       "0                              aircon  618.922161     1  618.922161\n",
       "1                           free_wifi  199.792729     0    0.000000\n",
       "2                   kamar_mandi_dalam  206.170752     1  206.170752\n",
       "3                           TV_fkamar  179.182226     0    0.000000\n",
       "4   Pemanas Air (Water Heater)_fkamar  518.707145     0    0.000000\n",
       "5                      Keamanan_fkost  -83.404379     1  -83.404379\n",
       "6                    Ruang Tamu_fkost -111.269365     1 -111.269365\n",
       "7                   Ruang Makan_fkost  145.139694     0    0.000000\n",
       "8                     Air Minum_fkost   69.087345     0    0.000000\n",
       "9                      Pembantu_fkost  -62.036231     0   -0.000000\n",
       "10                 Parkir Mobil_fkost  132.457297     0    0.000000\n",
       "11                  jenis_Kost Campur -111.022043     0   -0.000000\n",
       "12                 jenis_Kost Pasutri  739.137942     0    0.000000\n",
       "13                   jenis_Kost Putra -337.226059     0   -0.000000\n",
       "14                   jenis_Kost Putri -290.889841     1 -290.889841"
      ]
     },
     "execution_count": 126,
     "metadata": {},
     "output_type": "execute_result"
    }
   ],
   "source": [
    "# Membuat dataframe untuk variabel, koefisien serta contoh data yang akan diprediksi\n",
    "lr_interpret = pd.DataFrame(\n",
    "    {'variabel': model_lr.feature_names_in_, # nama variabel\n",
    "    'koef':model_lr.coef_, # Besaran koefisien variable\n",
    "    'data': X_test.iloc[0].to_list() # Informasi fasilitas data test index 0\n",
    "    })\n",
    "\n",
    "# Menghitung hasil perkalian antara data dengan koef\n",
    "lr_interpret['data*koef'] = lr_interpret['koef'] * lr_interpret['data']\n",
    "\n",
    "lr_interpret"
   ]
  },
  {
   "cell_type": "markdown",
   "metadata": {},
   "source": [
    "Variabel `aircon` memiliki koefisien terbesar, yang dimana dapat diinterpretasian bahwa variabel tersebut sangat berpengaruh terhadap kenaikan harga, dimana ketika suatu kost mempunyai fasilitas `aircon` maka akan menaikkan harga sebesar **618 rb**, diikuti dengan variabel `water heather` dan juga `kamar_mandi_dalam`. Ini selaras dengan hasil korelasi pada eksplorasi data dimana korelasi tertinggi terhadpa harga adalah ketiga variabel tersebut.\n",
    "\n",
    "Kita telah mendapatkan hasil perhitungan masing-masing masukan variabel untuk contoh data test yang telah dikalikan dengan koefisiennya. Selanjutnya untuk menentukan output terakhir yaitu menjumlahkan seluruh perkalian antar variabel kemudian menambahkan dengan intersep."
   ]
  },
  {
   "cell_type": "code",
   "execution_count": 124,
   "metadata": {},
   "outputs": [
    {
     "data": {
      "text/plain": [
       "1337.539726551887"
      ]
     },
     "execution_count": 124,
     "metadata": {},
     "output_type": "execute_result"
    }
   ],
   "source": [
    "# Menghitung output total dengan menambahkan intersep\n",
    "lr_interpret['prediksi*koef'].sum() + model_lr.intercept_"
   ]
  },
  {
   "cell_type": "code",
   "execution_count": 122,
   "metadata": {},
   "outputs": [
    {
     "data": {
      "text/plain": [
       "array([1337.53972655])"
      ]
     },
     "execution_count": 122,
     "metadata": {},
     "output_type": "execute_result"
    }
   ],
   "source": [
    "# Hasil prediksi model untuk data test index 0\n",
    "model_lr.predict(X_test.iloc[[0]])"
   ]
  },
  {
   "cell_type": "markdown",
   "metadata": {},
   "source": [
    "Dari hasil komputasi secara manual dan juga hasil prediksi dari objek `model_lr` memiliki hasil yang sama untuk contoh masukan yang sama."
   ]
  },
  {
   "cell_type": "markdown",
   "metadata": {},
   "source": [
    "## Random Forest\n",
    "\n",
    "Random Forest bukanlah model deterministik karena penentuan outputnya menggunakan probabilitas/*randomness*, model seperti ini disebut sebagai *stochastic model*.<sup>[ [7](https://blog.ev.uk/stochastic-vs-deterministic-models-understand-the-pros-and-cons) ]</sup>\n",
    "\n",
    "Karena Adaboost juga termasuk ke dalam *stochastic model*, maka dari itu kita hanya akan melakukan interpretasi untuk model *stochastic* terbaik, yaitu **Random Forest**\n",
    "\n",
    "Karena sifatnya yang tidak tetap untuk setiap outputnya, sehingga digunakan *Mean Decreased Impurity (MDI)* untuk mengetahui variabel/prediktor apa saja yang paling mempengaruhi prediksi model. MDI menghitung rata-rata dan standar deviasi dari akumulasi penurunan kualitas dari setiap pohonnya (jika nilai prediktor diubah, dibuat menjadi *impure*) Nilai MDI dari setiap prediktor tersimpan dalam atribut `feature_importance_`.<sup>[[8](https://scikit-learn.org/stable/auto_examples/ensemble/plot_forest_importances.html)]</sup>\n",
    "\n",
    "\n",
    "\n",
    "Dengan nilai MDI ini kita akan melihat prediktor mana memiliki MDI terbesar, atau dengan kata lain prediktor yang paling mempengaruhi model dalam penentuan harga."
   ]
  },
  {
   "cell_type": "code",
   "execution_count": 138,
   "metadata": {},
   "outputs": [
    {
     "name": "stdout",
     "output_type": "stream",
     "text": [
      "Elapsed time to compute the importances: 0.077 seconds\n"
     ]
    }
   ],
   "source": [
    "import time\n",
    "\n",
    "start_time = time.time()\n",
    "# Mendapatkan nilai MDI setiap prediktor\n",
    "importances = RF.feature_importances_\n",
    "# Mendapatkan nilai prediktor\n",
    "feature_names = RF.feature_names_in_\n",
    "# Menghitung std MDI setiap prediktor\n",
    "std = np.std([tree.feature_importances_ for tree in RF.estimators_], axis=0)\n",
    "elapsed_time = time.time() - start_time\n",
    "\n",
    "print(f\"Elapsed time to compute the importances: {elapsed_time:.3f} seconds\")"
   ]
  },
  {
   "cell_type": "code",
   "execution_count": 139,
   "metadata": {},
   "outputs": [
    {
     "data": {
      "image/png": "[encoded data removed]",
      "text/plain": [
       "<Figure size 720x504 with 1 Axes>"
      ]
     },
     "metadata": {
      "needs_background": "light"
     },
     "output_type": "display_data"
    }
   ],
   "source": [
    "# Visualisasi MDI untuk setiap prediktor\n",
    "forest_importances = pd.Series(importances, index=feature_names)\n",
    "\n",
    "fig, ax = plt.subplots(figsize=(10,7))\n",
    "forest_importances.plot.bar(yerr=std, ax=ax)\n",
    "ax.set_title(\"Feature importances using MDI\")\n",
    "ax.set_ylabel(\"Mean decrease in impurity\")\n",
    "fig.tight_layout()"
   ]
  },
  {
   "cell_type": "markdown",
   "metadata": {},
   "source": [
    "Dari plot MDI di atas dapat terlihat bahwa `aircon` adalah prediktor yang paling mempengaruhi prediksi model, diikuti oleh `Water Heater`."
   ]
  },
  {
   "cell_type": "markdown",
   "metadata": {},
   "source": [
    "# Kesimpulan & Saran"
   ]
  },
  {
   "cell_type": "markdown",
   "metadata": {},
   "source": [
    "## Kesimpulan\n",
    "\n",
    "Berdasarkan hasil notebook ini, didapat beberapa kesimpulan:\n",
    "1. Model terbaik untuk memprediksi harga kost adalah Random Forest Regressor dengan nilai MAE pada training sebesar 277 dan testing 387 (dalam satuan ribu). Model kedua terbaik adalah Linear Regression dengan nilai MAE pada data training 392 dan pada testing sebesar 407 (dalam satuan ribu)\n",
    "2. Perbedaan performa antara data training dan testing untuk Random Forest Regressor cenderung jauh, ini memungkinan bahwa Random Forest Regressor mengalami overfit. Berbeda dengan Linear Regression yang perbedaan performa antara training dan testing yang kecil.\n",
    "3. Variabel yang paling berpengaruh adalah AC (aircon) dalam prediksi harga baik untuk model Linear Regression dan Random Forest. Sehingga AC adalah fasilitas yang dapat menaikkan harga kost secara signifikan."
   ]
  },
  {
   "cell_type": "markdown",
   "metadata": {},
   "source": [
    "## Saran\n",
    "\n",
    "Berdasarkan hasil notebook ini, data yang digunakan masih terbilang sederhana karena kesemua kolom dalam bentuk boolean/biner. Masih terdapat kemungkinan informasi penting yang tidak menjadi masukan dari model seperti luas kamar serta kecamatan dari kost tersebut. Kemudian penggunaan model juga masih terbilang sederhana dan belum dilakukan tuning terhadap model-model terbaik. \n",
    "\n",
    "Oleh karena itu penulis menyarankan untuk menggunakan dataset yang lebih lengkap dan juga melakukan peningkatan performa model dengan cara melakukan tuning ataupun menggunakan model yang lebih *advance*."
   ]
  },
  {
   "cell_type": "markdown",
   "metadata": {},
   "source": [
    "# Referensi\n",
    "\n",
    "[1] [Binary Encoding](https://www.sciencedirect.com/topics/engineering/binary-encoding)\n",
    "\n",
    "[2] [One Hot Encoding](https://machinelearningmastery.com/why-one-hot-encode-data-in-machine-learning/)\n",
    "\n",
    "[3] [LinearRegression](https://scikit-learn.org/stable/modules/generated/sklearn.linear_model.LinearRegression.html)\n",
    "\n",
    "[4] [RandomForestRegressor](https://scikit-learn.org/stable/modules/generated/sklearn.ensemble.RandomForestRegressor.html)\n",
    "\n",
    "[5] [AdaBoostRegressor](https://scikit-learn.org/stable/modules/generated/sklearn.ensemble.AdaBoostRegressor.html)\n",
    "\n",
    "[6] [Deterministic System](http://www.scholarpedia.org/article/Dynamical_systems)\n",
    "\n",
    "[7] [Stochastic System](https://blog.ev.uk/stochastic-vs-deterministic-models-understand-the-pros-and-cons)\n",
    "\n",
    "[8] [Feature Importance](https://scikit-learn.org/stable/auto_examples/ensemble/plot_forest_importances.html)"
   ]
  }
 ],
 "metadata": {
  "kernelspec": {
   "display_name": "Python 3.8.13 ('flaskui')",
   "language": "python",
   "name": "python3"
  },
  "language_info": {
   "codemirror_mode": {
    "name": "ipython",
    "version": 3
   },
   "file_extension": ".py",
   "mimetype": "text/x-python",
   "name": "python",
   "nbconvert_exporter": "python",
   "pygments_lexer": "ipython3",
   "version": "3.8.13"
  },
  "orig_nbformat": 4,
  "vscode": {
   "interpreter": {
    "hash": "8468a945814aeffd535e1d3fa22ffa25ae2a363af3badfa537b6a03c67f45312"
   }
  }
 },
 "nbformat": 4,
 "nbformat_minor": 2
}
