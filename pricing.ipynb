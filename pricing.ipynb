{
 "cells": [
  {
   "cell_type": "markdown",
   "metadata": {},
   "source": [
    "# Kost Pricing\n",
    "\n",
    "Pada notebook ini akan dilakukan analisis dalam penentuan harga kost terhadap fasilitas kost. Penentuan harga kost (atau `pricing`) menggunakan algoritma regresi *machine learning* dan juga akan dilakukan interpretasi model untuk analisis fasilitas apa saja yang paling berpengaruh terhadap penentuan harga. Selain menggunakan regresi akan dilakukan juga perbandingan penentuan harga menggunakan metode statistika sederhana seperti mencari rata-rata harga kost dengan fasilitas yang sama.\n",
    "\n",
    "Notebook ini berangkat dari permasalahan ketika seorang pemilik kostan ingin menentukan harga kost perbulannya untuk mendapatkan keuntungan maksimal serta tetap dapat bersaing dengan harga kost lainnya.\n",
    "\n",
    "Adapun pembahasan dalam notebook ini antara lain:\n",
    "1. Persiapan dan Pembersihan Dataset\n",
    "2. Eksplorasi Data\n",
    "3. Persiapan Data untuk Model\n",
    "4. Pembangunan Model\n",
    "5. Evaluasi Model\n",
    "6. Perbandingan dengan metode sederhana (atau bisa diatas, sebagai alasan kenapa dilakukan regresi?)\n",
    "7. Kesimpulan"
   ]
  },
  {
   "cell_type": "markdown",
   "metadata": {},
   "source": [
    "# Preprocessing Data"
   ]
  },
  {
   "cell_type": "markdown",
   "metadata": {},
   "source": [
    "## Persiapan dan Pembersihan Data"
   ]
  },
  {
   "cell_type": "markdown",
   "metadata": {},
   "source": [
    "**Membaca Data**"
   ]
  },
  {
   "cell_type": "code",
   "execution_count": 258,
   "metadata": {},
   "outputs": [],
   "source": [
    "import pandas as pd \n",
    "import re as re # Regex"
   ]
  },
  {
   "cell_type": "code",
   "execution_count": 259,
   "metadata": {},
   "outputs": [
    {
     "data": {
      "text/html": [
       "<div>\n",
       "<style scoped>\n",
       "    .dataframe tbody tr th:only-of-type {\n",
       "        vertical-align: middle;\n",
       "    }\n",
       "\n",
       "    .dataframe tbody tr th {\n",
       "        vertical-align: top;\n",
       "    }\n",
       "\n",
       "    .dataframe thead th {\n",
       "        text-align: right;\n",
       "    }\n",
       "</style>\n",
       "<table border=\"1\" class=\"dataframe\">\n",
       "  <thead>\n",
       "    <tr style=\"text-align: right;\">\n",
       "      <th></th>\n",
       "      <th>url</th>\n",
       "      <th>nama</th>\n",
       "      <th>harga</th>\n",
       "      <th>jenis</th>\n",
       "      <th>address</th>\n",
       "      <th>aircon</th>\n",
       "      <th>free_wifi</th>\n",
       "      <th>kamar_mandi_dalam</th>\n",
       "      <th>fasilitas_kamar</th>\n",
       "      <th>fasilitas_kost</th>\n",
       "    </tr>\n",
       "  </thead>\n",
       "  <tbody>\n",
       "    <tr>\n",
       "      <th>0</th>\n",
       "      <td>https://www.sewakost.com/jakarta/selatan/kost-...</td>\n",
       "      <td>Kost Ciganjur Jalan Pasir No. 32</td>\n",
       "      <td>Rp 1.000.000</td>\n",
       "      <td>Kost Campur</td>\n",
       "      <td>Jalan Pasir no 32 Kp. Setu Rt 001/006 Keluraha...</td>\n",
       "      <td>Tidak</td>\n",
       "      <td>Tidak</td>\n",
       "      <td>Ya</td>\n",
       "      <td>['Kamar Mandi Dalam']</td>\n",
       "      <td>['Keamanan', 'Parkir Motor']</td>\n",
       "    </tr>\n",
       "    <tr>\n",
       "      <th>1</th>\n",
       "      <td>https://www.sewakost.com/jakarta/selatan/kost-...</td>\n",
       "      <td>KOST EXECUTIVE JAGAKARSA PASO CILANDAK JAKARTA...</td>\n",
       "      <td>Rp 2.200.000</td>\n",
       "      <td>Kost Putra</td>\n",
       "      <td>Jalan Paso no 6A, Jagakarsa, Cilandak, Jakarta...</td>\n",
       "      <td>Ya</td>\n",
       "      <td>Ya</td>\n",
       "      <td>Ya</td>\n",
       "      <td>['Spring Bed', 'Perabot', 'Free WiFi', 'AC', '...</td>\n",
       "      <td>['Ruang Tamu', 'Ruang Makan', 'Dapur', 'Air Mi...</td>\n",
       "    </tr>\n",
       "    <tr>\n",
       "      <th>2</th>\n",
       "      <td>https://www.sewakost.com/jakarta/selatan/kamar...</td>\n",
       "      <td>Kamar kost Putri NON AC di Mampang</td>\n",
       "      <td>Rp 850.000</td>\n",
       "      <td>Kost Putri</td>\n",
       "      <td>Jl.Mampang Prapatan VI Rt04 Rw02 No.70B</td>\n",
       "      <td>Tidak</td>\n",
       "      <td>Tidak</td>\n",
       "      <td>Tidak</td>\n",
       "      <td>[]</td>\n",
       "      <td>[]</td>\n",
       "    </tr>\n",
       "    <tr>\n",
       "      <th>3</th>\n",
       "      <td>https://www.sewakost.com/jakarta/selatan/hompy...</td>\n",
       "      <td>Hompy Timur Residence</td>\n",
       "      <td>Rp 2.700.000</td>\n",
       "      <td>Kost Putri</td>\n",
       "      <td>Tebet Timur Dalam 7B no. 11</td>\n",
       "      <td>Ya</td>\n",
       "      <td>Ya</td>\n",
       "      <td>Ya</td>\n",
       "      <td>['Spring Bed', 'Perabot', 'Free WiFi', 'AC', '...</td>\n",
       "      <td>['Dapur', 'Cuci Setrika', 'Pembantu', 'Keamana...</td>\n",
       "    </tr>\n",
       "    <tr>\n",
       "      <th>4</th>\n",
       "      <td>https://www.sewakost.com/jakarta/selatan/rumah...</td>\n",
       "      <td>Rumah kontrakan (40m2) Pasutri baru/karyawati/...</td>\n",
       "      <td>Rp 2.500.000</td>\n",
       "      <td>Kost Pasutri</td>\n",
       "      <td>Jalan keselamatan 18 RT10/RW03</td>\n",
       "      <td>Ya</td>\n",
       "      <td>Tidak</td>\n",
       "      <td>Ya</td>\n",
       "      <td>['AC', 'Kamar Mandi Dalam']</td>\n",
       "      <td>['Ruang Tamu', 'Ruang Makan', 'Dapur', 'Keaman...</td>\n",
       "    </tr>\n",
       "  </tbody>\n",
       "</table>\n",
       "</div>"
      ],
      "text/plain": [
       "                                                 url  \\\n",
       "0  https://www.sewakost.com/jakarta/selatan/kost-...   \n",
       "1  https://www.sewakost.com/jakarta/selatan/kost-...   \n",
       "2  https://www.sewakost.com/jakarta/selatan/kamar...   \n",
       "3  https://www.sewakost.com/jakarta/selatan/hompy...   \n",
       "4  https://www.sewakost.com/jakarta/selatan/rumah...   \n",
       "\n",
       "                                                nama         harga  \\\n",
       "0                   Kost Ciganjur Jalan Pasir No. 32  Rp 1.000.000   \n",
       "1  KOST EXECUTIVE JAGAKARSA PASO CILANDAK JAKARTA...  Rp 2.200.000   \n",
       "2                 Kamar kost Putri NON AC di Mampang    Rp 850.000   \n",
       "3                              Hompy Timur Residence  Rp 2.700.000   \n",
       "4  Rumah kontrakan (40m2) Pasutri baru/karyawati/...  Rp 2.500.000   \n",
       "\n",
       "          jenis                                            address aircon  \\\n",
       "0   Kost Campur  Jalan Pasir no 32 Kp. Setu Rt 001/006 Keluraha...  Tidak   \n",
       "1    Kost Putra  Jalan Paso no 6A, Jagakarsa, Cilandak, Jakarta...     Ya   \n",
       "2    Kost Putri            Jl.Mampang Prapatan VI Rt04 Rw02 No.70B  Tidak   \n",
       "3    Kost Putri                        Tebet Timur Dalam 7B no. 11     Ya   \n",
       "4  Kost Pasutri                     Jalan keselamatan 18 RT10/RW03     Ya   \n",
       "\n",
       "  free_wifi kamar_mandi_dalam  \\\n",
       "0     Tidak                Ya   \n",
       "1        Ya                Ya   \n",
       "2     Tidak             Tidak   \n",
       "3        Ya                Ya   \n",
       "4     Tidak                Ya   \n",
       "\n",
       "                                     fasilitas_kamar  \\\n",
       "0                              ['Kamar Mandi Dalam']   \n",
       "1  ['Spring Bed', 'Perabot', 'Free WiFi', 'AC', '...   \n",
       "2                                                 []   \n",
       "3  ['Spring Bed', 'Perabot', 'Free WiFi', 'AC', '...   \n",
       "4                        ['AC', 'Kamar Mandi Dalam']   \n",
       "\n",
       "                                      fasilitas_kost  \n",
       "0                       ['Keamanan', 'Parkir Motor']  \n",
       "1  ['Ruang Tamu', 'Ruang Makan', 'Dapur', 'Air Mi...  \n",
       "2                                                 []  \n",
       "3  ['Dapur', 'Cuci Setrika', 'Pembantu', 'Keamana...  \n",
       "4  ['Ruang Tamu', 'Ruang Makan', 'Dapur', 'Keaman...  "
      ]
     },
     "execution_count": 259,
     "metadata": {},
     "output_type": "execute_result"
    }
   ],
   "source": [
    "df = pd.read_csv('sewakost_40pages.tsv', sep=\"\\t\")\n",
    "\n",
    "df.head()"
   ]
  },
  {
   "cell_type": "markdown",
   "metadata": {},
   "source": [
    "Kolom:\n",
    "1. `name`: Nama kost\n",
    "2. `url`: URL kost\n",
    "3. `harga`: Harga per bulan\n",
    "4. `jenis`: Jenis kost: putra, putri or campur\n",
    "5. `address`: Alamat\n",
    "6. `aircon`: biner, apakah kost mempunyai AC atau tidak\n",
    "7. `free_wifi`: biner, apakah kost menyediakan wifi gratis atau tidak\n",
    "8. `kamar_mandi_dalam`: biner, apakah kamar kost mempunyai kamar mandi dalam atau tidak\n",
    "9. `fasiltas_kamar`: list fasilitas di dalam kamar\n",
    "10. `fasilitas_kost`: list fasilitas bersama di gedung kost"
   ]
  },
  {
   "cell_type": "markdown",
   "metadata": {},
   "source": [
    "## Drop Nilai NaN\n",
    "\n",
    "Pada bagian ini akan dilihat apakah terdapat nilai NaN pada dataset. Jika terdapat data yang memiliki nilai NaN maka akan dihapus berhubung data tersebut tidak dapat digunakan untuk masukan model."
   ]
  },
  {
   "cell_type": "code",
   "execution_count": 260,
   "metadata": {},
   "outputs": [
    {
     "data": {
      "text/plain": [
       "url                   0\n",
       "nama                  0\n",
       "harga                 0\n",
       "jenis                14\n",
       "address              14\n",
       "aircon               14\n",
       "free_wifi            14\n",
       "kamar_mandi_dalam    14\n",
       "fasilitas_kamar      14\n",
       "fasilitas_kost       14\n",
       "dtype: int64"
      ]
     },
     "execution_count": 260,
     "metadata": {},
     "output_type": "execute_result"
    }
   ],
   "source": [
    "# Melihat jumlah baris dengan NaN perkolomnya\n",
    "df.isnull().sum()"
   ]
  },
  {
   "cell_type": "code",
   "execution_count": 261,
   "metadata": {},
   "outputs": [
    {
     "data": {
      "text/html": [
       "<div>\n",
       "<style scoped>\n",
       "    .dataframe tbody tr th:only-of-type {\n",
       "        vertical-align: middle;\n",
       "    }\n",
       "\n",
       "    .dataframe tbody tr th {\n",
       "        vertical-align: top;\n",
       "    }\n",
       "\n",
       "    .dataframe thead th {\n",
       "        text-align: right;\n",
       "    }\n",
       "</style>\n",
       "<table border=\"1\" class=\"dataframe\">\n",
       "  <thead>\n",
       "    <tr style=\"text-align: right;\">\n",
       "      <th></th>\n",
       "      <th>url</th>\n",
       "      <th>nama</th>\n",
       "      <th>harga</th>\n",
       "      <th>jenis</th>\n",
       "      <th>address</th>\n",
       "      <th>aircon</th>\n",
       "      <th>free_wifi</th>\n",
       "      <th>kamar_mandi_dalam</th>\n",
       "      <th>fasilitas_kamar</th>\n",
       "      <th>fasilitas_kost</th>\n",
       "    </tr>\n",
       "  </thead>\n",
       "  <tbody>\n",
       "    <tr>\n",
       "      <th>483</th>\n",
       "      <td>https://www.sewakost.com/jakarta/selatan/indek...</td>\n",
       "      <td>INDEKOS ELITE DALAM CLUSTER FULL FURNISH</td>\n",
       "      <td>3.000.000</td>\n",
       "      <td>NaN</td>\n",
       "      <td>NaN</td>\n",
       "      <td>NaN</td>\n",
       "      <td>NaN</td>\n",
       "      <td>NaN</td>\n",
       "      <td>NaN</td>\n",
       "      <td>NaN</td>\n",
       "    </tr>\n",
       "    <tr>\n",
       "      <th>739</th>\n",
       "      <td>https://www.sewakost.com/jakarta/selatan/tebet...</td>\n",
       "      <td>TEBET EXECUTIVE RESIDENCE 141</td>\n",
       "      <td>3.550.000</td>\n",
       "      <td>NaN</td>\n",
       "      <td>NaN</td>\n",
       "      <td>NaN</td>\n",
       "      <td>NaN</td>\n",
       "      <td>NaN</td>\n",
       "      <td>NaN</td>\n",
       "      <td>NaN</td>\n",
       "    </tr>\n",
       "    <tr>\n",
       "      <th>740</th>\n",
       "      <td>https://www.sewakost.com/jakarta/selatan/sewa-...</td>\n",
       "      <td>Sewa Kost, Cilandak Barat, Jakarta Selatan</td>\n",
       "      <td>2.000.000</td>\n",
       "      <td>NaN</td>\n",
       "      <td>NaN</td>\n",
       "      <td>NaN</td>\n",
       "      <td>NaN</td>\n",
       "      <td>NaN</td>\n",
       "      <td>NaN</td>\n",
       "      <td>NaN</td>\n",
       "    </tr>\n",
       "    <tr>\n",
       "      <th>741</th>\n",
       "      <td>https://www.sewakost.com/jakarta/selatan/kos-d...</td>\n",
       "      <td>Kos di Lt.Agung dkt KRL Lt.Agung &amp; Tj.Brt</td>\n",
       "      <td>700.000</td>\n",
       "      <td>NaN</td>\n",
       "      <td>NaN</td>\n",
       "      <td>NaN</td>\n",
       "      <td>NaN</td>\n",
       "      <td>NaN</td>\n",
       "      <td>NaN</td>\n",
       "      <td>NaN</td>\n",
       "    </tr>\n",
       "    <tr>\n",
       "      <th>742</th>\n",
       "      <td>https://www.sewakost.com/jakarta/selatan/kost-...</td>\n",
       "      <td>Kost Wanita Tebet Dekat Pasar Tebet Barat dan ...</td>\n",
       "      <td>1.600.000</td>\n",
       "      <td>NaN</td>\n",
       "      <td>NaN</td>\n",
       "      <td>NaN</td>\n",
       "      <td>NaN</td>\n",
       "      <td>NaN</td>\n",
       "      <td>NaN</td>\n",
       "      <td>NaN</td>\n",
       "    </tr>\n",
       "  </tbody>\n",
       "</table>\n",
       "</div>"
      ],
      "text/plain": [
       "                                                   url  \\\n",
       "483  https://www.sewakost.com/jakarta/selatan/indek...   \n",
       "739  https://www.sewakost.com/jakarta/selatan/tebet...   \n",
       "740  https://www.sewakost.com/jakarta/selatan/sewa-...   \n",
       "741  https://www.sewakost.com/jakarta/selatan/kos-d...   \n",
       "742  https://www.sewakost.com/jakarta/selatan/kost-...   \n",
       "\n",
       "                                                  nama       harga jenis  \\\n",
       "483           INDEKOS ELITE DALAM CLUSTER FULL FURNISH   3.000.000   NaN   \n",
       "739                      TEBET EXECUTIVE RESIDENCE 141   3.550.000   NaN   \n",
       "740         Sewa Kost, Cilandak Barat, Jakarta Selatan   2.000.000   NaN   \n",
       "741          Kos di Lt.Agung dkt KRL Lt.Agung & Tj.Brt     700.000   NaN   \n",
       "742  Kost Wanita Tebet Dekat Pasar Tebet Barat dan ...   1.600.000   NaN   \n",
       "\n",
       "    address aircon free_wifi kamar_mandi_dalam fasilitas_kamar fasilitas_kost  \n",
       "483     NaN    NaN       NaN               NaN             NaN            NaN  \n",
       "739     NaN    NaN       NaN               NaN             NaN            NaN  \n",
       "740     NaN    NaN       NaN               NaN             NaN            NaN  \n",
       "741     NaN    NaN       NaN               NaN             NaN            NaN  \n",
       "742     NaN    NaN       NaN               NaN             NaN            NaN  "
      ]
     },
     "execution_count": 261,
     "metadata": {},
     "output_type": "execute_result"
    }
   ],
   "source": [
    "# Menampilkan data dengan row NaN\n",
    "df[df.isnull().any(axis=1)].head()"
   ]
  },
  {
   "cell_type": "markdown",
   "metadata": {},
   "source": [
    "Terlihat terdapat 14 data yang memiliki nilai `NaN` pada kolom `jenis`, `address`, `aircon`, `free_wifi`, `kamar_mandi_dalam`, `fasilitas_kamar`, `fasilitas_kost`.\n",
    "\n",
    "Data-data tersebut akan dihapus dari dataset karena tidak berguna sebagai masukan dari model.\n",
    "\n",
    "Kenapa tidak dilakukan imputasi terhadap nilai `NaN` misalnya mengisi kolom fasilitas untuk kos dengan harga yang sama? Dalam kasus ini, model regresi yang dibangun akan menggunakan informasi fasilitas kost dalam penentuan harga, kemudian kost dengan harga yang sama/mendekati dapat memiliki fasilitas yang berbeda-beda, sehingga menyulitkan proses imputasi missing value. Maka dari itu missing value dihapus saja. "
   ]
  },
  {
   "cell_type": "code",
   "execution_count": 262,
   "metadata": {},
   "outputs": [
    {
     "data": {
      "text/plain": [
       "url                  0\n",
       "nama                 0\n",
       "harga                0\n",
       "jenis                0\n",
       "address              0\n",
       "aircon               0\n",
       "free_wifi            0\n",
       "kamar_mandi_dalam    0\n",
       "fasilitas_kamar      0\n",
       "fasilitas_kost       0\n",
       "dtype: int64"
      ]
     },
     "execution_count": 262,
     "metadata": {},
     "output_type": "execute_result"
    }
   ],
   "source": [
    "# Kode untuk drop semua baris dengan nilai NaN\n",
    "df.dropna(inplace=True)\n",
    "\n",
    "# Menampilkan jumlah baris dengan nilai NaN perkolomnya\n",
    "df.isnull().sum()"
   ]
  },
  {
   "cell_type": "markdown",
   "metadata": {},
   "source": [
    "Tidak terdapat lagi nilai `NaN` dalam dataset, sehingga dapat melanjutkan ke proses pengolahan data selanjutnya."
   ]
  },
  {
   "cell_type": "markdown",
   "metadata": {},
   "source": [
    "## Mengubah Format Data"
   ]
  },
  {
   "cell_type": "markdown",
   "metadata": {},
   "source": [
    "### Ekstrak Numerik pada Kolom Harga\n",
    "\n",
    "Kolom `harga` masih dalam format `Rp.[harga]`. Maka dari itu perlu dilakukan ekstraksi nilai numerik terhadap kolom `harga` untuk memudahkan analisis harga."
   ]
  },
  {
   "cell_type": "code",
   "execution_count": 263,
   "metadata": {},
   "outputs": [],
   "source": [
    "# Fungsi untuk mengambil setiap nilai numerik kemudian mengubah ke dalam bentuk integer\n",
    "def find_number(text):\n",
    "    try:\n",
    "        # Regex \\d untuk mengambil setiap nilai numerik\n",
    "        num = \"\".join(re.findall(r'[\\d]+',text))\n",
    "        return int(num)\n",
    "    except:\n",
    "        return 0"
   ]
  },
  {
   "cell_type": "code",
   "execution_count": 264,
   "metadata": {},
   "outputs": [
    {
     "data": {
      "text/html": [
       "<div>\n",
       "<style scoped>\n",
       "    .dataframe tbody tr th:only-of-type {\n",
       "        vertical-align: middle;\n",
       "    }\n",
       "\n",
       "    .dataframe tbody tr th {\n",
       "        vertical-align: top;\n",
       "    }\n",
       "\n",
       "    .dataframe thead th {\n",
       "        text-align: right;\n",
       "    }\n",
       "</style>\n",
       "<table border=\"1\" class=\"dataframe\">\n",
       "  <thead>\n",
       "    <tr style=\"text-align: right;\">\n",
       "      <th></th>\n",
       "      <th>url</th>\n",
       "      <th>nama</th>\n",
       "      <th>harga</th>\n",
       "      <th>jenis</th>\n",
       "      <th>address</th>\n",
       "      <th>aircon</th>\n",
       "      <th>free_wifi</th>\n",
       "      <th>kamar_mandi_dalam</th>\n",
       "      <th>fasilitas_kamar</th>\n",
       "      <th>fasilitas_kost</th>\n",
       "    </tr>\n",
       "  </thead>\n",
       "  <tbody>\n",
       "    <tr>\n",
       "      <th>0</th>\n",
       "      <td>https://www.sewakost.com/jakarta/selatan/kost-...</td>\n",
       "      <td>Kost Ciganjur Jalan Pasir No. 32</td>\n",
       "      <td>1000000</td>\n",
       "      <td>Kost Campur</td>\n",
       "      <td>Jalan Pasir no 32 Kp. Setu Rt 001/006 Keluraha...</td>\n",
       "      <td>Tidak</td>\n",
       "      <td>Tidak</td>\n",
       "      <td>Ya</td>\n",
       "      <td>['Kamar Mandi Dalam']</td>\n",
       "      <td>['Keamanan', 'Parkir Motor']</td>\n",
       "    </tr>\n",
       "    <tr>\n",
       "      <th>1</th>\n",
       "      <td>https://www.sewakost.com/jakarta/selatan/kost-...</td>\n",
       "      <td>KOST EXECUTIVE JAGAKARSA PASO CILANDAK JAKARTA...</td>\n",
       "      <td>2200000</td>\n",
       "      <td>Kost Putra</td>\n",
       "      <td>Jalan Paso no 6A, Jagakarsa, Cilandak, Jakarta...</td>\n",
       "      <td>Ya</td>\n",
       "      <td>Ya</td>\n",
       "      <td>Ya</td>\n",
       "      <td>['Spring Bed', 'Perabot', 'Free WiFi', 'AC', '...</td>\n",
       "      <td>['Ruang Tamu', 'Ruang Makan', 'Dapur', 'Air Mi...</td>\n",
       "    </tr>\n",
       "    <tr>\n",
       "      <th>2</th>\n",
       "      <td>https://www.sewakost.com/jakarta/selatan/kamar...</td>\n",
       "      <td>Kamar kost Putri NON AC di Mampang</td>\n",
       "      <td>850000</td>\n",
       "      <td>Kost Putri</td>\n",
       "      <td>Jl.Mampang Prapatan VI Rt04 Rw02 No.70B</td>\n",
       "      <td>Tidak</td>\n",
       "      <td>Tidak</td>\n",
       "      <td>Tidak</td>\n",
       "      <td>[]</td>\n",
       "      <td>[]</td>\n",
       "    </tr>\n",
       "    <tr>\n",
       "      <th>3</th>\n",
       "      <td>https://www.sewakost.com/jakarta/selatan/hompy...</td>\n",
       "      <td>Hompy Timur Residence</td>\n",
       "      <td>2700000</td>\n",
       "      <td>Kost Putri</td>\n",
       "      <td>Tebet Timur Dalam 7B no. 11</td>\n",
       "      <td>Ya</td>\n",
       "      <td>Ya</td>\n",
       "      <td>Ya</td>\n",
       "      <td>['Spring Bed', 'Perabot', 'Free WiFi', 'AC', '...</td>\n",
       "      <td>['Dapur', 'Cuci Setrika', 'Pembantu', 'Keamana...</td>\n",
       "    </tr>\n",
       "    <tr>\n",
       "      <th>4</th>\n",
       "      <td>https://www.sewakost.com/jakarta/selatan/rumah...</td>\n",
       "      <td>Rumah kontrakan (40m2) Pasutri baru/karyawati/...</td>\n",
       "      <td>2500000</td>\n",
       "      <td>Kost Pasutri</td>\n",
       "      <td>Jalan keselamatan 18 RT10/RW03</td>\n",
       "      <td>Ya</td>\n",
       "      <td>Tidak</td>\n",
       "      <td>Ya</td>\n",
       "      <td>['AC', 'Kamar Mandi Dalam']</td>\n",
       "      <td>['Ruang Tamu', 'Ruang Makan', 'Dapur', 'Keaman...</td>\n",
       "    </tr>\n",
       "  </tbody>\n",
       "</table>\n",
       "</div>"
      ],
      "text/plain": [
       "                                                 url  \\\n",
       "0  https://www.sewakost.com/jakarta/selatan/kost-...   \n",
       "1  https://www.sewakost.com/jakarta/selatan/kost-...   \n",
       "2  https://www.sewakost.com/jakarta/selatan/kamar...   \n",
       "3  https://www.sewakost.com/jakarta/selatan/hompy...   \n",
       "4  https://www.sewakost.com/jakarta/selatan/rumah...   \n",
       "\n",
       "                                                nama    harga         jenis  \\\n",
       "0                   Kost Ciganjur Jalan Pasir No. 32  1000000   Kost Campur   \n",
       "1  KOST EXECUTIVE JAGAKARSA PASO CILANDAK JAKARTA...  2200000    Kost Putra   \n",
       "2                 Kamar kost Putri NON AC di Mampang   850000    Kost Putri   \n",
       "3                              Hompy Timur Residence  2700000    Kost Putri   \n",
       "4  Rumah kontrakan (40m2) Pasutri baru/karyawati/...  2500000  Kost Pasutri   \n",
       "\n",
       "                                             address aircon free_wifi  \\\n",
       "0  Jalan Pasir no 32 Kp. Setu Rt 001/006 Keluraha...  Tidak     Tidak   \n",
       "1  Jalan Paso no 6A, Jagakarsa, Cilandak, Jakarta...     Ya        Ya   \n",
       "2            Jl.Mampang Prapatan VI Rt04 Rw02 No.70B  Tidak     Tidak   \n",
       "3                        Tebet Timur Dalam 7B no. 11     Ya        Ya   \n",
       "4                     Jalan keselamatan 18 RT10/RW03     Ya     Tidak   \n",
       "\n",
       "  kamar_mandi_dalam                                    fasilitas_kamar  \\\n",
       "0                Ya                              ['Kamar Mandi Dalam']   \n",
       "1                Ya  ['Spring Bed', 'Perabot', 'Free WiFi', 'AC', '...   \n",
       "2             Tidak                                                 []   \n",
       "3                Ya  ['Spring Bed', 'Perabot', 'Free WiFi', 'AC', '...   \n",
       "4                Ya                        ['AC', 'Kamar Mandi Dalam']   \n",
       "\n",
       "                                      fasilitas_kost  \n",
       "0                       ['Keamanan', 'Parkir Motor']  \n",
       "1  ['Ruang Tamu', 'Ruang Makan', 'Dapur', 'Air Mi...  \n",
       "2                                                 []  \n",
       "3  ['Dapur', 'Cuci Setrika', 'Pembantu', 'Keamana...  \n",
       "4  ['Ruang Tamu', 'Ruang Makan', 'Dapur', 'Keaman...  "
      ]
     },
     "execution_count": 264,
     "metadata": {},
     "output_type": "execute_result"
    }
   ],
   "source": [
    "# Mengubah seluruh kolom harga menjadi integer\n",
    "df['harga'] = df['harga'].apply(lambda x: find_number(x))\n",
    "\n",
    "df.head()"
   ]
  },
  {
   "cell_type": "markdown",
   "metadata": {},
   "source": [
    "kolom `harga` yang tadinya tipe data `string` (contoh: `Rp 1.000.000`) sekarang telah berubah menjadi tipe data `integer`."
   ]
  },
  {
   "cell_type": "markdown",
   "metadata": {},
   "source": [
    "### Membersihkan Data Outlier\n",
    "\n",
    "\n",
    "\n"
   ]
  },
  {
   "cell_type": "code",
   "execution_count": 265,
   "metadata": {},
   "outputs": [
    {
     "data": {
      "text/html": [
       "<div>\n",
       "<style scoped>\n",
       "    .dataframe tbody tr th:only-of-type {\n",
       "        vertical-align: middle;\n",
       "    }\n",
       "\n",
       "    .dataframe tbody tr th {\n",
       "        vertical-align: top;\n",
       "    }\n",
       "\n",
       "    .dataframe thead th {\n",
       "        text-align: right;\n",
       "    }\n",
       "</style>\n",
       "<table border=\"1\" class=\"dataframe\">\n",
       "  <thead>\n",
       "    <tr style=\"text-align: right;\">\n",
       "      <th></th>\n",
       "      <th>harga</th>\n",
       "    </tr>\n",
       "  </thead>\n",
       "  <tbody>\n",
       "    <tr>\n",
       "      <th>count</th>\n",
       "      <td>9.440000e+02</td>\n",
       "    </tr>\n",
       "    <tr>\n",
       "      <th>mean</th>\n",
       "      <td>3.816841e+09</td>\n",
       "    </tr>\n",
       "    <tr>\n",
       "      <th>std</th>\n",
       "      <td>8.280764e+10</td>\n",
       "    </tr>\n",
       "    <tr>\n",
       "      <th>min</th>\n",
       "      <td>0.000000e+00</td>\n",
       "    </tr>\n",
       "    <tr>\n",
       "      <th>25%</th>\n",
       "      <td>1.000000e+06</td>\n",
       "    </tr>\n",
       "    <tr>\n",
       "      <th>50%</th>\n",
       "      <td>1.650000e+06</td>\n",
       "    </tr>\n",
       "    <tr>\n",
       "      <th>75%</th>\n",
       "      <td>2.350000e+06</td>\n",
       "    </tr>\n",
       "    <tr>\n",
       "      <th>max</th>\n",
       "      <td>1.800000e+12</td>\n",
       "    </tr>\n",
       "  </tbody>\n",
       "</table>\n",
       "</div>"
      ],
      "text/plain": [
       "              harga\n",
       "count  9.440000e+02\n",
       "mean   3.816841e+09\n",
       "std    8.280764e+10\n",
       "min    0.000000e+00\n",
       "25%    1.000000e+06\n",
       "50%    1.650000e+06\n",
       "75%    2.350000e+06\n",
       "max    1.800000e+12"
      ]
     },
     "execution_count": 265,
     "metadata": {},
     "output_type": "execute_result"
    }
   ],
   "source": [
    "df.describe()"
   ]
  },
  {
   "cell_type": "markdown",
   "metadata": {},
   "source": [
    "Terdapat kost-an dengan harga yang sangat murah, termasuk yang 0 rupiah alias gratis (mungkin fasilitasnya selain kamar mandi luar juga harus tidur di luar). Selain kost-an yang sangat murah, tedapat juga kost-an yang sangat mahal hingga seharga 180 juta/bulan.\n",
    "\n",
    "Kost-an seperti ini tidak akan dianalisis sehingga harus dikeluarkan dari dataset. \n",
    "\n",
    "Akan dipertahankan kost-kostan dengan harga di atas 300rb dan di bawah 5 juta. Selain dari pada itu akan dihilangkan dari dataset."
   ]
  },
  {
   "cell_type": "code",
   "execution_count": 266,
   "metadata": {},
   "outputs": [
    {
     "data": {
      "text/plain": [
       "(872, 10)"
      ]
     },
     "execution_count": 266,
     "metadata": {},
     "output_type": "execute_result"
    }
   ],
   "source": [
    "# Drop harga kos di bawah 300rb dan di atas 5 juta\n",
    "df = df[(df['harga']>=300000) & (df['harga']<=5000000)]\n",
    "\n",
    "df.shape"
   ]
  },
  {
   "cell_type": "markdown",
   "metadata": {},
   "source": [
    "### Mengubah ke Format Kategorikal\n",
    "\n",
    "(jelasin kenapa harus diubah)"
   ]
  },
  {
   "cell_type": "code",
   "execution_count": 267,
   "metadata": {},
   "outputs": [
    {
     "data": {
      "text/plain": [
       "array(['Kost Campur', 'Kost Putra', 'Kost Putri', 'Kost Pasutri',\n",
       "       'Kost Keluarga'], dtype=object)"
      ]
     },
     "execution_count": 267,
     "metadata": {},
     "output_type": "execute_result"
    }
   ],
   "source": [
    "df['jenis'].unique()"
   ]
  },
  {
   "cell_type": "code",
   "execution_count": 268,
   "metadata": {},
   "outputs": [
    {
     "data": {
      "text/plain": [
       "url                  object\n",
       "nama                 object\n",
       "harga                 int64\n",
       "jenis                object\n",
       "address              object\n",
       "aircon               object\n",
       "free_wifi            object\n",
       "kamar_mandi_dalam    object\n",
       "fasilitas_kamar      object\n",
       "fasilitas_kost       object\n",
       "dtype: object"
      ]
     },
     "execution_count": 268,
     "metadata": {},
     "output_type": "execute_result"
    }
   ],
   "source": [
    "df.dtypes"
   ]
  },
  {
   "cell_type": "code",
   "execution_count": 269,
   "metadata": {},
   "outputs": [
    {
     "data": {
      "text/plain": [
       "url                    object\n",
       "nama                   object\n",
       "harga                   int64\n",
       "jenis                category\n",
       "address                object\n",
       "aircon               category\n",
       "free_wifi            category\n",
       "kamar_mandi_dalam    category\n",
       "fasilitas_kamar        object\n",
       "fasilitas_kost         object\n",
       "dtype: object"
      ]
     },
     "execution_count": 269,
     "metadata": {},
     "output_type": "execute_result"
    }
   ],
   "source": [
    "# Mengubah jenis kost pasutri -> kost keluarga\n",
    "df['jenis'] = df['jenis'].replace('Kost Pasutri', 'Kost Keluarga')\n",
    "\n",
    "# Mengubah ke dalam bentuk kategorikal\n",
    "categorical = ['jenis', 'aircon', 'free_wifi', 'kamar_mandi_dalam']\n",
    "df[categorical] = df[categorical].astype('category')\n",
    "\n",
    "df.dtypes"
   ]
  },
  {
   "cell_type": "markdown",
   "metadata": {},
   "source": [
    "### Ekstrak `fasilitas_kamar` dan `fasilitas_kost` ke Dalam Kolom Dataframe"
   ]
  },
  {
   "cell_type": "markdown",
   "metadata": {},
   "source": [
    "1. Get unique in `fasilitas_kamar`\n",
    "2. Looping dan ekstrak setiap fasilitas\n",
    "3. Fasilitas dibuat menjadi kolom baru\n",
    "4. Iterasi setiap baris pada dataframe dan cek kolom fasilitas kamar (iterasi lagi per kolom fasilitas yang baru) pakai `is in` maybe. Jika ada maka `Yes` atau `1` di kolom per fasilitas."
   ]
  },
  {
   "cell_type": "markdown",
   "metadata": {},
   "source": [
    "**Fungsi untuk mengekstrak fasilitas**\n",
    "\n",
    "(jelasin bagaimana fungsinya berjalan)"
   ]
  },
  {
   "cell_type": "code",
   "execution_count": 270,
   "metadata": {},
   "outputs": [],
   "source": [
    "def get_fasilitas(data_fasilitas):\n",
    "    fasilitas = []\n",
    "    for n in data_fasilitas:\n",
    "        data = n[1:-1]\n",
    "        if data == \"\":\n",
    "            continue\n",
    "        list_fas = data.replace(\"'\", \"\").split(\", \")\n",
    "        for fas in list_fas:\n",
    "            if fas not in fasilitas:\n",
    "                fasilitas.append(fas)\n",
    "    \n",
    "    return fasilitas"
   ]
  },
  {
   "cell_type": "markdown",
   "metadata": {},
   "source": [
    "(Jelasin apa maksud output ini)"
   ]
  },
  {
   "cell_type": "code",
   "execution_count": 271,
   "metadata": {},
   "outputs": [
    {
     "name": "stdout",
     "output_type": "stream",
     "text": [
      "['Kamar Mandi Dalam', 'Spring Bed', 'Perabot', 'Free WiFi', 'AC', 'TV', 'Pemanas Air (Water Heater)', 'Kulkas']\n",
      "['Keamanan', 'Parkir Motor', 'Ruang Tamu', 'Ruang Makan', 'Dapur', 'Air Minum', 'Pembantu', 'Parkir Mobil', 'Cuci Setrika', 'Mesin Cuci (Cuci Sendiri)', 'Televisi']\n"
     ]
    }
   ],
   "source": [
    "fasilitas_kamar = get_fasilitas(df['fasilitas_kamar'].unique())\n",
    "print(fasilitas_kamar)\n",
    "\n",
    "fasilitas_kost = get_fasilitas(df['fasilitas_kost'].unique())\n",
    "print(fasilitas_kost)"
   ]
  },
  {
   "cell_type": "markdown",
   "metadata": {},
   "source": [
    "(jelasin kenapa didrop)"
   ]
  },
  {
   "cell_type": "code",
   "execution_count": 272,
   "metadata": {},
   "outputs": [
    {
     "name": "stdout",
     "output_type": "stream",
     "text": [
      "['Spring Bed', 'Perabot', 'TV', 'Pemanas Air (Water Heater)', 'Kulkas']\n"
     ]
    }
   ],
   "source": [
    "# Karena sudah ada kolom untuk ini\n",
    "remove_fasilitas = ['Kamar Mandi Dalam', 'AC', 'Free WiFi']\n",
    "\n",
    "for fas in remove_fasilitas:\n",
    "    fasilitas_kamar.remove(fas)\n",
    "\n",
    "print(fasilitas_kamar)"
   ]
  },
  {
   "cell_type": "markdown",
   "metadata": {},
   "source": [
    "(jelasin fungsi ini untuk assign per row)"
   ]
  },
  {
   "cell_type": "code",
   "execution_count": 273,
   "metadata": {},
   "outputs": [],
   "source": [
    "def get_info(fas_kamar, fas):\n",
    "    data = []\n",
    "    for row in fas_kamar:\n",
    "        status = \"Ya\" if fas in row else \"Tidak\"\n",
    "        data.append(status)\n",
    "    return data"
   ]
  },
  {
   "cell_type": "code",
   "execution_count": 274,
   "metadata": {},
   "outputs": [],
   "source": [
    "for fas in fasilitas_kamar:\n",
    "    kolom_baru = fas + \"_fkamar\"\n",
    "    df[kolom_baru] = get_info(df['fasilitas_kamar'], fas)\n",
    "\n",
    "for fas in fasilitas_kost:\n",
    "    kolom_baru = fas + \"_fkost\"\n",
    "    df[kolom_baru] = get_info(df['fasilitas_kost'], fas)"
   ]
  },
  {
   "cell_type": "code",
   "execution_count": 275,
   "metadata": {},
   "outputs": [],
   "source": [
    "df = df.drop(['fasilitas_kamar', 'fasilitas_kost'], axis=1)"
   ]
  },
  {
   "cell_type": "code",
   "execution_count": 276,
   "metadata": {},
   "outputs": [
    {
     "data": {
      "text/html": [
       "<div>\n",
       "<style scoped>\n",
       "    .dataframe tbody tr th:only-of-type {\n",
       "        vertical-align: middle;\n",
       "    }\n",
       "\n",
       "    .dataframe tbody tr th {\n",
       "        vertical-align: top;\n",
       "    }\n",
       "\n",
       "    .dataframe thead th {\n",
       "        text-align: right;\n",
       "    }\n",
       "</style>\n",
       "<table border=\"1\" class=\"dataframe\">\n",
       "  <thead>\n",
       "    <tr style=\"text-align: right;\">\n",
       "      <th></th>\n",
       "      <th>url</th>\n",
       "      <th>nama</th>\n",
       "      <th>harga</th>\n",
       "      <th>jenis</th>\n",
       "      <th>address</th>\n",
       "      <th>aircon</th>\n",
       "      <th>free_wifi</th>\n",
       "      <th>kamar_mandi_dalam</th>\n",
       "      <th>Spring Bed_fkamar</th>\n",
       "      <th>Perabot_fkamar</th>\n",
       "      <th>...</th>\n",
       "      <th>Parkir Motor_fkost</th>\n",
       "      <th>Ruang Tamu_fkost</th>\n",
       "      <th>Ruang Makan_fkost</th>\n",
       "      <th>Dapur_fkost</th>\n",
       "      <th>Air Minum_fkost</th>\n",
       "      <th>Pembantu_fkost</th>\n",
       "      <th>Parkir Mobil_fkost</th>\n",
       "      <th>Cuci Setrika_fkost</th>\n",
       "      <th>Mesin Cuci (Cuci Sendiri)_fkost</th>\n",
       "      <th>Televisi_fkost</th>\n",
       "    </tr>\n",
       "  </thead>\n",
       "  <tbody>\n",
       "    <tr>\n",
       "      <th>0</th>\n",
       "      <td>https://www.sewakost.com/jakarta/selatan/kost-...</td>\n",
       "      <td>Kost Ciganjur Jalan Pasir No. 32</td>\n",
       "      <td>1000000</td>\n",
       "      <td>Kost Campur</td>\n",
       "      <td>Jalan Pasir no 32 Kp. Setu Rt 001/006 Keluraha...</td>\n",
       "      <td>Tidak</td>\n",
       "      <td>Tidak</td>\n",
       "      <td>Ya</td>\n",
       "      <td>Tidak</td>\n",
       "      <td>Tidak</td>\n",
       "      <td>...</td>\n",
       "      <td>Ya</td>\n",
       "      <td>Tidak</td>\n",
       "      <td>Tidak</td>\n",
       "      <td>Tidak</td>\n",
       "      <td>Tidak</td>\n",
       "      <td>Tidak</td>\n",
       "      <td>Tidak</td>\n",
       "      <td>Tidak</td>\n",
       "      <td>Tidak</td>\n",
       "      <td>Tidak</td>\n",
       "    </tr>\n",
       "    <tr>\n",
       "      <th>1</th>\n",
       "      <td>https://www.sewakost.com/jakarta/selatan/kost-...</td>\n",
       "      <td>KOST EXECUTIVE JAGAKARSA PASO CILANDAK JAKARTA...</td>\n",
       "      <td>2200000</td>\n",
       "      <td>Kost Putra</td>\n",
       "      <td>Jalan Paso no 6A, Jagakarsa, Cilandak, Jakarta...</td>\n",
       "      <td>Ya</td>\n",
       "      <td>Ya</td>\n",
       "      <td>Ya</td>\n",
       "      <td>Ya</td>\n",
       "      <td>Ya</td>\n",
       "      <td>...</td>\n",
       "      <td>Ya</td>\n",
       "      <td>Ya</td>\n",
       "      <td>Ya</td>\n",
       "      <td>Ya</td>\n",
       "      <td>Ya</td>\n",
       "      <td>Ya</td>\n",
       "      <td>Ya</td>\n",
       "      <td>Tidak</td>\n",
       "      <td>Tidak</td>\n",
       "      <td>Tidak</td>\n",
       "    </tr>\n",
       "    <tr>\n",
       "      <th>2</th>\n",
       "      <td>https://www.sewakost.com/jakarta/selatan/kamar...</td>\n",
       "      <td>Kamar kost Putri NON AC di Mampang</td>\n",
       "      <td>850000</td>\n",
       "      <td>Kost Putri</td>\n",
       "      <td>Jl.Mampang Prapatan VI Rt04 Rw02 No.70B</td>\n",
       "      <td>Tidak</td>\n",
       "      <td>Tidak</td>\n",
       "      <td>Tidak</td>\n",
       "      <td>Tidak</td>\n",
       "      <td>Tidak</td>\n",
       "      <td>...</td>\n",
       "      <td>Tidak</td>\n",
       "      <td>Tidak</td>\n",
       "      <td>Tidak</td>\n",
       "      <td>Tidak</td>\n",
       "      <td>Tidak</td>\n",
       "      <td>Tidak</td>\n",
       "      <td>Tidak</td>\n",
       "      <td>Tidak</td>\n",
       "      <td>Tidak</td>\n",
       "      <td>Tidak</td>\n",
       "    </tr>\n",
       "    <tr>\n",
       "      <th>3</th>\n",
       "      <td>https://www.sewakost.com/jakarta/selatan/hompy...</td>\n",
       "      <td>Hompy Timur Residence</td>\n",
       "      <td>2700000</td>\n",
       "      <td>Kost Putri</td>\n",
       "      <td>Tebet Timur Dalam 7B no. 11</td>\n",
       "      <td>Ya</td>\n",
       "      <td>Ya</td>\n",
       "      <td>Ya</td>\n",
       "      <td>Ya</td>\n",
       "      <td>Ya</td>\n",
       "      <td>...</td>\n",
       "      <td>Ya</td>\n",
       "      <td>Tidak</td>\n",
       "      <td>Tidak</td>\n",
       "      <td>Ya</td>\n",
       "      <td>Tidak</td>\n",
       "      <td>Ya</td>\n",
       "      <td>Tidak</td>\n",
       "      <td>Ya</td>\n",
       "      <td>Tidak</td>\n",
       "      <td>Tidak</td>\n",
       "    </tr>\n",
       "    <tr>\n",
       "      <th>4</th>\n",
       "      <td>https://www.sewakost.com/jakarta/selatan/rumah...</td>\n",
       "      <td>Rumah kontrakan (40m2) Pasutri baru/karyawati/...</td>\n",
       "      <td>2500000</td>\n",
       "      <td>Kost Keluarga</td>\n",
       "      <td>Jalan keselamatan 18 RT10/RW03</td>\n",
       "      <td>Ya</td>\n",
       "      <td>Tidak</td>\n",
       "      <td>Ya</td>\n",
       "      <td>Tidak</td>\n",
       "      <td>Tidak</td>\n",
       "      <td>...</td>\n",
       "      <td>Ya</td>\n",
       "      <td>Ya</td>\n",
       "      <td>Ya</td>\n",
       "      <td>Ya</td>\n",
       "      <td>Tidak</td>\n",
       "      <td>Tidak</td>\n",
       "      <td>Tidak</td>\n",
       "      <td>Tidak</td>\n",
       "      <td>Tidak</td>\n",
       "      <td>Tidak</td>\n",
       "    </tr>\n",
       "  </tbody>\n",
       "</table>\n",
       "<p>5 rows × 24 columns</p>\n",
       "</div>"
      ],
      "text/plain": [
       "                                                 url  \\\n",
       "0  https://www.sewakost.com/jakarta/selatan/kost-...   \n",
       "1  https://www.sewakost.com/jakarta/selatan/kost-...   \n",
       "2  https://www.sewakost.com/jakarta/selatan/kamar...   \n",
       "3  https://www.sewakost.com/jakarta/selatan/hompy...   \n",
       "4  https://www.sewakost.com/jakarta/selatan/rumah...   \n",
       "\n",
       "                                                nama    harga          jenis  \\\n",
       "0                   Kost Ciganjur Jalan Pasir No. 32  1000000    Kost Campur   \n",
       "1  KOST EXECUTIVE JAGAKARSA PASO CILANDAK JAKARTA...  2200000     Kost Putra   \n",
       "2                 Kamar kost Putri NON AC di Mampang   850000     Kost Putri   \n",
       "3                              Hompy Timur Residence  2700000     Kost Putri   \n",
       "4  Rumah kontrakan (40m2) Pasutri baru/karyawati/...  2500000  Kost Keluarga   \n",
       "\n",
       "                                             address aircon free_wifi  \\\n",
       "0  Jalan Pasir no 32 Kp. Setu Rt 001/006 Keluraha...  Tidak     Tidak   \n",
       "1  Jalan Paso no 6A, Jagakarsa, Cilandak, Jakarta...     Ya        Ya   \n",
       "2            Jl.Mampang Prapatan VI Rt04 Rw02 No.70B  Tidak     Tidak   \n",
       "3                        Tebet Timur Dalam 7B no. 11     Ya        Ya   \n",
       "4                     Jalan keselamatan 18 RT10/RW03     Ya     Tidak   \n",
       "\n",
       "  kamar_mandi_dalam Spring Bed_fkamar Perabot_fkamar  ... Parkir Motor_fkost  \\\n",
       "0                Ya             Tidak          Tidak  ...                 Ya   \n",
       "1                Ya                Ya             Ya  ...                 Ya   \n",
       "2             Tidak             Tidak          Tidak  ...              Tidak   \n",
       "3                Ya                Ya             Ya  ...                 Ya   \n",
       "4                Ya             Tidak          Tidak  ...                 Ya   \n",
       "\n",
       "  Ruang Tamu_fkost Ruang Makan_fkost Dapur_fkost Air Minum_fkost  \\\n",
       "0            Tidak             Tidak       Tidak           Tidak   \n",
       "1               Ya                Ya          Ya              Ya   \n",
       "2            Tidak             Tidak       Tidak           Tidak   \n",
       "3            Tidak             Tidak          Ya           Tidak   \n",
       "4               Ya                Ya          Ya           Tidak   \n",
       "\n",
       "  Pembantu_fkost Parkir Mobil_fkost Cuci Setrika_fkost  \\\n",
       "0          Tidak              Tidak              Tidak   \n",
       "1             Ya                 Ya              Tidak   \n",
       "2          Tidak              Tidak              Tidak   \n",
       "3             Ya              Tidak                 Ya   \n",
       "4          Tidak              Tidak              Tidak   \n",
       "\n",
       "  Mesin Cuci (Cuci Sendiri)_fkost Televisi_fkost  \n",
       "0                           Tidak          Tidak  \n",
       "1                           Tidak          Tidak  \n",
       "2                           Tidak          Tidak  \n",
       "3                           Tidak          Tidak  \n",
       "4                           Tidak          Tidak  \n",
       "\n",
       "[5 rows x 24 columns]"
      ]
     },
     "execution_count": 276,
     "metadata": {},
     "output_type": "execute_result"
    }
   ],
   "source": [
    "df.head()"
   ]
  },
  {
   "cell_type": "code",
   "execution_count": 277,
   "metadata": {},
   "outputs": [
    {
     "data": {
      "text/plain": [
       "(872, 24)"
      ]
     },
     "execution_count": 277,
     "metadata": {},
     "output_type": "execute_result"
    }
   ],
   "source": [
    "df.shape"
   ]
  },
  {
   "cell_type": "markdown",
   "metadata": {},
   "source": [
    "Tambahin penjelasan mengenai keluaran akhir dari data, dan juga manfaat mengapa datanya harus berbentuk ini"
   ]
  },
  {
   "cell_type": "code",
   "execution_count": null,
   "metadata": {},
   "outputs": [],
   "source": [
    "# Menyimpan data\n",
    "df.to_csv('sewakost_clean.tsv', sep=\"\\t\", index = False)"
   ]
  },
  {
   "cell_type": "markdown",
   "metadata": {},
   "source": [
    "# Eksplorasi Data"
   ]
  },
  {
   "cell_type": "code",
   "execution_count": 357,
   "metadata": {},
   "outputs": [],
   "source": [
    "import pandas as pd\n",
    "import numpy as np"
   ]
  },
  {
   "cell_type": "code",
   "execution_count": 358,
   "metadata": {},
   "outputs": [
    {
     "data": {
      "text/html": [
       "<div>\n",
       "<style scoped>\n",
       "    .dataframe tbody tr th:only-of-type {\n",
       "        vertical-align: middle;\n",
       "    }\n",
       "\n",
       "    .dataframe tbody tr th {\n",
       "        vertical-align: top;\n",
       "    }\n",
       "\n",
       "    .dataframe thead th {\n",
       "        text-align: right;\n",
       "    }\n",
       "</style>\n",
       "<table border=\"1\" class=\"dataframe\">\n",
       "  <thead>\n",
       "    <tr style=\"text-align: right;\">\n",
       "      <th></th>\n",
       "      <th>url</th>\n",
       "      <th>nama</th>\n",
       "      <th>harga</th>\n",
       "      <th>jenis</th>\n",
       "      <th>address</th>\n",
       "      <th>aircon</th>\n",
       "      <th>free_wifi</th>\n",
       "      <th>kamar_mandi_dalam</th>\n",
       "      <th>Spring Bed_fkamar</th>\n",
       "      <th>Perabot_fkamar</th>\n",
       "      <th>...</th>\n",
       "      <th>Parkir Motor_fkost</th>\n",
       "      <th>Ruang Tamu_fkost</th>\n",
       "      <th>Ruang Makan_fkost</th>\n",
       "      <th>Dapur_fkost</th>\n",
       "      <th>Air Minum_fkost</th>\n",
       "      <th>Pembantu_fkost</th>\n",
       "      <th>Parkir Mobil_fkost</th>\n",
       "      <th>Cuci Setrika_fkost</th>\n",
       "      <th>Mesin Cuci (Cuci Sendiri)_fkost</th>\n",
       "      <th>Televisi_fkost</th>\n",
       "    </tr>\n",
       "  </thead>\n",
       "  <tbody>\n",
       "    <tr>\n",
       "      <th>0</th>\n",
       "      <td>https://www.sewakost.com/jakarta/selatan/kost-...</td>\n",
       "      <td>Kost Ciganjur Jalan Pasir No. 32</td>\n",
       "      <td>1000000</td>\n",
       "      <td>Kost Campur</td>\n",
       "      <td>Jalan Pasir no 32 Kp. Setu Rt 001/006 Keluraha...</td>\n",
       "      <td>Tidak</td>\n",
       "      <td>Tidak</td>\n",
       "      <td>Ya</td>\n",
       "      <td>Tidak</td>\n",
       "      <td>Tidak</td>\n",
       "      <td>...</td>\n",
       "      <td>Ya</td>\n",
       "      <td>Tidak</td>\n",
       "      <td>Tidak</td>\n",
       "      <td>Tidak</td>\n",
       "      <td>Tidak</td>\n",
       "      <td>Tidak</td>\n",
       "      <td>Tidak</td>\n",
       "      <td>Tidak</td>\n",
       "      <td>Tidak</td>\n",
       "      <td>Tidak</td>\n",
       "    </tr>\n",
       "    <tr>\n",
       "      <th>1</th>\n",
       "      <td>https://www.sewakost.com/jakarta/selatan/kost-...</td>\n",
       "      <td>KOST EXECUTIVE JAGAKARSA PASO CILANDAK JAKARTA...</td>\n",
       "      <td>2200000</td>\n",
       "      <td>Kost Putra</td>\n",
       "      <td>Jalan Paso no 6A, Jagakarsa, Cilandak, Jakarta...</td>\n",
       "      <td>Ya</td>\n",
       "      <td>Ya</td>\n",
       "      <td>Ya</td>\n",
       "      <td>Ya</td>\n",
       "      <td>Ya</td>\n",
       "      <td>...</td>\n",
       "      <td>Ya</td>\n",
       "      <td>Ya</td>\n",
       "      <td>Ya</td>\n",
       "      <td>Ya</td>\n",
       "      <td>Ya</td>\n",
       "      <td>Ya</td>\n",
       "      <td>Ya</td>\n",
       "      <td>Tidak</td>\n",
       "      <td>Tidak</td>\n",
       "      <td>Tidak</td>\n",
       "    </tr>\n",
       "    <tr>\n",
       "      <th>2</th>\n",
       "      <td>https://www.sewakost.com/jakarta/selatan/kamar...</td>\n",
       "      <td>Kamar kost Putri NON AC di Mampang</td>\n",
       "      <td>850000</td>\n",
       "      <td>Kost Putri</td>\n",
       "      <td>Jl.Mampang Prapatan VI Rt04 Rw02 No.70B</td>\n",
       "      <td>Tidak</td>\n",
       "      <td>Tidak</td>\n",
       "      <td>Tidak</td>\n",
       "      <td>Tidak</td>\n",
       "      <td>Tidak</td>\n",
       "      <td>...</td>\n",
       "      <td>Tidak</td>\n",
       "      <td>Tidak</td>\n",
       "      <td>Tidak</td>\n",
       "      <td>Tidak</td>\n",
       "      <td>Tidak</td>\n",
       "      <td>Tidak</td>\n",
       "      <td>Tidak</td>\n",
       "      <td>Tidak</td>\n",
       "      <td>Tidak</td>\n",
       "      <td>Tidak</td>\n",
       "    </tr>\n",
       "    <tr>\n",
       "      <th>3</th>\n",
       "      <td>https://www.sewakost.com/jakarta/selatan/hompy...</td>\n",
       "      <td>Hompy Timur Residence</td>\n",
       "      <td>2700000</td>\n",
       "      <td>Kost Putri</td>\n",
       "      <td>Tebet Timur Dalam 7B no. 11</td>\n",
       "      <td>Ya</td>\n",
       "      <td>Ya</td>\n",
       "      <td>Ya</td>\n",
       "      <td>Ya</td>\n",
       "      <td>Ya</td>\n",
       "      <td>...</td>\n",
       "      <td>Ya</td>\n",
       "      <td>Tidak</td>\n",
       "      <td>Tidak</td>\n",
       "      <td>Ya</td>\n",
       "      <td>Tidak</td>\n",
       "      <td>Ya</td>\n",
       "      <td>Tidak</td>\n",
       "      <td>Ya</td>\n",
       "      <td>Tidak</td>\n",
       "      <td>Tidak</td>\n",
       "    </tr>\n",
       "    <tr>\n",
       "      <th>4</th>\n",
       "      <td>https://www.sewakost.com/jakarta/selatan/rumah...</td>\n",
       "      <td>Rumah kontrakan (40m2) Pasutri baru/karyawati/...</td>\n",
       "      <td>2500000</td>\n",
       "      <td>Kost Keluarga</td>\n",
       "      <td>Jalan keselamatan 18 RT10/RW03</td>\n",
       "      <td>Ya</td>\n",
       "      <td>Tidak</td>\n",
       "      <td>Ya</td>\n",
       "      <td>Tidak</td>\n",
       "      <td>Tidak</td>\n",
       "      <td>...</td>\n",
       "      <td>Ya</td>\n",
       "      <td>Ya</td>\n",
       "      <td>Ya</td>\n",
       "      <td>Ya</td>\n",
       "      <td>Tidak</td>\n",
       "      <td>Tidak</td>\n",
       "      <td>Tidak</td>\n",
       "      <td>Tidak</td>\n",
       "      <td>Tidak</td>\n",
       "      <td>Tidak</td>\n",
       "    </tr>\n",
       "  </tbody>\n",
       "</table>\n",
       "<p>5 rows × 24 columns</p>\n",
       "</div>"
      ],
      "text/plain": [
       "                                                 url  \\\n",
       "0  https://www.sewakost.com/jakarta/selatan/kost-...   \n",
       "1  https://www.sewakost.com/jakarta/selatan/kost-...   \n",
       "2  https://www.sewakost.com/jakarta/selatan/kamar...   \n",
       "3  https://www.sewakost.com/jakarta/selatan/hompy...   \n",
       "4  https://www.sewakost.com/jakarta/selatan/rumah...   \n",
       "\n",
       "                                                nama    harga          jenis  \\\n",
       "0                   Kost Ciganjur Jalan Pasir No. 32  1000000    Kost Campur   \n",
       "1  KOST EXECUTIVE JAGAKARSA PASO CILANDAK JAKARTA...  2200000     Kost Putra   \n",
       "2                 Kamar kost Putri NON AC di Mampang   850000     Kost Putri   \n",
       "3                              Hompy Timur Residence  2700000     Kost Putri   \n",
       "4  Rumah kontrakan (40m2) Pasutri baru/karyawati/...  2500000  Kost Keluarga   \n",
       "\n",
       "                                             address aircon free_wifi  \\\n",
       "0  Jalan Pasir no 32 Kp. Setu Rt 001/006 Keluraha...  Tidak     Tidak   \n",
       "1  Jalan Paso no 6A, Jagakarsa, Cilandak, Jakarta...     Ya        Ya   \n",
       "2            Jl.Mampang Prapatan VI Rt04 Rw02 No.70B  Tidak     Tidak   \n",
       "3                        Tebet Timur Dalam 7B no. 11     Ya        Ya   \n",
       "4                     Jalan keselamatan 18 RT10/RW03     Ya     Tidak   \n",
       "\n",
       "  kamar_mandi_dalam Spring Bed_fkamar Perabot_fkamar  ... Parkir Motor_fkost  \\\n",
       "0                Ya             Tidak          Tidak  ...                 Ya   \n",
       "1                Ya                Ya             Ya  ...                 Ya   \n",
       "2             Tidak             Tidak          Tidak  ...              Tidak   \n",
       "3                Ya                Ya             Ya  ...                 Ya   \n",
       "4                Ya             Tidak          Tidak  ...                 Ya   \n",
       "\n",
       "  Ruang Tamu_fkost Ruang Makan_fkost Dapur_fkost Air Minum_fkost  \\\n",
       "0            Tidak             Tidak       Tidak           Tidak   \n",
       "1               Ya                Ya          Ya              Ya   \n",
       "2            Tidak             Tidak       Tidak           Tidak   \n",
       "3            Tidak             Tidak          Ya           Tidak   \n",
       "4               Ya                Ya          Ya           Tidak   \n",
       "\n",
       "  Pembantu_fkost Parkir Mobil_fkost Cuci Setrika_fkost  \\\n",
       "0          Tidak              Tidak              Tidak   \n",
       "1             Ya                 Ya              Tidak   \n",
       "2          Tidak              Tidak              Tidak   \n",
       "3             Ya              Tidak                 Ya   \n",
       "4          Tidak              Tidak              Tidak   \n",
       "\n",
       "  Mesin Cuci (Cuci Sendiri)_fkost Televisi_fkost  \n",
       "0                           Tidak          Tidak  \n",
       "1                           Tidak          Tidak  \n",
       "2                           Tidak          Tidak  \n",
       "3                           Tidak          Tidak  \n",
       "4                           Tidak          Tidak  \n",
       "\n",
       "[5 rows x 24 columns]"
      ]
     },
     "execution_count": 358,
     "metadata": {},
     "output_type": "execute_result"
    }
   ],
   "source": [
    "kost_clean = pd.read_csv('sewakost_clean.tsv', sep=\"\\t\")\n",
    "\n",
    "kost_clean.head(5)"
   ]
  },
  {
   "cell_type": "code",
   "execution_count": 359,
   "metadata": {},
   "outputs": [
    {
     "data": {
      "text/html": [
       "<div>\n",
       "<style scoped>\n",
       "    .dataframe tbody tr th:only-of-type {\n",
       "        vertical-align: middle;\n",
       "    }\n",
       "\n",
       "    .dataframe tbody tr th {\n",
       "        vertical-align: top;\n",
       "    }\n",
       "\n",
       "    .dataframe thead th {\n",
       "        text-align: right;\n",
       "    }\n",
       "</style>\n",
       "<table border=\"1\" class=\"dataframe\">\n",
       "  <thead>\n",
       "    <tr style=\"text-align: right;\">\n",
       "      <th></th>\n",
       "      <th>aircon</th>\n",
       "      <th>free_wifi</th>\n",
       "      <th>kamar_mandi_dalam</th>\n",
       "      <th>Spring Bed_fkamar</th>\n",
       "      <th>Perabot_fkamar</th>\n",
       "      <th>TV_fkamar</th>\n",
       "      <th>Pemanas Air (Water Heater)_fkamar</th>\n",
       "      <th>Kulkas_fkamar</th>\n",
       "      <th>Keamanan_fkost</th>\n",
       "      <th>Parkir Motor_fkost</th>\n",
       "      <th>Ruang Tamu_fkost</th>\n",
       "      <th>Ruang Makan_fkost</th>\n",
       "      <th>Dapur_fkost</th>\n",
       "      <th>Air Minum_fkost</th>\n",
       "      <th>Pembantu_fkost</th>\n",
       "      <th>Parkir Mobil_fkost</th>\n",
       "      <th>Cuci Setrika_fkost</th>\n",
       "      <th>Mesin Cuci (Cuci Sendiri)_fkost</th>\n",
       "      <th>Televisi_fkost</th>\n",
       "    </tr>\n",
       "  </thead>\n",
       "  <tbody>\n",
       "    <tr>\n",
       "      <th>0</th>\n",
       "      <td>Tidak</td>\n",
       "      <td>Tidak</td>\n",
       "      <td>Ya</td>\n",
       "      <td>Tidak</td>\n",
       "      <td>Tidak</td>\n",
       "      <td>Tidak</td>\n",
       "      <td>Tidak</td>\n",
       "      <td>Tidak</td>\n",
       "      <td>Ya</td>\n",
       "      <td>Ya</td>\n",
       "      <td>Tidak</td>\n",
       "      <td>Tidak</td>\n",
       "      <td>Tidak</td>\n",
       "      <td>Tidak</td>\n",
       "      <td>Tidak</td>\n",
       "      <td>Tidak</td>\n",
       "      <td>Tidak</td>\n",
       "      <td>Tidak</td>\n",
       "      <td>Tidak</td>\n",
       "    </tr>\n",
       "    <tr>\n",
       "      <th>1</th>\n",
       "      <td>Ya</td>\n",
       "      <td>Ya</td>\n",
       "      <td>Ya</td>\n",
       "      <td>Ya</td>\n",
       "      <td>Ya</td>\n",
       "      <td>Ya</td>\n",
       "      <td>Tidak</td>\n",
       "      <td>Tidak</td>\n",
       "      <td>Tidak</td>\n",
       "      <td>Ya</td>\n",
       "      <td>Ya</td>\n",
       "      <td>Ya</td>\n",
       "      <td>Ya</td>\n",
       "      <td>Ya</td>\n",
       "      <td>Ya</td>\n",
       "      <td>Ya</td>\n",
       "      <td>Tidak</td>\n",
       "      <td>Tidak</td>\n",
       "      <td>Tidak</td>\n",
       "    </tr>\n",
       "    <tr>\n",
       "      <th>2</th>\n",
       "      <td>Tidak</td>\n",
       "      <td>Tidak</td>\n",
       "      <td>Tidak</td>\n",
       "      <td>Tidak</td>\n",
       "      <td>Tidak</td>\n",
       "      <td>Tidak</td>\n",
       "      <td>Tidak</td>\n",
       "      <td>Tidak</td>\n",
       "      <td>Tidak</td>\n",
       "      <td>Tidak</td>\n",
       "      <td>Tidak</td>\n",
       "      <td>Tidak</td>\n",
       "      <td>Tidak</td>\n",
       "      <td>Tidak</td>\n",
       "      <td>Tidak</td>\n",
       "      <td>Tidak</td>\n",
       "      <td>Tidak</td>\n",
       "      <td>Tidak</td>\n",
       "      <td>Tidak</td>\n",
       "    </tr>\n",
       "    <tr>\n",
       "      <th>3</th>\n",
       "      <td>Ya</td>\n",
       "      <td>Ya</td>\n",
       "      <td>Ya</td>\n",
       "      <td>Ya</td>\n",
       "      <td>Ya</td>\n",
       "      <td>Tidak</td>\n",
       "      <td>Ya</td>\n",
       "      <td>Tidak</td>\n",
       "      <td>Ya</td>\n",
       "      <td>Ya</td>\n",
       "      <td>Tidak</td>\n",
       "      <td>Tidak</td>\n",
       "      <td>Ya</td>\n",
       "      <td>Tidak</td>\n",
       "      <td>Ya</td>\n",
       "      <td>Tidak</td>\n",
       "      <td>Ya</td>\n",
       "      <td>Tidak</td>\n",
       "      <td>Tidak</td>\n",
       "    </tr>\n",
       "    <tr>\n",
       "      <th>4</th>\n",
       "      <td>Ya</td>\n",
       "      <td>Tidak</td>\n",
       "      <td>Ya</td>\n",
       "      <td>Tidak</td>\n",
       "      <td>Tidak</td>\n",
       "      <td>Tidak</td>\n",
       "      <td>Tidak</td>\n",
       "      <td>Tidak</td>\n",
       "      <td>Ya</td>\n",
       "      <td>Ya</td>\n",
       "      <td>Ya</td>\n",
       "      <td>Ya</td>\n",
       "      <td>Ya</td>\n",
       "      <td>Tidak</td>\n",
       "      <td>Tidak</td>\n",
       "      <td>Tidak</td>\n",
       "      <td>Tidak</td>\n",
       "      <td>Tidak</td>\n",
       "      <td>Tidak</td>\n",
       "    </tr>\n",
       "  </tbody>\n",
       "</table>\n",
       "</div>"
      ],
      "text/plain": [
       "  aircon free_wifi kamar_mandi_dalam Spring Bed_fkamar Perabot_fkamar  \\\n",
       "0  Tidak     Tidak                Ya             Tidak          Tidak   \n",
       "1     Ya        Ya                Ya                Ya             Ya   \n",
       "2  Tidak     Tidak             Tidak             Tidak          Tidak   \n",
       "3     Ya        Ya                Ya                Ya             Ya   \n",
       "4     Ya     Tidak                Ya             Tidak          Tidak   \n",
       "\n",
       "  TV_fkamar Pemanas Air (Water Heater)_fkamar Kulkas_fkamar Keamanan_fkost  \\\n",
       "0     Tidak                             Tidak         Tidak             Ya   \n",
       "1        Ya                             Tidak         Tidak          Tidak   \n",
       "2     Tidak                             Tidak         Tidak          Tidak   \n",
       "3     Tidak                                Ya         Tidak             Ya   \n",
       "4     Tidak                             Tidak         Tidak             Ya   \n",
       "\n",
       "  Parkir Motor_fkost Ruang Tamu_fkost Ruang Makan_fkost Dapur_fkost  \\\n",
       "0                 Ya            Tidak             Tidak       Tidak   \n",
       "1                 Ya               Ya                Ya          Ya   \n",
       "2              Tidak            Tidak             Tidak       Tidak   \n",
       "3                 Ya            Tidak             Tidak          Ya   \n",
       "4                 Ya               Ya                Ya          Ya   \n",
       "\n",
       "  Air Minum_fkost Pembantu_fkost Parkir Mobil_fkost Cuci Setrika_fkost  \\\n",
       "0           Tidak          Tidak              Tidak              Tidak   \n",
       "1              Ya             Ya                 Ya              Tidak   \n",
       "2           Tidak          Tidak              Tidak              Tidak   \n",
       "3           Tidak             Ya              Tidak                 Ya   \n",
       "4           Tidak          Tidak              Tidak              Tidak   \n",
       "\n",
       "  Mesin Cuci (Cuci Sendiri)_fkost Televisi_fkost  \n",
       "0                           Tidak          Tidak  \n",
       "1                           Tidak          Tidak  \n",
       "2                           Tidak          Tidak  \n",
       "3                           Tidak          Tidak  \n",
       "4                           Tidak          Tidak  "
      ]
     },
     "execution_count": 359,
     "metadata": {},
     "output_type": "execute_result"
    }
   ],
   "source": [
    "kost_clean.iloc[:, 5:].head()"
   ]
  },
  {
   "cell_type": "markdown",
   "metadata": {},
   "source": [
    "**Dijelasin kenapa diubah menjadi 1 dan 0**"
   ]
  },
  {
   "cell_type": "code",
   "execution_count": 360,
   "metadata": {},
   "outputs": [],
   "source": [
    "kost_clean.iloc[:, 5:] = np.where(kost_clean.iloc[:, 5:] == 'Ya', 1, 0)"
   ]
  },
  {
   "cell_type": "code",
   "execution_count": 361,
   "metadata": {},
   "outputs": [
    {
     "data": {
      "text/html": [
       "<div>\n",
       "<style scoped>\n",
       "    .dataframe tbody tr th:only-of-type {\n",
       "        vertical-align: middle;\n",
       "    }\n",
       "\n",
       "    .dataframe tbody tr th {\n",
       "        vertical-align: top;\n",
       "    }\n",
       "\n",
       "    .dataframe thead th {\n",
       "        text-align: right;\n",
       "    }\n",
       "</style>\n",
       "<table border=\"1\" class=\"dataframe\">\n",
       "  <thead>\n",
       "    <tr style=\"text-align: right;\">\n",
       "      <th></th>\n",
       "      <th>aircon</th>\n",
       "      <th>free_wifi</th>\n",
       "      <th>kamar_mandi_dalam</th>\n",
       "      <th>Spring Bed_fkamar</th>\n",
       "      <th>Perabot_fkamar</th>\n",
       "      <th>TV_fkamar</th>\n",
       "      <th>Pemanas Air (Water Heater)_fkamar</th>\n",
       "      <th>Kulkas_fkamar</th>\n",
       "      <th>Keamanan_fkost</th>\n",
       "      <th>Parkir Motor_fkost</th>\n",
       "      <th>Ruang Tamu_fkost</th>\n",
       "      <th>Ruang Makan_fkost</th>\n",
       "      <th>Dapur_fkost</th>\n",
       "      <th>Air Minum_fkost</th>\n",
       "      <th>Pembantu_fkost</th>\n",
       "      <th>Parkir Mobil_fkost</th>\n",
       "      <th>Cuci Setrika_fkost</th>\n",
       "      <th>Mesin Cuci (Cuci Sendiri)_fkost</th>\n",
       "      <th>Televisi_fkost</th>\n",
       "    </tr>\n",
       "  </thead>\n",
       "  <tbody>\n",
       "    <tr>\n",
       "      <th>0</th>\n",
       "      <td>0</td>\n",
       "      <td>0</td>\n",
       "      <td>1</td>\n",
       "      <td>0</td>\n",
       "      <td>0</td>\n",
       "      <td>0</td>\n",
       "      <td>0</td>\n",
       "      <td>0</td>\n",
       "      <td>1</td>\n",
       "      <td>1</td>\n",
       "      <td>0</td>\n",
       "      <td>0</td>\n",
       "      <td>0</td>\n",
       "      <td>0</td>\n",
       "      <td>0</td>\n",
       "      <td>0</td>\n",
       "      <td>0</td>\n",
       "      <td>0</td>\n",
       "      <td>0</td>\n",
       "    </tr>\n",
       "    <tr>\n",
       "      <th>1</th>\n",
       "      <td>1</td>\n",
       "      <td>1</td>\n",
       "      <td>1</td>\n",
       "      <td>1</td>\n",
       "      <td>1</td>\n",
       "      <td>1</td>\n",
       "      <td>0</td>\n",
       "      <td>0</td>\n",
       "      <td>0</td>\n",
       "      <td>1</td>\n",
       "      <td>1</td>\n",
       "      <td>1</td>\n",
       "      <td>1</td>\n",
       "      <td>1</td>\n",
       "      <td>1</td>\n",
       "      <td>1</td>\n",
       "      <td>0</td>\n",
       "      <td>0</td>\n",
       "      <td>0</td>\n",
       "    </tr>\n",
       "    <tr>\n",
       "      <th>2</th>\n",
       "      <td>0</td>\n",
       "      <td>0</td>\n",
       "      <td>0</td>\n",
       "      <td>0</td>\n",
       "      <td>0</td>\n",
       "      <td>0</td>\n",
       "      <td>0</td>\n",
       "      <td>0</td>\n",
       "      <td>0</td>\n",
       "      <td>0</td>\n",
       "      <td>0</td>\n",
       "      <td>0</td>\n",
       "      <td>0</td>\n",
       "      <td>0</td>\n",
       "      <td>0</td>\n",
       "      <td>0</td>\n",
       "      <td>0</td>\n",
       "      <td>0</td>\n",
       "      <td>0</td>\n",
       "    </tr>\n",
       "    <tr>\n",
       "      <th>3</th>\n",
       "      <td>1</td>\n",
       "      <td>1</td>\n",
       "      <td>1</td>\n",
       "      <td>1</td>\n",
       "      <td>1</td>\n",
       "      <td>0</td>\n",
       "      <td>1</td>\n",
       "      <td>0</td>\n",
       "      <td>1</td>\n",
       "      <td>1</td>\n",
       "      <td>0</td>\n",
       "      <td>0</td>\n",
       "      <td>1</td>\n",
       "      <td>0</td>\n",
       "      <td>1</td>\n",
       "      <td>0</td>\n",
       "      <td>1</td>\n",
       "      <td>0</td>\n",
       "      <td>0</td>\n",
       "    </tr>\n",
       "    <tr>\n",
       "      <th>4</th>\n",
       "      <td>1</td>\n",
       "      <td>0</td>\n",
       "      <td>1</td>\n",
       "      <td>0</td>\n",
       "      <td>0</td>\n",
       "      <td>0</td>\n",
       "      <td>0</td>\n",
       "      <td>0</td>\n",
       "      <td>1</td>\n",
       "      <td>1</td>\n",
       "      <td>1</td>\n",
       "      <td>1</td>\n",
       "      <td>1</td>\n",
       "      <td>0</td>\n",
       "      <td>0</td>\n",
       "      <td>0</td>\n",
       "      <td>0</td>\n",
       "      <td>0</td>\n",
       "      <td>0</td>\n",
       "    </tr>\n",
       "  </tbody>\n",
       "</table>\n",
       "</div>"
      ],
      "text/plain": [
       "   aircon  free_wifi  kamar_mandi_dalam  Spring Bed_fkamar  Perabot_fkamar  \\\n",
       "0       0          0                  1                  0               0   \n",
       "1       1          1                  1                  1               1   \n",
       "2       0          0                  0                  0               0   \n",
       "3       1          1                  1                  1               1   \n",
       "4       1          0                  1                  0               0   \n",
       "\n",
       "   TV_fkamar  Pemanas Air (Water Heater)_fkamar  Kulkas_fkamar  \\\n",
       "0          0                                  0              0   \n",
       "1          1                                  0              0   \n",
       "2          0                                  0              0   \n",
       "3          0                                  1              0   \n",
       "4          0                                  0              0   \n",
       "\n",
       "   Keamanan_fkost  Parkir Motor_fkost  Ruang Tamu_fkost  Ruang Makan_fkost  \\\n",
       "0               1                   1                 0                  0   \n",
       "1               0                   1                 1                  1   \n",
       "2               0                   0                 0                  0   \n",
       "3               1                   1                 0                  0   \n",
       "4               1                   1                 1                  1   \n",
       "\n",
       "   Dapur_fkost  Air Minum_fkost  Pembantu_fkost  Parkir Mobil_fkost  \\\n",
       "0            0                0               0                   0   \n",
       "1            1                1               1                   1   \n",
       "2            0                0               0                   0   \n",
       "3            1                0               1                   0   \n",
       "4            1                0               0                   0   \n",
       "\n",
       "   Cuci Setrika_fkost  Mesin Cuci (Cuci Sendiri)_fkost  Televisi_fkost  \n",
       "0                   0                                0               0  \n",
       "1                   0                                0               0  \n",
       "2                   0                                0               0  \n",
       "3                   1                                0               0  \n",
       "4                   0                                0               0  "
      ]
     },
     "execution_count": 361,
     "metadata": {},
     "output_type": "execute_result"
    }
   ],
   "source": [
    "kost_clean.iloc[:, 5:].head()"
   ]
  },
  {
   "cell_type": "code",
   "execution_count": 362,
   "metadata": {},
   "outputs": [
    {
     "name": "stdout",
     "output_type": "stream",
     "text": [
      "<class 'pandas.core.frame.DataFrame'>\n",
      "RangeIndex: 872 entries, 0 to 871\n",
      "Data columns (total 24 columns):\n",
      " #   Column                             Non-Null Count  Dtype \n",
      "---  ------                             --------------  ----- \n",
      " 0   url                                872 non-null    object\n",
      " 1   nama                               872 non-null    object\n",
      " 2   harga                              872 non-null    int64 \n",
      " 3   jenis                              872 non-null    object\n",
      " 4   address                            872 non-null    object\n",
      " 5   aircon                             872 non-null    int64 \n",
      " 6   free_wifi                          872 non-null    int64 \n",
      " 7   kamar_mandi_dalam                  872 non-null    int64 \n",
      " 8   Spring Bed_fkamar                  872 non-null    int64 \n",
      " 9   Perabot_fkamar                     872 non-null    int64 \n",
      " 10  TV_fkamar                          872 non-null    int64 \n",
      " 11  Pemanas Air (Water Heater)_fkamar  872 non-null    int64 \n",
      " 12  Kulkas_fkamar                      872 non-null    int64 \n",
      " 13  Keamanan_fkost                     872 non-null    int64 \n",
      " 14  Parkir Motor_fkost                 872 non-null    int64 \n",
      " 15  Ruang Tamu_fkost                   872 non-null    int64 \n",
      " 16  Ruang Makan_fkost                  872 non-null    int64 \n",
      " 17  Dapur_fkost                        872 non-null    int64 \n",
      " 18  Air Minum_fkost                    872 non-null    int64 \n",
      " 19  Pembantu_fkost                     872 non-null    int64 \n",
      " 20  Parkir Mobil_fkost                 872 non-null    int64 \n",
      " 21  Cuci Setrika_fkost                 872 non-null    int64 \n",
      " 22  Mesin Cuci (Cuci Sendiri)_fkost    872 non-null    int64 \n",
      " 23  Televisi_fkost                     872 non-null    int64 \n",
      "dtypes: int64(20), object(4)\n",
      "memory usage: 163.6+ KB\n"
     ]
    }
   ],
   "source": [
    "kost_clean.info()"
   ]
  },
  {
   "cell_type": "code",
   "execution_count": 363,
   "metadata": {},
   "outputs": [
    {
     "data": {
      "text/html": [
       "<div>\n",
       "<style scoped>\n",
       "    .dataframe tbody tr th:only-of-type {\n",
       "        vertical-align: middle;\n",
       "    }\n",
       "\n",
       "    .dataframe tbody tr th {\n",
       "        vertical-align: top;\n",
       "    }\n",
       "\n",
       "    .dataframe thead th {\n",
       "        text-align: right;\n",
       "    }\n",
       "</style>\n",
       "<table border=\"1\" class=\"dataframe\">\n",
       "  <thead>\n",
       "    <tr style=\"text-align: right;\">\n",
       "      <th></th>\n",
       "      <th>harga</th>\n",
       "      <th>aircon</th>\n",
       "      <th>free_wifi</th>\n",
       "      <th>kamar_mandi_dalam</th>\n",
       "      <th>Spring Bed_fkamar</th>\n",
       "      <th>Perabot_fkamar</th>\n",
       "      <th>TV_fkamar</th>\n",
       "      <th>Pemanas Air (Water Heater)_fkamar</th>\n",
       "      <th>Kulkas_fkamar</th>\n",
       "      <th>Keamanan_fkost</th>\n",
       "      <th>Parkir Motor_fkost</th>\n",
       "      <th>Ruang Tamu_fkost</th>\n",
       "      <th>Ruang Makan_fkost</th>\n",
       "      <th>Dapur_fkost</th>\n",
       "      <th>Air Minum_fkost</th>\n",
       "      <th>Pembantu_fkost</th>\n",
       "      <th>Parkir Mobil_fkost</th>\n",
       "      <th>Cuci Setrika_fkost</th>\n",
       "      <th>Mesin Cuci (Cuci Sendiri)_fkost</th>\n",
       "      <th>Televisi_fkost</th>\n",
       "    </tr>\n",
       "  </thead>\n",
       "  <tbody>\n",
       "    <tr>\n",
       "      <th>count</th>\n",
       "      <td>8.720000e+02</td>\n",
       "      <td>872.000000</td>\n",
       "      <td>872.000000</td>\n",
       "      <td>872.000000</td>\n",
       "      <td>872.000000</td>\n",
       "      <td>872.000000</td>\n",
       "      <td>872.000000</td>\n",
       "      <td>872.000000</td>\n",
       "      <td>872.000000</td>\n",
       "      <td>872.000000</td>\n",
       "      <td>872.000000</td>\n",
       "      <td>872.000000</td>\n",
       "      <td>872.000000</td>\n",
       "      <td>872.000000</td>\n",
       "      <td>872.000000</td>\n",
       "      <td>872.000000</td>\n",
       "      <td>872.000000</td>\n",
       "      <td>872.000000</td>\n",
       "      <td>872.000000</td>\n",
       "      <td>872.000000</td>\n",
       "    </tr>\n",
       "    <tr>\n",
       "      <th>mean</th>\n",
       "      <td>1.825345e+06</td>\n",
       "      <td>0.743119</td>\n",
       "      <td>0.737385</td>\n",
       "      <td>0.790138</td>\n",
       "      <td>0.597477</td>\n",
       "      <td>0.447248</td>\n",
       "      <td>0.228211</td>\n",
       "      <td>0.215596</td>\n",
       "      <td>0.144495</td>\n",
       "      <td>0.388761</td>\n",
       "      <td>0.643349</td>\n",
       "      <td>0.395642</td>\n",
       "      <td>0.260321</td>\n",
       "      <td>0.508028</td>\n",
       "      <td>0.290138</td>\n",
       "      <td>0.178899</td>\n",
       "      <td>0.315367</td>\n",
       "      <td>0.147936</td>\n",
       "      <td>0.111239</td>\n",
       "      <td>0.176606</td>\n",
       "    </tr>\n",
       "    <tr>\n",
       "      <th>std</th>\n",
       "      <td>9.535121e+05</td>\n",
       "      <td>0.437164</td>\n",
       "      <td>0.440307</td>\n",
       "      <td>0.407444</td>\n",
       "      <td>0.490688</td>\n",
       "      <td>0.497495</td>\n",
       "      <td>0.419920</td>\n",
       "      <td>0.411471</td>\n",
       "      <td>0.351793</td>\n",
       "      <td>0.487749</td>\n",
       "      <td>0.479286</td>\n",
       "      <td>0.489269</td>\n",
       "      <td>0.439062</td>\n",
       "      <td>0.500222</td>\n",
       "      <td>0.454086</td>\n",
       "      <td>0.383488</td>\n",
       "      <td>0.464929</td>\n",
       "      <td>0.355240</td>\n",
       "      <td>0.314608</td>\n",
       "      <td>0.381553</td>\n",
       "    </tr>\n",
       "    <tr>\n",
       "      <th>min</th>\n",
       "      <td>4.000000e+05</td>\n",
       "      <td>0.000000</td>\n",
       "      <td>0.000000</td>\n",
       "      <td>0.000000</td>\n",
       "      <td>0.000000</td>\n",
       "      <td>0.000000</td>\n",
       "      <td>0.000000</td>\n",
       "      <td>0.000000</td>\n",
       "      <td>0.000000</td>\n",
       "      <td>0.000000</td>\n",
       "      <td>0.000000</td>\n",
       "      <td>0.000000</td>\n",
       "      <td>0.000000</td>\n",
       "      <td>0.000000</td>\n",
       "      <td>0.000000</td>\n",
       "      <td>0.000000</td>\n",
       "      <td>0.000000</td>\n",
       "      <td>0.000000</td>\n",
       "      <td>0.000000</td>\n",
       "      <td>0.000000</td>\n",
       "    </tr>\n",
       "    <tr>\n",
       "      <th>25%</th>\n",
       "      <td>1.000000e+06</td>\n",
       "      <td>0.000000</td>\n",
       "      <td>0.000000</td>\n",
       "      <td>1.000000</td>\n",
       "      <td>0.000000</td>\n",
       "      <td>0.000000</td>\n",
       "      <td>0.000000</td>\n",
       "      <td>0.000000</td>\n",
       "      <td>0.000000</td>\n",
       "      <td>0.000000</td>\n",
       "      <td>0.000000</td>\n",
       "      <td>0.000000</td>\n",
       "      <td>0.000000</td>\n",
       "      <td>0.000000</td>\n",
       "      <td>0.000000</td>\n",
       "      <td>0.000000</td>\n",
       "      <td>0.000000</td>\n",
       "      <td>0.000000</td>\n",
       "      <td>0.000000</td>\n",
       "      <td>0.000000</td>\n",
       "    </tr>\n",
       "    <tr>\n",
       "      <th>50%</th>\n",
       "      <td>1.650000e+06</td>\n",
       "      <td>1.000000</td>\n",
       "      <td>1.000000</td>\n",
       "      <td>1.000000</td>\n",
       "      <td>1.000000</td>\n",
       "      <td>0.000000</td>\n",
       "      <td>0.000000</td>\n",
       "      <td>0.000000</td>\n",
       "      <td>0.000000</td>\n",
       "      <td>0.000000</td>\n",
       "      <td>1.000000</td>\n",
       "      <td>0.000000</td>\n",
       "      <td>0.000000</td>\n",
       "      <td>1.000000</td>\n",
       "      <td>0.000000</td>\n",
       "      <td>0.000000</td>\n",
       "      <td>0.000000</td>\n",
       "      <td>0.000000</td>\n",
       "      <td>0.000000</td>\n",
       "      <td>0.000000</td>\n",
       "    </tr>\n",
       "    <tr>\n",
       "      <th>75%</th>\n",
       "      <td>2.300000e+06</td>\n",
       "      <td>1.000000</td>\n",
       "      <td>1.000000</td>\n",
       "      <td>1.000000</td>\n",
       "      <td>1.000000</td>\n",
       "      <td>1.000000</td>\n",
       "      <td>0.000000</td>\n",
       "      <td>0.000000</td>\n",
       "      <td>0.000000</td>\n",
       "      <td>1.000000</td>\n",
       "      <td>1.000000</td>\n",
       "      <td>1.000000</td>\n",
       "      <td>1.000000</td>\n",
       "      <td>1.000000</td>\n",
       "      <td>1.000000</td>\n",
       "      <td>0.000000</td>\n",
       "      <td>1.000000</td>\n",
       "      <td>0.000000</td>\n",
       "      <td>0.000000</td>\n",
       "      <td>0.000000</td>\n",
       "    </tr>\n",
       "    <tr>\n",
       "      <th>max</th>\n",
       "      <td>5.000000e+06</td>\n",
       "      <td>1.000000</td>\n",
       "      <td>1.000000</td>\n",
       "      <td>1.000000</td>\n",
       "      <td>1.000000</td>\n",
       "      <td>1.000000</td>\n",
       "      <td>1.000000</td>\n",
       "      <td>1.000000</td>\n",
       "      <td>1.000000</td>\n",
       "      <td>1.000000</td>\n",
       "      <td>1.000000</td>\n",
       "      <td>1.000000</td>\n",
       "      <td>1.000000</td>\n",
       "      <td>1.000000</td>\n",
       "      <td>1.000000</td>\n",
       "      <td>1.000000</td>\n",
       "      <td>1.000000</td>\n",
       "      <td>1.000000</td>\n",
       "      <td>1.000000</td>\n",
       "      <td>1.000000</td>\n",
       "    </tr>\n",
       "  </tbody>\n",
       "</table>\n",
       "</div>"
      ],
      "text/plain": [
       "              harga      aircon   free_wifi  kamar_mandi_dalam  \\\n",
       "count  8.720000e+02  872.000000  872.000000         872.000000   \n",
       "mean   1.825345e+06    0.743119    0.737385           0.790138   \n",
       "std    9.535121e+05    0.437164    0.440307           0.407444   \n",
       "min    4.000000e+05    0.000000    0.000000           0.000000   \n",
       "25%    1.000000e+06    0.000000    0.000000           1.000000   \n",
       "50%    1.650000e+06    1.000000    1.000000           1.000000   \n",
       "75%    2.300000e+06    1.000000    1.000000           1.000000   \n",
       "max    5.000000e+06    1.000000    1.000000           1.000000   \n",
       "\n",
       "       Spring Bed_fkamar  Perabot_fkamar   TV_fkamar  \\\n",
       "count         872.000000      872.000000  872.000000   \n",
       "mean            0.597477        0.447248    0.228211   \n",
       "std             0.490688        0.497495    0.419920   \n",
       "min             0.000000        0.000000    0.000000   \n",
       "25%             0.000000        0.000000    0.000000   \n",
       "50%             1.000000        0.000000    0.000000   \n",
       "75%             1.000000        1.000000    0.000000   \n",
       "max             1.000000        1.000000    1.000000   \n",
       "\n",
       "       Pemanas Air (Water Heater)_fkamar  Kulkas_fkamar  Keamanan_fkost  \\\n",
       "count                         872.000000     872.000000      872.000000   \n",
       "mean                            0.215596       0.144495        0.388761   \n",
       "std                             0.411471       0.351793        0.487749   \n",
       "min                             0.000000       0.000000        0.000000   \n",
       "25%                             0.000000       0.000000        0.000000   \n",
       "50%                             0.000000       0.000000        0.000000   \n",
       "75%                             0.000000       0.000000        1.000000   \n",
       "max                             1.000000       1.000000        1.000000   \n",
       "\n",
       "       Parkir Motor_fkost  Ruang Tamu_fkost  Ruang Makan_fkost  Dapur_fkost  \\\n",
       "count          872.000000        872.000000         872.000000   872.000000   \n",
       "mean             0.643349          0.395642           0.260321     0.508028   \n",
       "std              0.479286          0.489269           0.439062     0.500222   \n",
       "min              0.000000          0.000000           0.000000     0.000000   \n",
       "25%              0.000000          0.000000           0.000000     0.000000   \n",
       "50%              1.000000          0.000000           0.000000     1.000000   \n",
       "75%              1.000000          1.000000           1.000000     1.000000   \n",
       "max              1.000000          1.000000           1.000000     1.000000   \n",
       "\n",
       "       Air Minum_fkost  Pembantu_fkost  Parkir Mobil_fkost  \\\n",
       "count       872.000000      872.000000          872.000000   \n",
       "mean          0.290138        0.178899            0.315367   \n",
       "std           0.454086        0.383488            0.464929   \n",
       "min           0.000000        0.000000            0.000000   \n",
       "25%           0.000000        0.000000            0.000000   \n",
       "50%           0.000000        0.000000            0.000000   \n",
       "75%           1.000000        0.000000            1.000000   \n",
       "max           1.000000        1.000000            1.000000   \n",
       "\n",
       "       Cuci Setrika_fkost  Mesin Cuci (Cuci Sendiri)_fkost  Televisi_fkost  \n",
       "count          872.000000                       872.000000      872.000000  \n",
       "mean             0.147936                         0.111239        0.176606  \n",
       "std              0.355240                         0.314608        0.381553  \n",
       "min              0.000000                         0.000000        0.000000  \n",
       "25%              0.000000                         0.000000        0.000000  \n",
       "50%              0.000000                         0.000000        0.000000  \n",
       "75%              0.000000                         0.000000        0.000000  \n",
       "max              1.000000                         1.000000        1.000000  "
      ]
     },
     "execution_count": 363,
     "metadata": {},
     "output_type": "execute_result"
    }
   ],
   "source": [
    "kost_clean.describe()"
   ]
  },
  {
   "cell_type": "code",
   "execution_count": 364,
   "metadata": {},
   "outputs": [],
   "source": [
    "import seaborn as sns\n",
    "import matplotlib.pyplot as plt"
   ]
  },
  {
   "cell_type": "code",
   "execution_count": 365,
   "metadata": {},
   "outputs": [
    {
     "data": {
      "text/plain": [
       "<AxesSubplot:xlabel='harga'>"
      ]
     },
     "execution_count": 365,
     "metadata": {},
     "output_type": "execute_result"
    },
    {
     "data": {
      "image/png": "[encoded data removed]",
      "text/plain": [
       "<Figure size 432x288 with 1 Axes>"
      ]
     },
     "metadata": {
      "needs_background": "light"
     },
     "output_type": "display_data"
    }
   ],
   "source": [
    "sns.boxplot(x=kost_clean['harga'])"
   ]
  },
  {
   "cell_type": "code",
   "execution_count": 366,
   "metadata": {},
   "outputs": [
    {
     "name": "stdout",
     "output_type": "stream",
     "text": [
      "Jumlah kos lengkap dengan harga di bawah -950000 adalah = 0\n",
      "Jumlah kos lengkap dengan harga di atas 4250000 adalah = 26\n"
     ]
    }
   ],
   "source": [
    "Q1 = kost_clean.harga.quantile(0.25)\n",
    "Q3 = kost_clean.harga.quantile(0.75)\n",
    "IQR = Q3-Q1\n",
    "\n",
    "outlier_bawah = kost_clean[kost_clean['harga'] < (Q1 - 1.5 * IQR)]\n",
    "outlier_atas = kost_clean[kost_clean['harga'] > (Q3 + 1.5 * IQR)]\n",
    "\n",
    "print(\"Jumlah kos lengkap dengan harga di bawah %i adalah = %i\" % ((Q1 - 1.5 * IQR), outlier_bawah.shape[0]))\n",
    "print(\"Jumlah kos lengkap dengan harga di atas %i adalah = %i\" % ((Q3 + 1.5 * IQR), outlier_atas.shape[0]))"
   ]
  },
  {
   "cell_type": "code",
   "execution_count": 367,
   "metadata": {},
   "outputs": [
    {
     "data": {
      "text/plain": [
       "<AxesSubplot:xlabel='harga'>"
      ]
     },
     "execution_count": 367,
     "metadata": {},
     "output_type": "execute_result"
    },
    {
     "data": {
      "image/png": "[encoded data removed]",
      "text/plain": [
       "<Figure size 432x288 with 1 Axes>"
      ]
     },
     "metadata": {
      "needs_background": "light"
     },
     "output_type": "display_data"
    }
   ],
   "source": [
    "kost_clean = kost_clean[kost_clean['harga']<=(Q3 + 1.5 * IQR)]\n",
    "\n",
    "sns.boxplot(x=kost_clean['harga'])"
   ]
  },
  {
   "cell_type": "code",
   "execution_count": 368,
   "metadata": {},
   "outputs": [],
   "source": [
    "correlation_matrix = kost_clean.corr().round(2)"
   ]
  },
  {
   "cell_type": "code",
   "execution_count": 369,
   "metadata": {},
   "outputs": [
    {
     "data": {
      "text/plain": [
       "Text(0.5, 1.0, 'Correlation Matrix untuk Fitur Numerik ')"
      ]
     },
     "execution_count": 369,
     "metadata": {},
     "output_type": "execute_result"
    },
    {
     "data": {
      "image/png": "[encoded data removed]",
      "text/plain": [
       "<Figure size 1440x720 with 2 Axes>"
      ]
     },
     "metadata": {
      "needs_background": "light"
     },
     "output_type": "display_data"
    }
   ],
   "source": [
    "plt.figure(figsize=(20, 10))\n",
    "sns.heatmap(data=correlation_matrix, annot=True, cmap='coolwarm', linewidths=0.5)\n",
    "plt.title(\"Matriks Korelasi Terhadap Fitur Numerik\", size=20)"
   ]
  },
  {
   "cell_type": "code",
   "execution_count": 370,
   "metadata": {},
   "outputs": [
    {
     "data": {
      "text/plain": [
       "Text(0.5, 1.0, 'Correlation Matrix untuk Fitur Numerik ')"
      ]
     },
     "execution_count": 370,
     "metadata": {},
     "output_type": "execute_result"
    },
    {
     "data": {
      "image/png": "[encoded data removed]",
      "text/plain": [
       "<Figure size 1080x720 with 2 Axes>"
      ]
     },
     "metadata": {
      "needs_background": "light"
     },
     "output_type": "display_data"
    }
   ],
   "source": [
    "korelasi_harga = correlation_matrix[['harga']]\n",
    "plt.figure(figsize=(15, 10))\n",
    "sns.heatmap(data=korelasi_harga, annot=True, cmap='coolwarm', linewidths=0.5)\n",
    "plt.title(\"Korelasi Fasilitas Terhadap Harga Kost\", size=20)"
   ]
  },
  {
   "cell_type": "code",
   "execution_count": 371,
   "metadata": {},
   "outputs": [
    {
     "data": {
      "text/html": [
       "<div>\n",
       "<style scoped>\n",
       "    .dataframe tbody tr th:only-of-type {\n",
       "        vertical-align: middle;\n",
       "    }\n",
       "\n",
       "    .dataframe tbody tr th {\n",
       "        vertical-align: top;\n",
       "    }\n",
       "\n",
       "    .dataframe thead th {\n",
       "        text-align: right;\n",
       "    }\n",
       "</style>\n",
       "<table border=\"1\" class=\"dataframe\">\n",
       "  <thead>\n",
       "    <tr style=\"text-align: right;\">\n",
       "      <th></th>\n",
       "      <th>harga</th>\n",
       "    </tr>\n",
       "  </thead>\n",
       "  <tbody>\n",
       "    <tr>\n",
       "      <th>harga</th>\n",
       "      <td>1.00</td>\n",
       "    </tr>\n",
       "    <tr>\n",
       "      <th>aircon</th>\n",
       "      <td>0.59</td>\n",
       "    </tr>\n",
       "    <tr>\n",
       "      <th>free_wifi</th>\n",
       "      <td>0.39</td>\n",
       "    </tr>\n",
       "    <tr>\n",
       "      <th>kamar_mandi_dalam</th>\n",
       "      <td>0.44</td>\n",
       "    </tr>\n",
       "    <tr>\n",
       "      <th>TV_fkamar</th>\n",
       "      <td>0.43</td>\n",
       "    </tr>\n",
       "    <tr>\n",
       "      <th>Pemanas Air (Water Heater)_fkamar</th>\n",
       "      <td>0.53</td>\n",
       "    </tr>\n",
       "    <tr>\n",
       "      <th>Keamanan_fkost</th>\n",
       "      <td>0.27</td>\n",
       "    </tr>\n",
       "    <tr>\n",
       "      <th>Ruang Tamu_fkost</th>\n",
       "      <td>0.25</td>\n",
       "    </tr>\n",
       "    <tr>\n",
       "      <th>Ruang Makan_fkost</th>\n",
       "      <td>0.32</td>\n",
       "    </tr>\n",
       "    <tr>\n",
       "      <th>Air Minum_fkost</th>\n",
       "      <td>0.32</td>\n",
       "    </tr>\n",
       "    <tr>\n",
       "      <th>Pembantu_fkost</th>\n",
       "      <td>0.30</td>\n",
       "    </tr>\n",
       "    <tr>\n",
       "      <th>Parkir Mobil_fkost</th>\n",
       "      <td>0.40</td>\n",
       "    </tr>\n",
       "  </tbody>\n",
       "</table>\n",
       "</div>"
      ],
      "text/plain": [
       "                                   harga\n",
       "harga                               1.00\n",
       "aircon                              0.59\n",
       "free_wifi                           0.39\n",
       "kamar_mandi_dalam                   0.44\n",
       "TV_fkamar                           0.43\n",
       "Pemanas Air (Water Heater)_fkamar   0.53\n",
       "Keamanan_fkost                      0.27\n",
       "Ruang Tamu_fkost                    0.25\n",
       "Ruang Makan_fkost                   0.32\n",
       "Air Minum_fkost                     0.32\n",
       "Pembantu_fkost                      0.30\n",
       "Parkir Mobil_fkost                  0.40"
      ]
     },
     "execution_count": 371,
     "metadata": {},
     "output_type": "execute_result"
    }
   ],
   "source": [
    "# Mempertahankan feature dengan korelasi di atas 0.25\n",
    "korelasi_tinggi = korelasi_harga[korelasi_harga['harga'] >= 0.25]\n",
    "\n",
    "korelasi_tinggi"
   ]
  },
  {
   "cell_type": "code",
   "execution_count": 372,
   "metadata": {},
   "outputs": [
    {
     "data": {
      "text/plain": [
       "20"
      ]
     },
     "execution_count": 372,
     "metadata": {},
     "output_type": "execute_result"
    }
   ],
   "source": [
    "len(korelasi_harga.index.to_list())"
   ]
  },
  {
   "cell_type": "code",
   "execution_count": 373,
   "metadata": {},
   "outputs": [
    {
     "data": {
      "text/html": [
       "<div>\n",
       "<style scoped>\n",
       "    .dataframe tbody tr th:only-of-type {\n",
       "        vertical-align: middle;\n",
       "    }\n",
       "\n",
       "    .dataframe tbody tr th {\n",
       "        vertical-align: top;\n",
       "    }\n",
       "\n",
       "    .dataframe thead th {\n",
       "        text-align: right;\n",
       "    }\n",
       "</style>\n",
       "<table border=\"1\" class=\"dataframe\">\n",
       "  <thead>\n",
       "    <tr style=\"text-align: right;\">\n",
       "      <th></th>\n",
       "      <th>harga</th>\n",
       "    </tr>\n",
       "    <tr>\n",
       "      <th>jenis</th>\n",
       "      <th></th>\n",
       "    </tr>\n",
       "  </thead>\n",
       "  <tbody>\n",
       "    <tr>\n",
       "      <th>Kost Campur</th>\n",
       "      <td>1.984307e+06</td>\n",
       "    </tr>\n",
       "    <tr>\n",
       "      <th>Kost Keluarga</th>\n",
       "      <td>2.814286e+06</td>\n",
       "    </tr>\n",
       "    <tr>\n",
       "      <th>Kost Putra</th>\n",
       "      <td>1.212890e+06</td>\n",
       "    </tr>\n",
       "    <tr>\n",
       "      <th>Kost Putri</th>\n",
       "      <td>1.432681e+06</td>\n",
       "    </tr>\n",
       "  </tbody>\n",
       "</table>\n",
       "</div>"
      ],
      "text/plain": [
       "                      harga\n",
       "jenis                      \n",
       "Kost Campur    1.984307e+06\n",
       "Kost Keluarga  2.814286e+06\n",
       "Kost Putra     1.212890e+06\n",
       "Kost Putri     1.432681e+06"
      ]
     },
     "execution_count": 373,
     "metadata": {},
     "output_type": "execute_result"
    }
   ],
   "source": [
    "kost_clean.groupby(kost_clean['jenis'])[['harga']].mean()"
   ]
  },
  {
   "cell_type": "code",
   "execution_count": 374,
   "metadata": {},
   "outputs": [],
   "source": [
    "from sklearn.preprocessing import OneHotEncoder\n",
    "\n",
    "# Mendapatkan nama kolom hasil one hot\n",
    "kolom_oneHot = pd.get_dummies(kost_clean['jenis'], prefix='jenis').columns.to_list()\n",
    "# Melakukan one hot encoding untuk kolom jenis\n",
    "kost_clean = pd.concat([kost_clean, pd.get_dummies(kost_clean['jenis'], prefix='jenis')], axis=1)\n",
    "# Drop kolom jenis (kolom asal untuk one hot)\n",
    "kost_clean.drop(['jenis'], axis=1, inplace=True)"
   ]
  },
  {
   "cell_type": "code",
   "execution_count": 375,
   "metadata": {},
   "outputs": [
    {
     "data": {
      "text/html": [
       "<div>\n",
       "<style scoped>\n",
       "    .dataframe tbody tr th:only-of-type {\n",
       "        vertical-align: middle;\n",
       "    }\n",
       "\n",
       "    .dataframe tbody tr th {\n",
       "        vertical-align: top;\n",
       "    }\n",
       "\n",
       "    .dataframe thead th {\n",
       "        text-align: right;\n",
       "    }\n",
       "</style>\n",
       "<table border=\"1\" class=\"dataframe\">\n",
       "  <thead>\n",
       "    <tr style=\"text-align: right;\">\n",
       "      <th></th>\n",
       "      <th>harga</th>\n",
       "      <th>aircon</th>\n",
       "      <th>free_wifi</th>\n",
       "      <th>kamar_mandi_dalam</th>\n",
       "      <th>TV_fkamar</th>\n",
       "      <th>Pemanas Air (Water Heater)_fkamar</th>\n",
       "      <th>Keamanan_fkost</th>\n",
       "      <th>Ruang Tamu_fkost</th>\n",
       "      <th>Ruang Makan_fkost</th>\n",
       "      <th>Air Minum_fkost</th>\n",
       "      <th>Pembantu_fkost</th>\n",
       "      <th>Parkir Mobil_fkost</th>\n",
       "      <th>jenis_Kost Campur</th>\n",
       "      <th>jenis_Kost Keluarga</th>\n",
       "      <th>jenis_Kost Putra</th>\n",
       "      <th>jenis_Kost Putri</th>\n",
       "    </tr>\n",
       "  </thead>\n",
       "  <tbody>\n",
       "    <tr>\n",
       "      <th>0</th>\n",
       "      <td>1000000</td>\n",
       "      <td>0</td>\n",
       "      <td>0</td>\n",
       "      <td>1</td>\n",
       "      <td>0</td>\n",
       "      <td>0</td>\n",
       "      <td>1</td>\n",
       "      <td>0</td>\n",
       "      <td>0</td>\n",
       "      <td>0</td>\n",
       "      <td>0</td>\n",
       "      <td>0</td>\n",
       "      <td>1</td>\n",
       "      <td>0</td>\n",
       "      <td>0</td>\n",
       "      <td>0</td>\n",
       "    </tr>\n",
       "    <tr>\n",
       "      <th>1</th>\n",
       "      <td>2200000</td>\n",
       "      <td>1</td>\n",
       "      <td>1</td>\n",
       "      <td>1</td>\n",
       "      <td>1</td>\n",
       "      <td>0</td>\n",
       "      <td>0</td>\n",
       "      <td>1</td>\n",
       "      <td>1</td>\n",
       "      <td>1</td>\n",
       "      <td>1</td>\n",
       "      <td>1</td>\n",
       "      <td>0</td>\n",
       "      <td>0</td>\n",
       "      <td>1</td>\n",
       "      <td>0</td>\n",
       "    </tr>\n",
       "    <tr>\n",
       "      <th>2</th>\n",
       "      <td>850000</td>\n",
       "      <td>0</td>\n",
       "      <td>0</td>\n",
       "      <td>0</td>\n",
       "      <td>0</td>\n",
       "      <td>0</td>\n",
       "      <td>0</td>\n",
       "      <td>0</td>\n",
       "      <td>0</td>\n",
       "      <td>0</td>\n",
       "      <td>0</td>\n",
       "      <td>0</td>\n",
       "      <td>0</td>\n",
       "      <td>0</td>\n",
       "      <td>0</td>\n",
       "      <td>1</td>\n",
       "    </tr>\n",
       "    <tr>\n",
       "      <th>3</th>\n",
       "      <td>2700000</td>\n",
       "      <td>1</td>\n",
       "      <td>1</td>\n",
       "      <td>1</td>\n",
       "      <td>0</td>\n",
       "      <td>1</td>\n",
       "      <td>1</td>\n",
       "      <td>0</td>\n",
       "      <td>0</td>\n",
       "      <td>0</td>\n",
       "      <td>1</td>\n",
       "      <td>0</td>\n",
       "      <td>0</td>\n",
       "      <td>0</td>\n",
       "      <td>0</td>\n",
       "      <td>1</td>\n",
       "    </tr>\n",
       "    <tr>\n",
       "      <th>4</th>\n",
       "      <td>2500000</td>\n",
       "      <td>1</td>\n",
       "      <td>0</td>\n",
       "      <td>1</td>\n",
       "      <td>0</td>\n",
       "      <td>0</td>\n",
       "      <td>1</td>\n",
       "      <td>1</td>\n",
       "      <td>1</td>\n",
       "      <td>0</td>\n",
       "      <td>0</td>\n",
       "      <td>0</td>\n",
       "      <td>0</td>\n",
       "      <td>1</td>\n",
       "      <td>0</td>\n",
       "      <td>0</td>\n",
       "    </tr>\n",
       "  </tbody>\n",
       "</table>\n",
       "</div>"
      ],
      "text/plain": [
       "     harga  aircon  free_wifi  kamar_mandi_dalam  TV_fkamar  \\\n",
       "0  1000000       0          0                  1          0   \n",
       "1  2200000       1          1                  1          1   \n",
       "2   850000       0          0                  0          0   \n",
       "3  2700000       1          1                  1          0   \n",
       "4  2500000       1          0                  1          0   \n",
       "\n",
       "   Pemanas Air (Water Heater)_fkamar  Keamanan_fkost  Ruang Tamu_fkost  \\\n",
       "0                                  0               1                 0   \n",
       "1                                  0               0                 1   \n",
       "2                                  0               0                 0   \n",
       "3                                  1               1                 0   \n",
       "4                                  0               1                 1   \n",
       "\n",
       "   Ruang Makan_fkost  Air Minum_fkost  Pembantu_fkost  Parkir Mobil_fkost  \\\n",
       "0                  0                0               0                   0   \n",
       "1                  1                1               1                   1   \n",
       "2                  0                0               0                   0   \n",
       "3                  0                0               1                   0   \n",
       "4                  1                0               0                   0   \n",
       "\n",
       "   jenis_Kost Campur  jenis_Kost Keluarga  jenis_Kost Putra  jenis_Kost Putri  \n",
       "0                  1                    0                 0                 0  \n",
       "1                  0                    0                 1                 0  \n",
       "2                  0                    0                 0                 1  \n",
       "3                  0                    0                 0                 1  \n",
       "4                  0                    1                 0                 0  "
      ]
     },
     "execution_count": 375,
     "metadata": {},
     "output_type": "execute_result"
    }
   ],
   "source": [
    "# Subset kolom yang memiliki korelasi tinggi + kolom hasil dummy jenis kost\n",
    "kost_clean_korelasi = kost_clean[korelasi_tinggi.index.to_list() + kolom_oneHot]\n",
    "\n",
    "kost_clean_korelasi.head()"
   ]
  },
  {
   "cell_type": "code",
   "execution_count": 376,
   "metadata": {},
   "outputs": [
    {
     "data": {
      "text/html": [
       "<div>\n",
       "<style scoped>\n",
       "    .dataframe tbody tr th:only-of-type {\n",
       "        vertical-align: middle;\n",
       "    }\n",
       "\n",
       "    .dataframe tbody tr th {\n",
       "        vertical-align: top;\n",
       "    }\n",
       "\n",
       "    .dataframe thead th {\n",
       "        text-align: right;\n",
       "    }\n",
       "</style>\n",
       "<table border=\"1\" class=\"dataframe\">\n",
       "  <thead>\n",
       "    <tr style=\"text-align: right;\">\n",
       "      <th></th>\n",
       "      <th>harga</th>\n",
       "      <th>aircon</th>\n",
       "      <th>free_wifi</th>\n",
       "      <th>kamar_mandi_dalam</th>\n",
       "      <th>Spring Bed_fkamar</th>\n",
       "      <th>Perabot_fkamar</th>\n",
       "      <th>TV_fkamar</th>\n",
       "      <th>Pemanas Air (Water Heater)_fkamar</th>\n",
       "      <th>Kulkas_fkamar</th>\n",
       "      <th>Keamanan_fkost</th>\n",
       "      <th>...</th>\n",
       "      <th>Air Minum_fkost</th>\n",
       "      <th>Pembantu_fkost</th>\n",
       "      <th>Parkir Mobil_fkost</th>\n",
       "      <th>Cuci Setrika_fkost</th>\n",
       "      <th>Mesin Cuci (Cuci Sendiri)_fkost</th>\n",
       "      <th>Televisi_fkost</th>\n",
       "      <th>jenis_Kost Campur</th>\n",
       "      <th>jenis_Kost Keluarga</th>\n",
       "      <th>jenis_Kost Putra</th>\n",
       "      <th>jenis_Kost Putri</th>\n",
       "    </tr>\n",
       "  </thead>\n",
       "  <tbody>\n",
       "    <tr>\n",
       "      <th>0</th>\n",
       "      <td>1000000</td>\n",
       "      <td>0</td>\n",
       "      <td>0</td>\n",
       "      <td>1</td>\n",
       "      <td>0</td>\n",
       "      <td>0</td>\n",
       "      <td>0</td>\n",
       "      <td>0</td>\n",
       "      <td>0</td>\n",
       "      <td>1</td>\n",
       "      <td>...</td>\n",
       "      <td>0</td>\n",
       "      <td>0</td>\n",
       "      <td>0</td>\n",
       "      <td>0</td>\n",
       "      <td>0</td>\n",
       "      <td>0</td>\n",
       "      <td>1</td>\n",
       "      <td>0</td>\n",
       "      <td>0</td>\n",
       "      <td>0</td>\n",
       "    </tr>\n",
       "    <tr>\n",
       "      <th>1</th>\n",
       "      <td>2200000</td>\n",
       "      <td>1</td>\n",
       "      <td>1</td>\n",
       "      <td>1</td>\n",
       "      <td>1</td>\n",
       "      <td>1</td>\n",
       "      <td>1</td>\n",
       "      <td>0</td>\n",
       "      <td>0</td>\n",
       "      <td>0</td>\n",
       "      <td>...</td>\n",
       "      <td>1</td>\n",
       "      <td>1</td>\n",
       "      <td>1</td>\n",
       "      <td>0</td>\n",
       "      <td>0</td>\n",
       "      <td>0</td>\n",
       "      <td>0</td>\n",
       "      <td>0</td>\n",
       "      <td>1</td>\n",
       "      <td>0</td>\n",
       "    </tr>\n",
       "    <tr>\n",
       "      <th>2</th>\n",
       "      <td>850000</td>\n",
       "      <td>0</td>\n",
       "      <td>0</td>\n",
       "      <td>0</td>\n",
       "      <td>0</td>\n",
       "      <td>0</td>\n",
       "      <td>0</td>\n",
       "      <td>0</td>\n",
       "      <td>0</td>\n",
       "      <td>0</td>\n",
       "      <td>...</td>\n",
       "      <td>0</td>\n",
       "      <td>0</td>\n",
       "      <td>0</td>\n",
       "      <td>0</td>\n",
       "      <td>0</td>\n",
       "      <td>0</td>\n",
       "      <td>0</td>\n",
       "      <td>0</td>\n",
       "      <td>0</td>\n",
       "      <td>1</td>\n",
       "    </tr>\n",
       "    <tr>\n",
       "      <th>3</th>\n",
       "      <td>2700000</td>\n",
       "      <td>1</td>\n",
       "      <td>1</td>\n",
       "      <td>1</td>\n",
       "      <td>1</td>\n",
       "      <td>1</td>\n",
       "      <td>0</td>\n",
       "      <td>1</td>\n",
       "      <td>0</td>\n",
       "      <td>1</td>\n",
       "      <td>...</td>\n",
       "      <td>0</td>\n",
       "      <td>1</td>\n",
       "      <td>0</td>\n",
       "      <td>1</td>\n",
       "      <td>0</td>\n",
       "      <td>0</td>\n",
       "      <td>0</td>\n",
       "      <td>0</td>\n",
       "      <td>0</td>\n",
       "      <td>1</td>\n",
       "    </tr>\n",
       "    <tr>\n",
       "      <th>4</th>\n",
       "      <td>2500000</td>\n",
       "      <td>1</td>\n",
       "      <td>0</td>\n",
       "      <td>1</td>\n",
       "      <td>0</td>\n",
       "      <td>0</td>\n",
       "      <td>0</td>\n",
       "      <td>0</td>\n",
       "      <td>0</td>\n",
       "      <td>1</td>\n",
       "      <td>...</td>\n",
       "      <td>0</td>\n",
       "      <td>0</td>\n",
       "      <td>0</td>\n",
       "      <td>0</td>\n",
       "      <td>0</td>\n",
       "      <td>0</td>\n",
       "      <td>0</td>\n",
       "      <td>1</td>\n",
       "      <td>0</td>\n",
       "      <td>0</td>\n",
       "    </tr>\n",
       "  </tbody>\n",
       "</table>\n",
       "<p>5 rows × 24 columns</p>\n",
       "</div>"
      ],
      "text/plain": [
       "     harga  aircon  free_wifi  kamar_mandi_dalam  Spring Bed_fkamar  \\\n",
       "0  1000000       0          0                  1                  0   \n",
       "1  2200000       1          1                  1                  1   \n",
       "2   850000       0          0                  0                  0   \n",
       "3  2700000       1          1                  1                  1   \n",
       "4  2500000       1          0                  1                  0   \n",
       "\n",
       "   Perabot_fkamar  TV_fkamar  Pemanas Air (Water Heater)_fkamar  \\\n",
       "0               0          0                                  0   \n",
       "1               1          1                                  0   \n",
       "2               0          0                                  0   \n",
       "3               1          0                                  1   \n",
       "4               0          0                                  0   \n",
       "\n",
       "   Kulkas_fkamar  Keamanan_fkost  ...  Air Minum_fkost  Pembantu_fkost  \\\n",
       "0              0               1  ...                0               0   \n",
       "1              0               0  ...                1               1   \n",
       "2              0               0  ...                0               0   \n",
       "3              0               1  ...                0               1   \n",
       "4              0               1  ...                0               0   \n",
       "\n",
       "   Parkir Mobil_fkost  Cuci Setrika_fkost  Mesin Cuci (Cuci Sendiri)_fkost  \\\n",
       "0                   0                   0                                0   \n",
       "1                   1                   0                                0   \n",
       "2                   0                   0                                0   \n",
       "3                   0                   1                                0   \n",
       "4                   0                   0                                0   \n",
       "\n",
       "   Televisi_fkost  jenis_Kost Campur  jenis_Kost Keluarga  jenis_Kost Putra  \\\n",
       "0               0                  1                    0                 0   \n",
       "1               0                  0                    0                 1   \n",
       "2               0                  0                    0                 0   \n",
       "3               0                  0                    0                 0   \n",
       "4               0                  0                    1                 0   \n",
       "\n",
       "   jenis_Kost Putri  \n",
       "0                 0  \n",
       "1                 0  \n",
       "2                 1  \n",
       "3                 1  \n",
       "4                 0  \n",
       "\n",
       "[5 rows x 24 columns]"
      ]
     },
     "execution_count": 376,
     "metadata": {},
     "output_type": "execute_result"
    }
   ],
   "source": [
    "# Subset semua kolom dengan fitur numerik dari korelasi harga + variabel dummy dari jenis kost\n",
    "kost_clean_all = kost_clean[korelasi_harga.index.to_list() + kolom_oneHot]\n",
    "\n",
    "kost_clean_all.head()"
   ]
  },
  {
   "cell_type": "code",
   "execution_count": 377,
   "metadata": {},
   "outputs": [],
   "source": [
    "# Pembagian data latih dan data uji\n",
    "from sklearn.model_selection import train_test_split\n",
    "\n",
    "# # Untuk korelasi tinggi\n",
    "# X = kost_clean_korelasi.drop(['harga'], axis=1)\n",
    "# y = kost_clean_korelasi['harga']\n",
    "\n",
    "# Untuk semua feature\n",
    "X = kost_clean_all.drop(['harga'], axis=1)\n",
    "y = kost_clean_all['harga']\n",
    "\n",
    "X_train, X_test, y_train, y_test = train_test_split(X, y, test_size = 0.2, random_state=42)"
   ]
  },
  {
   "cell_type": "code",
   "execution_count": 378,
   "metadata": {},
   "outputs": [
    {
     "name": "stdout",
     "output_type": "stream",
     "text": [
      "\n",
      "Total Dataset: 846\n",
      "Train Dataset: 676\n",
      "Test Dataset: 170\n",
      "\n"
     ]
    }
   ],
   "source": [
    "print(f\"\"\"\n",
    "Total Dataset: {len(X)}\n",
    "Train Dataset: {len(X_train)}\n",
    "Test Dataset: {len(X_test)}\n",
    "\"\"\")"
   ]
  },
  {
   "cell_type": "code",
   "execution_count": 379,
   "metadata": {},
   "outputs": [],
   "source": [
    "models = pd.DataFrame(\n",
    "    index=['train_mae', 'test_mae'],\n",
    "    columns=['LinearRegression', 'RandomForest', 'Boosting'])"
   ]
  },
  {
   "cell_type": "code",
   "execution_count": 380,
   "metadata": {},
   "outputs": [],
   "source": [
    "from sklearn.linear_model import LinearRegression\n",
    "from sklearn.metrics import r2_score"
   ]
  },
  {
   "cell_type": "code",
   "execution_count": 381,
   "metadata": {},
   "outputs": [],
   "source": [
    "model_lr = LinearRegression().fit(X_train, y_train)"
   ]
  },
  {
   "cell_type": "code",
   "execution_count": 382,
   "metadata": {},
   "outputs": [
    {
     "name": "stdout",
     "output_type": "stream",
     "text": [
      "coefficient of determination: 0.6150895887129206\n"
     ]
    }
   ],
   "source": [
    "r_sq = model_lr.score(X_train, y_train)\n",
    "print('coefficient of determination:', r_sq)"
   ]
  },
  {
   "cell_type": "code",
   "execution_count": 383,
   "metadata": {},
   "outputs": [
    {
     "data": {
      "text/plain": [
       "array([1863575.33487774, 1064930.30859756,  994556.22643506,\n",
       "       2053343.12051065, 1079636.64293962])"
      ]
     },
     "execution_count": 383,
     "metadata": {},
     "output_type": "execute_result"
    }
   ],
   "source": [
    "y_pred_A = model_lr.predict(X_train)\n",
    "\n",
    "y_pred_A[:5]"
   ]
  },
  {
   "cell_type": "code",
   "execution_count": 384,
   "metadata": {},
   "outputs": [
    {
     "name": "stdout",
     "output_type": "stream",
     "text": [
      "r2 score model is 0.6150895887129206\n"
     ]
    }
   ],
   "source": [
    "r2 = r2_score(y_train, y_pred_A)\n",
    "print('r2 score model is', r2)"
   ]
  },
  {
   "cell_type": "code",
   "execution_count": 385,
   "metadata": {},
   "outputs": [],
   "source": [
    "def adjr(r2, n, predictor_length):\n",
    "  return 1-(1-r2)*(n-1)/(n-predictor_length-1)"
   ]
  },
  {
   "cell_type": "code",
   "execution_count": 386,
   "metadata": {},
   "outputs": [
    {
     "name": "stdout",
     "output_type": "stream",
     "text": [
      "adjusted r2 score model_B is 0.603941268873813\n"
     ]
    }
   ],
   "source": [
    "adjr2_B = adjr(r2, len(y_train), 19)\n",
    "print('adjusted r2 score model_B is', adjr2_B)"
   ]
  },
  {
   "cell_type": "code",
   "execution_count": 387,
   "metadata": {},
   "outputs": [
    {
     "data": {
      "text/plain": [
       "1094272.6345881694"
      ]
     },
     "execution_count": 387,
     "metadata": {},
     "output_type": "execute_result"
    }
   ],
   "source": [
    "model_lr.intercept_"
   ]
  },
  {
   "cell_type": "code",
   "execution_count": 388,
   "metadata": {},
   "outputs": [
    {
     "data": {
      "text/plain": [
       "array([ 601224.74504903,  184915.50478592,  263003.95804454,\n",
       "        -35086.78368009,  -59884.2674734 ,  149173.0201001 ,\n",
       "        503512.06231184,  125810.68368206,   38828.61092538,\n",
       "       -366718.33993302,   25379.08244678,  174141.14602248,\n",
       "         29323.39109112,   76321.79151326,  -58406.61534459,\n",
       "        196724.04574819,  129158.47937247,  -99689.18704711,\n",
       "        -82033.31444935,  -90073.72195701,  664713.66290022,\n",
       "       -279841.50758992, -294798.43335329])"
      ]
     },
     "execution_count": 388,
     "metadata": {},
     "output_type": "execute_result"
    }
   ],
   "source": [
    "model_lr.coef_"
   ]
  },
  {
   "cell_type": "code",
   "execution_count": 389,
   "metadata": {},
   "outputs": [
    {
     "data": {
      "text/plain": [
       "array(['aircon', 'free_wifi', 'kamar_mandi_dalam', 'Spring Bed_fkamar',\n",
       "       'Perabot_fkamar', 'TV_fkamar', 'Pemanas Air (Water Heater)_fkamar',\n",
       "       'Kulkas_fkamar', 'Keamanan_fkost', 'Parkir Motor_fkost',\n",
       "       'Ruang Tamu_fkost', 'Ruang Makan_fkost', 'Dapur_fkost',\n",
       "       'Air Minum_fkost', 'Pembantu_fkost', 'Parkir Mobil_fkost',\n",
       "       'Cuci Setrika_fkost', 'Mesin Cuci (Cuci Sendiri)_fkost',\n",
       "       'Televisi_fkost', 'jenis_Kost Campur', 'jenis_Kost Keluarga',\n",
       "       'jenis_Kost Putra', 'jenis_Kost Putri'], dtype=object)"
      ]
     },
     "execution_count": 389,
     "metadata": {},
     "output_type": "execute_result"
    }
   ],
   "source": [
    "model_lr.feature_names_in_"
   ]
  },
  {
   "cell_type": "code",
   "execution_count": 390,
   "metadata": {},
   "outputs": [
    {
     "data": {
      "text/html": [
       "<style>#sk-container-id-9 {color: black;background-color: white;}#sk-container-id-9 pre{padding: 0;}#sk-container-id-9 div.sk-toggleable {background-color: white;}#sk-container-id-9 label.sk-toggleable__label {cursor: pointer;display: block;width: 100%;margin-bottom: 0;padding: 0.3em;box-sizing: border-box;text-align: center;}#sk-container-id-9 label.sk-toggleable__label-arrow:before {content: \"▸\";float: left;margin-right: 0.25em;color: #696969;}#sk-container-id-9 label.sk-toggleable__label-arrow:hover:before {color: black;}#sk-container-id-9 div.sk-estimator:hover label.sk-toggleable__label-arrow:before {color: black;}#sk-container-id-9 div.sk-toggleable__content {max-height: 0;max-width: 0;overflow: hidden;text-align: left;background-color: #f0f8ff;}#sk-container-id-9 div.sk-toggleable__content pre {margin: 0.2em;color: black;border-radius: 0.25em;background-color: #f0f8ff;}#sk-container-id-9 input.sk-toggleable__control:checked~div.sk-toggleable__content {max-height: 200px;max-width: 100%;overflow: auto;}#sk-container-id-9 input.sk-toggleable__control:checked~label.sk-toggleable__label-arrow:before {content: \"▾\";}#sk-container-id-9 div.sk-estimator input.sk-toggleable__control:checked~label.sk-toggleable__label {background-color: #d4ebff;}#sk-container-id-9 div.sk-label input.sk-toggleable__control:checked~label.sk-toggleable__label {background-color: #d4ebff;}#sk-container-id-9 input.sk-hidden--visually {border: 0;clip: rect(1px 1px 1px 1px);clip: rect(1px, 1px, 1px, 1px);height: 1px;margin: -1px;overflow: hidden;padding: 0;position: absolute;width: 1px;}#sk-container-id-9 div.sk-estimator {font-family: monospace;background-color: #f0f8ff;border: 1px dotted black;border-radius: 0.25em;box-sizing: border-box;margin-bottom: 0.5em;}#sk-container-id-9 div.sk-estimator:hover {background-color: #d4ebff;}#sk-container-id-9 div.sk-parallel-item::after {content: \"\";width: 100%;border-bottom: 1px solid gray;flex-grow: 1;}#sk-container-id-9 div.sk-label:hover label.sk-toggleable__label {background-color: #d4ebff;}#sk-container-id-9 div.sk-serial::before {content: \"\";position: absolute;border-left: 1px solid gray;box-sizing: border-box;top: 0;bottom: 0;left: 50%;z-index: 0;}#sk-container-id-9 div.sk-serial {display: flex;flex-direction: column;align-items: center;background-color: white;padding-right: 0.2em;padding-left: 0.2em;position: relative;}#sk-container-id-9 div.sk-item {position: relative;z-index: 1;}#sk-container-id-9 div.sk-parallel {display: flex;align-items: stretch;justify-content: center;background-color: white;position: relative;}#sk-container-id-9 div.sk-item::before, #sk-container-id-9 div.sk-parallel-item::before {content: \"\";position: absolute;border-left: 1px solid gray;box-sizing: border-box;top: 0;bottom: 0;left: 50%;z-index: -1;}#sk-container-id-9 div.sk-parallel-item {display: flex;flex-direction: column;z-index: 1;position: relative;background-color: white;}#sk-container-id-9 div.sk-parallel-item:first-child::after {align-self: flex-end;width: 50%;}#sk-container-id-9 div.sk-parallel-item:last-child::after {align-self: flex-start;width: 50%;}#sk-container-id-9 div.sk-parallel-item:only-child::after {width: 0;}#sk-container-id-9 div.sk-dashed-wrapped {border: 1px dashed gray;margin: 0 0.4em 0.5em 0.4em;box-sizing: border-box;padding-bottom: 0.4em;background-color: white;}#sk-container-id-9 div.sk-label label {font-family: monospace;font-weight: bold;display: inline-block;line-height: 1.2em;}#sk-container-id-9 div.sk-label-container {text-align: center;}#sk-container-id-9 div.sk-container {/* jupyter's `normalize.less` sets `[hidden] { display: none; }` but bootstrap.min.css set `[hidden] { display: none !important; }` so we also need the `!important` here to be able to override the default hidden behavior on the sphinx rendered scikit-learn.org. See: https://github.com/scikit-learn/scikit-learn/issues/21755 */display: inline-block !important;position: relative;}#sk-container-id-9 div.sk-text-repr-fallback {display: none;}</style><div id=\"sk-container-id-9\" class=\"sk-top-container\"><div class=\"sk-text-repr-fallback\"><pre>RandomForestRegressor(max_depth=16, n_estimators=50, n_jobs=-1, random_state=55)</pre><b>In a Jupyter environment, please rerun this cell to show the HTML representation or trust the notebook. <br />On GitHub, the HTML representation is unable to render, please try loading this page with nbviewer.org.</b></div><div class=\"sk-container\" hidden><div class=\"sk-item\"><div class=\"sk-estimator sk-toggleable\"><input class=\"sk-toggleable__control sk-hidden--visually\" id=\"sk-estimator-id-9\" type=\"checkbox\" checked><label for=\"sk-estimator-id-9\" class=\"sk-toggleable__label sk-toggleable__label-arrow\">RandomForestRegressor</label><div class=\"sk-toggleable__content\"><pre>RandomForestRegressor(max_depth=16, n_estimators=50, n_jobs=-1, random_state=55)</pre></div></div></div></div></div>"
      ],
      "text/plain": [
       "RandomForestRegressor(max_depth=16, n_estimators=50, n_jobs=-1, random_state=55)"
      ]
     },
     "execution_count": 390,
     "metadata": {},
     "output_type": "execute_result"
    }
   ],
   "source": [
    "# Impor library yang dibutuhkan\n",
    "from sklearn.ensemble import RandomForestRegressor\n",
    "from sklearn.metrics import mean_absolute_error\n",
    " \n",
    "# buat model prediksi\n",
    "RF = RandomForestRegressor(n_estimators=50, max_depth=16, random_state=55, n_jobs=-1)\n",
    "RF.fit(X_train, y_train)"
   ]
  },
  {
   "cell_type": "code",
   "execution_count": 391,
   "metadata": {},
   "outputs": [
    {
     "data": {
      "text/html": [
       "<style>#sk-container-id-10 {color: black;background-color: white;}#sk-container-id-10 pre{padding: 0;}#sk-container-id-10 div.sk-toggleable {background-color: white;}#sk-container-id-10 label.sk-toggleable__label {cursor: pointer;display: block;width: 100%;margin-bottom: 0;padding: 0.3em;box-sizing: border-box;text-align: center;}#sk-container-id-10 label.sk-toggleable__label-arrow:before {content: \"▸\";float: left;margin-right: 0.25em;color: #696969;}#sk-container-id-10 label.sk-toggleable__label-arrow:hover:before {color: black;}#sk-container-id-10 div.sk-estimator:hover label.sk-toggleable__label-arrow:before {color: black;}#sk-container-id-10 div.sk-toggleable__content {max-height: 0;max-width: 0;overflow: hidden;text-align: left;background-color: #f0f8ff;}#sk-container-id-10 div.sk-toggleable__content pre {margin: 0.2em;color: black;border-radius: 0.25em;background-color: #f0f8ff;}#sk-container-id-10 input.sk-toggleable__control:checked~div.sk-toggleable__content {max-height: 200px;max-width: 100%;overflow: auto;}#sk-container-id-10 input.sk-toggleable__control:checked~label.sk-toggleable__label-arrow:before {content: \"▾\";}#sk-container-id-10 div.sk-estimator input.sk-toggleable__control:checked~label.sk-toggleable__label {background-color: #d4ebff;}#sk-container-id-10 div.sk-label input.sk-toggleable__control:checked~label.sk-toggleable__label {background-color: #d4ebff;}#sk-container-id-10 input.sk-hidden--visually {border: 0;clip: rect(1px 1px 1px 1px);clip: rect(1px, 1px, 1px, 1px);height: 1px;margin: -1px;overflow: hidden;padding: 0;position: absolute;width: 1px;}#sk-container-id-10 div.sk-estimator {font-family: monospace;background-color: #f0f8ff;border: 1px dotted black;border-radius: 0.25em;box-sizing: border-box;margin-bottom: 0.5em;}#sk-container-id-10 div.sk-estimator:hover {background-color: #d4ebff;}#sk-container-id-10 div.sk-parallel-item::after {content: \"\";width: 100%;border-bottom: 1px solid gray;flex-grow: 1;}#sk-container-id-10 div.sk-label:hover label.sk-toggleable__label {background-color: #d4ebff;}#sk-container-id-10 div.sk-serial::before {content: \"\";position: absolute;border-left: 1px solid gray;box-sizing: border-box;top: 0;bottom: 0;left: 50%;z-index: 0;}#sk-container-id-10 div.sk-serial {display: flex;flex-direction: column;align-items: center;background-color: white;padding-right: 0.2em;padding-left: 0.2em;position: relative;}#sk-container-id-10 div.sk-item {position: relative;z-index: 1;}#sk-container-id-10 div.sk-parallel {display: flex;align-items: stretch;justify-content: center;background-color: white;position: relative;}#sk-container-id-10 div.sk-item::before, #sk-container-id-10 div.sk-parallel-item::before {content: \"\";position: absolute;border-left: 1px solid gray;box-sizing: border-box;top: 0;bottom: 0;left: 50%;z-index: -1;}#sk-container-id-10 div.sk-parallel-item {display: flex;flex-direction: column;z-index: 1;position: relative;background-color: white;}#sk-container-id-10 div.sk-parallel-item:first-child::after {align-self: flex-end;width: 50%;}#sk-container-id-10 div.sk-parallel-item:last-child::after {align-self: flex-start;width: 50%;}#sk-container-id-10 div.sk-parallel-item:only-child::after {width: 0;}#sk-container-id-10 div.sk-dashed-wrapped {border: 1px dashed gray;margin: 0 0.4em 0.5em 0.4em;box-sizing: border-box;padding-bottom: 0.4em;background-color: white;}#sk-container-id-10 div.sk-label label {font-family: monospace;font-weight: bold;display: inline-block;line-height: 1.2em;}#sk-container-id-10 div.sk-label-container {text-align: center;}#sk-container-id-10 div.sk-container {/* jupyter's `normalize.less` sets `[hidden] { display: none; }` but bootstrap.min.css set `[hidden] { display: none !important; }` so we also need the `!important` here to be able to override the default hidden behavior on the sphinx rendered scikit-learn.org. See: https://github.com/scikit-learn/scikit-learn/issues/21755 */display: inline-block !important;position: relative;}#sk-container-id-10 div.sk-text-repr-fallback {display: none;}</style><div id=\"sk-container-id-10\" class=\"sk-top-container\"><div class=\"sk-text-repr-fallback\"><pre>AdaBoostRegressor(learning_rate=0.05, random_state=55)</pre><b>In a Jupyter environment, please rerun this cell to show the HTML representation or trust the notebook. <br />On GitHub, the HTML representation is unable to render, please try loading this page with nbviewer.org.</b></div><div class=\"sk-container\" hidden><div class=\"sk-item\"><div class=\"sk-estimator sk-toggleable\"><input class=\"sk-toggleable__control sk-hidden--visually\" id=\"sk-estimator-id-10\" type=\"checkbox\" checked><label for=\"sk-estimator-id-10\" class=\"sk-toggleable__label sk-toggleable__label-arrow\">AdaBoostRegressor</label><div class=\"sk-toggleable__content\"><pre>AdaBoostRegressor(learning_rate=0.05, random_state=55)</pre></div></div></div></div></div>"
      ],
      "text/plain": [
       "AdaBoostRegressor(learning_rate=0.05, random_state=55)"
      ]
     },
     "execution_count": 391,
     "metadata": {},
     "output_type": "execute_result"
    }
   ],
   "source": [
    "from sklearn.ensemble import AdaBoostRegressor\n",
    " \n",
    "boosting = AdaBoostRegressor(learning_rate=0.05, random_state=55)                             \n",
    "boosting.fit(X_train, y_train)"
   ]
  },
  {
   "cell_type": "code",
   "execution_count": null,
   "metadata": {},
   "outputs": [
    {
     "data": {
      "text/html": [
       "<div>\n",
       "<style scoped>\n",
       "    .dataframe tbody tr th:only-of-type {\n",
       "        vertical-align: middle;\n",
       "    }\n",
       "\n",
       "    .dataframe tbody tr th {\n",
       "        vertical-align: top;\n",
       "    }\n",
       "\n",
       "    .dataframe thead th {\n",
       "        text-align: right;\n",
       "    }\n",
       "</style>\n",
       "<table border=\"1\" class=\"dataframe\">\n",
       "  <thead>\n",
       "    <tr style=\"text-align: right;\">\n",
       "      <th></th>\n",
       "      <th>train</th>\n",
       "      <th>test</th>\n",
       "    </tr>\n",
       "  </thead>\n",
       "  <tbody>\n",
       "    <tr>\n",
       "      <th>LinearRegression</th>\n",
       "      <td>391944</td>\n",
       "      <td>407190</td>\n",
       "    </tr>\n",
       "    <tr>\n",
       "      <th>RF</th>\n",
       "      <td>276808</td>\n",
       "      <td>387017</td>\n",
       "    </tr>\n",
       "    <tr>\n",
       "      <th>Boosting</th>\n",
       "      <td>411140</td>\n",
       "      <td>432150</td>\n",
       "    </tr>\n",
       "  </tbody>\n",
       "</table>\n",
       "</div>"
      ],
      "text/plain": [
       "                   train    test\n",
       "LinearRegression  391944  407190\n",
       "RF                276808  387017\n",
       "Boosting          411140  432150"
      ]
     },
     "metadata": {},
     "output_type": "display_data"
    }
   ],
   "source": [
    "# Buat variabel mse yang isinya adalah dataframe nilai mse data train dan test pada masing-masing algoritma\n",
    "mae = pd.DataFrame(columns=['train', 'test'], index=['LinearRegression','RF','Boosting'])\n",
    " \n",
    "# Buat dictionary untuk setiap algoritma yang digunakan\n",
    "model_dict = {'LinearRegression': model_lr, 'RF': RF, 'Boosting': boosting}\n",
    " \n",
    "# Hitung Mean Squared Error masing-masing algoritma pada data train dan test\n",
    "for name, model in model_dict.items():\n",
    "    mae.loc[name, 'train'] = round(mean_absolute_error(y_true=y_train, y_pred=model.predict(X_train)))\n",
    "    mae.loc[name, 'test'] = round(mean_absolute_error(y_true=y_test, y_pred=model.predict(X_test)))\n",
    "\n",
    "# Panggil mae\n",
    "mae"
   ]
  },
  {
   "cell_type": "code",
   "execution_count": 392,
   "metadata": {},
   "outputs": [
    {
     "data": {
      "text/html": [
       "<div>\n",
       "<style scoped>\n",
       "    .dataframe tbody tr th:only-of-type {\n",
       "        vertical-align: middle;\n",
       "    }\n",
       "\n",
       "    .dataframe tbody tr th {\n",
       "        vertical-align: top;\n",
       "    }\n",
       "\n",
       "    .dataframe thead th {\n",
       "        text-align: right;\n",
       "    }\n",
       "</style>\n",
       "<table border=\"1\" class=\"dataframe\">\n",
       "  <thead>\n",
       "    <tr style=\"text-align: right;\">\n",
       "      <th></th>\n",
       "      <th>train</th>\n",
       "      <th>test</th>\n",
       "    </tr>\n",
       "  </thead>\n",
       "  <tbody>\n",
       "    <tr>\n",
       "      <th>LinearRegression</th>\n",
       "      <td>386210</td>\n",
       "      <td>397308</td>\n",
       "    </tr>\n",
       "    <tr>\n",
       "      <th>RF</th>\n",
       "      <td>217547</td>\n",
       "      <td>428436</td>\n",
       "    </tr>\n",
       "    <tr>\n",
       "      <th>Boosting</th>\n",
       "      <td>402309</td>\n",
       "      <td>427249</td>\n",
       "    </tr>\n",
       "  </tbody>\n",
       "</table>\n",
       "</div>"
      ],
      "text/plain": [
       "                   train    test\n",
       "LinearRegression  386210  397308\n",
       "RF                217547  428436\n",
       "Boosting          402309  427249"
      ]
     },
     "execution_count": 392,
     "metadata": {},
     "output_type": "execute_result"
    }
   ],
   "source": [
    "# Buat variabel mse yang isinya adalah dataframe nilai mse data train dan test pada masing-masing algoritma\n",
    "mae = pd.DataFrame(columns=['train', 'test'], index=['LinearRegression','RF','Boosting'])\n",
    " \n",
    "# Buat dictionary untuk setiap algoritma yang digunakan\n",
    "model_dict = {'LinearRegression': model_lr, 'RF': RF, 'Boosting': boosting}\n",
    " \n",
    "# Hitung Mean Squared Error masing-masing algoritma pada data train dan test\n",
    "for name, model in model_dict.items():\n",
    "    mae.loc[name, 'train'] = round(mean_absolute_error(y_true=y_train, y_pred=model.predict(X_train)))\n",
    "    mae.loc[name, 'test'] = round(mean_absolute_error(y_true=y_test, y_pred=model.predict(X_test)))\n",
    "\n",
    "# Panggil mae\n",
    "mae"
   ]
  },
  {
   "cell_type": "code",
   "execution_count": 393,
   "metadata": {},
   "outputs": [
    {
     "data": {
      "image/png": "[encoded data removed]",
      "text/plain": [
       "<Figure size 432x288 with 1 Axes>"
      ]
     },
     "metadata": {
      "needs_background": "light"
     },
     "output_type": "display_data"
    }
   ],
   "source": [
    "fig, ax = plt.subplots()\n",
    "mae.sort_values(by='test', ascending=False).plot(kind='barh', ax=ax, zorder=3)\n",
    "ax.grid(zorder=0)"
   ]
  },
  {
   "cell_type": "code",
   "execution_count": 394,
   "metadata": {},
   "outputs": [
    {
     "data": {
      "text/plain": [
       "<AxesSubplot:xlabel='harga'>"
      ]
     },
     "execution_count": 394,
     "metadata": {},
     "output_type": "execute_result"
    },
    {
     "data": {
      "image/png": "[encoded data removed]",
      "text/plain": [
       "<Figure size 432x288 with 1 Axes>"
      ]
     },
     "metadata": {
      "needs_background": "light"
     },
     "output_type": "display_data"
    }
   ],
   "source": [
    "sns.boxplot(x=y_train)"
   ]
  },
  {
   "cell_type": "code",
   "execution_count": 395,
   "metadata": {},
   "outputs": [
    {
     "data": {
      "text/plain": [
       "<AxesSubplot:>"
      ]
     },
     "execution_count": 395,
     "metadata": {},
     "output_type": "execute_result"
    },
    {
     "data": {
      "image/png": "[encoded data removed]",
      "text/plain": [
       "<Figure size 432x288 with 1 Axes>"
      ]
     },
     "metadata": {
      "needs_background": "light"
     },
     "output_type": "display_data"
    }
   ],
   "source": [
    "sns.boxplot(x=model_lr.predict(X_train))"
   ]
  },
  {
   "cell_type": "code",
   "execution_count": 396,
   "metadata": {},
   "outputs": [
    {
     "data": {
      "text/plain": [
       "<AxesSubplot:>"
      ]
     },
     "execution_count": 396,
     "metadata": {},
     "output_type": "execute_result"
    },
    {
     "data": {
      "image/png": "[encoded data removed]",
      "text/plain": [
       "<Figure size 432x288 with 1 Axes>"
      ]
     },
     "metadata": {
      "needs_background": "light"
     },
     "output_type": "display_data"
    }
   ],
   "source": [
    "sns.boxplot(x=RF.predict(X_train))"
   ]
  },
  {
   "cell_type": "code",
   "execution_count": 397,
   "metadata": {},
   "outputs": [
    {
     "data": {
      "text/plain": [
       "<AxesSubplot:>"
      ]
     },
     "execution_count": 397,
     "metadata": {},
     "output_type": "execute_result"
    },
    {
     "data": {
      "image/png": "[encoded data removed]",
      "text/plain": [
       "<Figure size 432x288 with 1 Axes>"
      ]
     },
     "metadata": {
      "needs_background": "light"
     },
     "output_type": "display_data"
    }
   ],
   "source": [
    "sns.boxplot(x=boosting.predict(X_train))"
   ]
  },
  {
   "cell_type": "code",
   "execution_count": 398,
   "metadata": {},
   "outputs": [
    {
     "data": {
      "text/plain": [
       "['__abstractmethods__',\n",
       " '__annotations__',\n",
       " '__class__',\n",
       " '__delattr__',\n",
       " '__dict__',\n",
       " '__dir__',\n",
       " '__doc__',\n",
       " '__eq__',\n",
       " '__format__',\n",
       " '__ge__',\n",
       " '__getattribute__',\n",
       " '__getitem__',\n",
       " '__getstate__',\n",
       " '__gt__',\n",
       " '__hash__',\n",
       " '__init__',\n",
       " '__init_subclass__',\n",
       " '__iter__',\n",
       " '__le__',\n",
       " '__len__',\n",
       " '__lt__',\n",
       " '__module__',\n",
       " '__ne__',\n",
       " '__new__',\n",
       " '__reduce__',\n",
       " '__reduce_ex__',\n",
       " '__repr__',\n",
       " '__setattr__',\n",
       " '__setstate__',\n",
       " '__sizeof__',\n",
       " '__str__',\n",
       " '__subclasshook__',\n",
       " '__weakref__',\n",
       " '_abc_impl',\n",
       " '_boost',\n",
       " '_check_X',\n",
       " '_check_feature_names',\n",
       " '_check_n_features',\n",
       " '_estimator_type',\n",
       " '_get_median_predict',\n",
       " '_get_param_names',\n",
       " '_get_tags',\n",
       " '_make_estimator',\n",
       " '_more_tags',\n",
       " '_repr_html_',\n",
       " '_repr_html_inner',\n",
       " '_repr_mimebundle_',\n",
       " '_required_parameters',\n",
       " '_validate_data',\n",
       " '_validate_estimator',\n",
       " 'base_estimator',\n",
       " 'base_estimator_',\n",
       " 'estimator_errors_',\n",
       " 'estimator_params',\n",
       " 'estimator_weights_',\n",
       " 'estimators_',\n",
       " 'feature_importances_',\n",
       " 'feature_names_in_',\n",
       " 'fit',\n",
       " 'get_params',\n",
       " 'learning_rate',\n",
       " 'loss',\n",
       " 'n_estimators',\n",
       " 'n_features_in_',\n",
       " 'predict',\n",
       " 'random_state',\n",
       " 'score',\n",
       " 'set_params',\n",
       " 'staged_predict',\n",
       " 'staged_score']"
      ]
     },
     "execution_count": 398,
     "metadata": {},
     "output_type": "execute_result"
    }
   ],
   "source": [
    "dir(boosting)"
   ]
  },
  {
   "cell_type": "code",
   "execution_count": 399,
   "metadata": {},
   "outputs": [
    {
     "data": {
      "text/plain": [
       "['__abstractmethods__',\n",
       " '__annotations__',\n",
       " '__class__',\n",
       " '__delattr__',\n",
       " '__dict__',\n",
       " '__dir__',\n",
       " '__doc__',\n",
       " '__eq__',\n",
       " '__format__',\n",
       " '__ge__',\n",
       " '__getattribute__',\n",
       " '__getitem__',\n",
       " '__getstate__',\n",
       " '__gt__',\n",
       " '__hash__',\n",
       " '__init__',\n",
       " '__init_subclass__',\n",
       " '__iter__',\n",
       " '__le__',\n",
       " '__len__',\n",
       " '__lt__',\n",
       " '__module__',\n",
       " '__ne__',\n",
       " '__new__',\n",
       " '__reduce__',\n",
       " '__reduce_ex__',\n",
       " '__repr__',\n",
       " '__setattr__',\n",
       " '__setstate__',\n",
       " '__sizeof__',\n",
       " '__str__',\n",
       " '__subclasshook__',\n",
       " '__weakref__',\n",
       " '_abc_impl',\n",
       " '_check_feature_names',\n",
       " '_check_n_features',\n",
       " '_compute_oob_predictions',\n",
       " '_compute_partial_dependence_recursion',\n",
       " '_estimator_type',\n",
       " '_get_oob_predictions',\n",
       " '_get_param_names',\n",
       " '_get_tags',\n",
       " '_make_estimator',\n",
       " '_more_tags',\n",
       " '_repr_html_',\n",
       " '_repr_html_inner',\n",
       " '_repr_mimebundle_',\n",
       " '_required_parameters',\n",
       " '_set_oob_score_and_attributes',\n",
       " '_validate_X_predict',\n",
       " '_validate_data',\n",
       " '_validate_estimator',\n",
       " '_validate_y_class_weight',\n",
       " 'apply',\n",
       " 'base_estimator',\n",
       " 'base_estimator_',\n",
       " 'bootstrap',\n",
       " 'ccp_alpha',\n",
       " 'class_weight',\n",
       " 'criterion',\n",
       " 'decision_path',\n",
       " 'estimator_params',\n",
       " 'estimators_',\n",
       " 'feature_importances_',\n",
       " 'feature_names_in_',\n",
       " 'fit',\n",
       " 'get_params',\n",
       " 'max_depth',\n",
       " 'max_features',\n",
       " 'max_leaf_nodes',\n",
       " 'max_samples',\n",
       " 'min_impurity_decrease',\n",
       " 'min_samples_leaf',\n",
       " 'min_samples_split',\n",
       " 'min_weight_fraction_leaf',\n",
       " 'n_estimators',\n",
       " 'n_features_',\n",
       " 'n_features_in_',\n",
       " 'n_jobs',\n",
       " 'n_outputs_',\n",
       " 'oob_score',\n",
       " 'predict',\n",
       " 'random_state',\n",
       " 'score',\n",
       " 'set_params',\n",
       " 'verbose',\n",
       " 'warm_start']"
      ]
     },
     "execution_count": 399,
     "metadata": {},
     "output_type": "execute_result"
    }
   ],
   "source": [
    "dir(RF)"
   ]
  },
  {
   "cell_type": "code",
   "execution_count": 400,
   "metadata": {},
   "outputs": [
    {
     "data": {
      "text/plain": [
       "array([5.93881323e-01, 1.49397813e-02, 1.58522454e-02, 1.48211852e-02,\n",
       "       0.00000000e+00, 1.44912302e-02, 2.02134789e-01, 4.71052078e-03,\n",
       "       1.20433216e-03, 3.20065176e-02, 0.00000000e+00, 9.41945427e-04,\n",
       "       5.14149731e-04, 8.91995392e-05, 0.00000000e+00, 6.91878133e-03,\n",
       "       0.00000000e+00, 0.00000000e+00, 0.00000000e+00, 1.33886375e-02,\n",
       "       5.84173392e-02, 1.32919034e-02, 1.23961194e-02])"
      ]
     },
     "execution_count": 400,
     "metadata": {},
     "output_type": "execute_result"
    }
   ],
   "source": [
    "boosting.feature_importances_"
   ]
  },
  {
   "cell_type": "code",
   "execution_count": 401,
   "metadata": {},
   "outputs": [
    {
     "data": {
      "text/plain": [
       "array(['aircon', 'free_wifi', 'kamar_mandi_dalam', 'Spring Bed_fkamar',\n",
       "       'Perabot_fkamar', 'TV_fkamar', 'Pemanas Air (Water Heater)_fkamar',\n",
       "       'Kulkas_fkamar', 'Keamanan_fkost', 'Parkir Motor_fkost',\n",
       "       'Ruang Tamu_fkost', 'Ruang Makan_fkost', 'Dapur_fkost',\n",
       "       'Air Minum_fkost', 'Pembantu_fkost', 'Parkir Mobil_fkost',\n",
       "       'Cuci Setrika_fkost', 'Mesin Cuci (Cuci Sendiri)_fkost',\n",
       "       'Televisi_fkost', 'jenis_Kost Campur', 'jenis_Kost Keluarga',\n",
       "       'jenis_Kost Putra', 'jenis_Kost Putri'], dtype=object)"
      ]
     },
     "execution_count": 401,
     "metadata": {},
     "output_type": "execute_result"
    }
   ],
   "source": [
    "boosting.feature_names_in_"
   ]
  },
  {
   "cell_type": "code",
   "execution_count": 402,
   "metadata": {},
   "outputs": [
    {
     "data": {
      "text/plain": [
       "array([0.4054059 , 0.03112724, 0.01703417, 0.02321675, 0.01866791,\n",
       "       0.02572502, 0.15400439, 0.01824487, 0.01495716, 0.03147885,\n",
       "       0.02274523, 0.02505437, 0.0129049 , 0.02186896, 0.01511917,\n",
       "       0.02312601, 0.01495791, 0.01440355, 0.01694178, 0.0225806 ,\n",
       "       0.0379435 , 0.01619189, 0.01629987])"
      ]
     },
     "execution_count": 402,
     "metadata": {},
     "output_type": "execute_result"
    }
   ],
   "source": [
    "RF.feature_importances_"
   ]
  },
  {
   "cell_type": "code",
   "execution_count": 403,
   "metadata": {},
   "outputs": [
    {
     "data": {
      "text/plain": [
       "array(['aircon', 'free_wifi', 'kamar_mandi_dalam', 'Spring Bed_fkamar',\n",
       "       'Perabot_fkamar', 'TV_fkamar', 'Pemanas Air (Water Heater)_fkamar',\n",
       "       'Kulkas_fkamar', 'Keamanan_fkost', 'Parkir Motor_fkost',\n",
       "       'Ruang Tamu_fkost', 'Ruang Makan_fkost', 'Dapur_fkost',\n",
       "       'Air Minum_fkost', 'Pembantu_fkost', 'Parkir Mobil_fkost',\n",
       "       'Cuci Setrika_fkost', 'Mesin Cuci (Cuci Sendiri)_fkost',\n",
       "       'Televisi_fkost', 'jenis_Kost Campur', 'jenis_Kost Keluarga',\n",
       "       'jenis_Kost Putra', 'jenis_Kost Putri'], dtype=object)"
      ]
     },
     "execution_count": 403,
     "metadata": {},
     "output_type": "execute_result"
    }
   ],
   "source": [
    "RF.feature_names_in_"
   ]
  }
 ],
 "metadata": {
  "kernelspec": {
   "display_name": "Python 3.8.13 ('flaskui')",
   "language": "python",
   "name": "python3"
  },
  "language_info": {
   "codemirror_mode": {
    "name": "ipython",
    "version": 3
   },
   "file_extension": ".py",
   "mimetype": "text/x-python",
   "name": "python",
   "nbconvert_exporter": "python",
   "pygments_lexer": "ipython3",
   "version": "3.8.13"
  },
  "orig_nbformat": 4,
  "vscode": {
   "interpreter": {
    "hash": "8468a945814aeffd535e1d3fa22ffa25ae2a363af3badfa537b6a03c67f45312"
   }
  }
 },
 "nbformat": 4,
 "nbformat_minor": 2
}
